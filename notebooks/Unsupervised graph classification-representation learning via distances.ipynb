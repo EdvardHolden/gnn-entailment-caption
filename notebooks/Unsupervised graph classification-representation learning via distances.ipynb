{
 "cells": [
  {
   "cell_type": "markdown",
   "id": "c3899e19",
   "metadata": {},
   "source": [
    "# Unsupervised graph classification/representation learning via distances\n",
    "From: https://stellargraph.readthedocs.io/en/stable/demos/embeddings/gcn-unsupervised-graph-embeddings.html"
   ]
  },
  {
   "cell_type": "code",
   "execution_count": null,
   "id": "134f06b5",
   "metadata": {},
   "outputs": [],
   "source": []
  },
  {
   "cell_type": "code",
   "execution_count": null,
   "id": "e3f2e415",
   "metadata": {},
   "outputs": [],
   "source": []
  },
  {
   "cell_type": "markdown",
   "id": "79b02178",
   "metadata": {},
   "source": [
    "## Imports"
   ]
  },
  {
   "cell_type": "code",
   "execution_count": 1,
   "id": "156e5f4e",
   "metadata": {},
   "outputs": [
    {
     "name": "stderr",
     "output_type": "stream",
     "text": [
      "2021-12-28 21:47:36.764247: E tensorflow/stream_executor/cuda/cuda_driver.cc:271] failed call to cuInit: CUDA_ERROR_UNKNOWN: unknown error\n",
      "2021-12-28 21:47:36.764271: I tensorflow/stream_executor/cuda/cuda_diagnostics.cc:169] retrieving CUDA diagnostic information for host: kontor\n",
      "2021-12-28 21:47:36.764274: I tensorflow/stream_executor/cuda/cuda_diagnostics.cc:176] hostname: kontor\n",
      "2021-12-28 21:47:36.764375: I tensorflow/stream_executor/cuda/cuda_diagnostics.cc:200] libcuda reported version is: 470.86.0\n",
      "2021-12-28 21:47:36.764389: I tensorflow/stream_executor/cuda/cuda_diagnostics.cc:204] kernel reported version is: 470.86.0\n",
      "2021-12-28 21:47:36.764392: I tensorflow/stream_executor/cuda/cuda_diagnostics.cc:310] kernel version seems to match DSO: 470.86.0\n",
      "2021-12-28 21:47:36.764609: I tensorflow/core/platform/cpu_feature_guard.cc:142] This TensorFlow binary is optimized with oneAPI Deep Neural Network Library (oneDNN) to use the following CPU instructions in performance-critical operations:  AVX2 AVX512F FMA\n",
      "To enable them in other operations, rebuild TensorFlow with the appropriate compiler flags.\n"
     ]
    }
   ],
   "source": [
    "import stellargraph as sg\n",
    "import pandas as pd\n",
    "import numpy as np\n",
    "import networkx as nx\n",
    "import tensorflow as tf\n",
    "from tensorflow import keras\n",
    "\n",
    "from IPython.display import display, HTML\n",
    "\n",
    "from sklearn.linear_model import LogisticRegression\n",
    "from sklearn import model_selection"
   ]
  },
  {
   "cell_type": "markdown",
   "id": "9528b4d6",
   "metadata": {},
   "source": [
    "# Load Dataset"
   ]
  },
  {
   "cell_type": "code",
   "execution_count": 2,
   "id": "895267f7",
   "metadata": {},
   "outputs": [
    {
     "data": {
      "text/html": [
       "Each graph represents a protein and graph labels represent whether they are are enzymes or non-enzymes. The dataset includes 1113 graphs with 39 nodes and 73 edges on average for each graph. Graph nodes have 4 attributes (including a one-hot encoding of their label), and each graph is labelled as belonging to 1 of 2 classes."
      ],
      "text/plain": [
       "<IPython.core.display.HTML object>"
      ]
     },
     "metadata": {},
     "output_type": "display_data"
    },
    {
     "name": "stdout",
     "output_type": "stream",
     "text": [
      "StellarGraph: Undirected multigraph\n",
      " Nodes: 42, Edges: 162\n",
      "\n",
      " Node types:\n",
      "  default: [42]\n",
      "    Features: float32 vector, length 4\n",
      "    Edge types: default-default->default\n",
      "\n",
      " Edge types:\n",
      "    default-default->default: [162]\n",
      "        Weights: all 1 (default)\n",
      "        Features: none\n"
     ]
    }
   ],
   "source": [
    "dataset = sg.datasets.PROTEINS()\n",
    "display(HTML(dataset.description))\n",
    "graphs, graph_labels = dataset.load()\n",
    "\n",
    "graph_labels.value_counts().to_frame()\n",
    "\n",
    "print(graphs[0].info())"
   ]
  },
  {
   "cell_type": "markdown",
   "id": "0eccec85",
   "metadata": {},
   "source": [
    "# General Stats"
   ]
  },
  {
   "cell_type": "code",
   "execution_count": 3,
   "id": "0400edc0",
   "metadata": {},
   "outputs": [
    {
     "data": {
      "text/html": [
       "<div>\n",
       "<style scoped>\n",
       "    .dataframe tbody tr th:only-of-type {\n",
       "        vertical-align: middle;\n",
       "    }\n",
       "\n",
       "    .dataframe tbody tr th {\n",
       "        vertical-align: top;\n",
       "    }\n",
       "\n",
       "    .dataframe thead th {\n",
       "        text-align: right;\n",
       "    }\n",
       "</style>\n",
       "<table border=\"1\" class=\"dataframe\">\n",
       "  <thead>\n",
       "    <tr style=\"text-align: right;\">\n",
       "      <th></th>\n",
       "      <th>nodes</th>\n",
       "      <th>edges</th>\n",
       "    </tr>\n",
       "  </thead>\n",
       "  <tbody>\n",
       "    <tr>\n",
       "      <th>count</th>\n",
       "      <td>1113.0</td>\n",
       "      <td>1113.0</td>\n",
       "    </tr>\n",
       "    <tr>\n",
       "      <th>mean</th>\n",
       "      <td>39.1</td>\n",
       "      <td>145.6</td>\n",
       "    </tr>\n",
       "    <tr>\n",
       "      <th>std</th>\n",
       "      <td>45.8</td>\n",
       "      <td>169.3</td>\n",
       "    </tr>\n",
       "    <tr>\n",
       "      <th>min</th>\n",
       "      <td>4.0</td>\n",
       "      <td>10.0</td>\n",
       "    </tr>\n",
       "    <tr>\n",
       "      <th>25%</th>\n",
       "      <td>15.0</td>\n",
       "      <td>56.0</td>\n",
       "    </tr>\n",
       "    <tr>\n",
       "      <th>50%</th>\n",
       "      <td>26.0</td>\n",
       "      <td>98.0</td>\n",
       "    </tr>\n",
       "    <tr>\n",
       "      <th>75%</th>\n",
       "      <td>45.0</td>\n",
       "      <td>174.0</td>\n",
       "    </tr>\n",
       "    <tr>\n",
       "      <th>max</th>\n",
       "      <td>620.0</td>\n",
       "      <td>2098.0</td>\n",
       "    </tr>\n",
       "  </tbody>\n",
       "</table>\n",
       "</div>"
      ],
      "text/plain": [
       "        nodes   edges\n",
       "count  1113.0  1113.0\n",
       "mean     39.1   145.6\n",
       "std      45.8   169.3\n",
       "min       4.0    10.0\n",
       "25%      15.0    56.0\n",
       "50%      26.0    98.0\n",
       "75%      45.0   174.0\n",
       "max     620.0  2098.0"
      ]
     },
     "execution_count": 3,
     "metadata": {},
     "output_type": "execute_result"
    }
   ],
   "source": [
    "summary = pd.DataFrame(\n",
    "    [(g.number_of_nodes(), g.number_of_edges()) for g in graphs],\n",
    "    columns=[\"nodes\", \"edges\"],\n",
    ")\n",
    "summary.describe().round(1)"
   ]
  },
  {
   "cell_type": "markdown",
   "id": "fce50a18",
   "metadata": {},
   "source": [
    "# Create the model"
   ]
  },
  {
   "cell_type": "code",
   "execution_count": 4,
   "id": "ae0dae5a",
   "metadata": {},
   "outputs": [],
   "source": [
    "generator = sg.mapper.PaddedGraphGenerator(graphs)\n",
    "\n",
    "gc_model = sg.layer.GCNSupervisedGraphClassification(\n",
    "    [64, 32], [\"relu\", \"relu\"], generator, pool_all_layers=True\n",
    ")\n",
    "\n",
    "inp1, out1 = gc_model.in_out_tensors()\n",
    "inp2, out2 = gc_model.in_out_tensors()\n",
    "\n",
    "vec_distance = tf.norm(out1 - out2, axis=1)\n",
    "\n",
    "pair_model = keras.Model(inp1 + inp2, vec_distance)\n",
    "embedding_model = keras.Model(inp1, out1)"
   ]
  },
  {
   "cell_type": "markdown",
   "id": "5ec2be37",
   "metadata": {},
   "source": [
    "### Graph distance"
   ]
  },
  {
   "cell_type": "code",
   "execution_count": 5,
   "id": "ef7cadf0",
   "metadata": {},
   "outputs": [],
   "source": [
    "def graph_distance(graph1, graph2):\n",
    "    spec1 = nx.laplacian_spectrum(graph1.to_networkx(feature_attr=None))\n",
    "    spec2 = nx.laplacian_spectrum(graph2.to_networkx(feature_attr=None))\n",
    "    k = min(len(spec1), len(spec2))\n",
    "    return np.linalg.norm(spec1[:k] - spec2[:k])"
   ]
  },
  {
   "cell_type": "markdown",
   "id": "ddb8745d",
   "metadata": {},
   "source": [
    "## Training examples"
   ]
  },
  {
   "cell_type": "code",
   "execution_count": 6,
   "id": "5de4bed7",
   "metadata": {},
   "outputs": [],
   "source": [
    "graph_idx = np.random.RandomState(0).randint(len(graphs), size=(100, 2))\n",
    "\n",
    "targets = [graph_distance(graphs[left], graphs[right]) for left, right in graph_idx]\n",
    "\n",
    "train_gen = generator.flow(graph_idx, batch_size=10, targets=targets)"
   ]
  },
  {
   "cell_type": "markdown",
   "id": "a2a8311f",
   "metadata": {},
   "source": [
    "# Training procedure\n"
   ]
  },
  {
   "cell_type": "code",
   "execution_count": 7,
   "id": "beb84c1a",
   "metadata": {},
   "outputs": [],
   "source": [
    "pair_model.compile(keras.optimizers.Adam(1e-2), loss=\"mse\")"
   ]
  },
  {
   "cell_type": "code",
   "execution_count": 8,
   "id": "df4fd602",
   "metadata": {},
   "outputs": [
    {
     "name": "stderr",
     "output_type": "stream",
     "text": [
      "2021-12-28 21:47:42.536410: I tensorflow/compiler/mlir/mlir_graph_optimization_pass.cc:185] None of the MLIR Optimization Passes are enabled (registered 2)\n"
     ]
    },
    {
     "name": "stdout",
     "output_type": "stream",
     "text": [
      "CPU times: user 1min 57s, sys: 12.1 s, total: 2min 9s\n",
      "Wall time: 40.9 s\n"
     ]
    },
    {
     "data": {
      "image/png": "[encoded data removed]",
      "text/plain": [
       "<Figure size 504x288 with 1 Axes>"
      ]
     },
     "metadata": {
      "needs_background": "light"
     },
     "output_type": "display_data"
    }
   ],
   "source": [
    "%%time\n",
    "history = pair_model.fit(train_gen, epochs=500, verbose=0)\n",
    "sg.utils.plot_history(history)"
   ]
  },
  {
   "cell_type": "markdown",
   "id": "fba4e616",
   "metadata": {},
   "source": [
    "## Compute embeddings\n"
   ]
  },
  {
   "cell_type": "code",
   "execution_count": 9,
   "id": "7b74dc3a",
   "metadata": {},
   "outputs": [],
   "source": [
    "embeddings = embedding_model.predict(generator.flow(graphs))"
   ]
  },
  {
   "cell_type": "markdown",
   "id": "9630f232",
   "metadata": {},
   "source": [
    "# Supervised graph classification\n"
   ]
  },
  {
   "cell_type": "code",
   "execution_count": 10,
   "id": "4ae25040",
   "metadata": {},
   "outputs": [
    {
     "name": "stdout",
     "output_type": "stream",
     "text": [
      "Test classification accuracy: 0.6816367265469062\n"
     ]
    },
    {
     "name": "stderr",
     "output_type": "stream",
     "text": [
      "/home/eholden/.pyenv/versions/3.7.5/lib/python3.7/site-packages/sklearn/linear_model/_logistic.py:765: ConvergenceWarning: lbfgs failed to converge (status=1):\n",
      "STOP: TOTAL NO. of ITERATIONS REACHED LIMIT.\n",
      "\n",
      "Increase the number of iterations (max_iter) or scale the data as shown in:\n",
      "    https://scikit-learn.org/stable/modules/preprocessing.html\n",
      "Please also refer to the documentation for alternative solver options:\n",
      "    https://scikit-learn.org/stable/modules/linear_model.html#logistic-regression\n",
      "  extra_warning_msg=_LOGISTIC_SOLVER_CONVERGENCE_MSG)\n"
     ]
    }
   ],
   "source": [
    "train_labels, test_labels = model_selection.train_test_split(\n",
    "    graph_labels, train_size=0.1, test_size=None, stratify=graph_labels\n",
    ")\n",
    "\n",
    "test_embeddings = embeddings[test_labels.index - 1]\n",
    "train_embeddings = embeddings[train_labels.index - 1]\n",
    "\n",
    "lr = LogisticRegression(multi_class=\"auto\", solver=\"lbfgs\")\n",
    "lr.fit(train_embeddings, train_labels)\n",
    "\n",
    "y_pred = lr.predict(test_embeddings)\n",
    "gcn_acc = (y_pred == test_labels).mean()\n",
    "print(f\"Test classification accuracy: {gcn_acc}\")"
   ]
  },
  {
   "cell_type": "code",
   "execution_count": 11,
   "id": "30676694",
   "metadata": {},
   "outputs": [
    {
     "data": {
      "text/html": [
       "<div>\n",
       "<style scoped>\n",
       "    .dataframe tbody tr th:only-of-type {\n",
       "        vertical-align: middle;\n",
       "    }\n",
       "\n",
       "    .dataframe tbody tr th {\n",
       "        vertical-align: top;\n",
       "    }\n",
       "\n",
       "    .dataframe thead th {\n",
       "        text-align: right;\n",
       "    }\n",
       "</style>\n",
       "<table border=\"1\" class=\"dataframe\">\n",
       "  <thead>\n",
       "    <tr style=\"text-align: right;\">\n",
       "      <th>predicted</th>\n",
       "      <th>1</th>\n",
       "      <th>2</th>\n",
       "    </tr>\n",
       "    <tr>\n",
       "      <th>true</th>\n",
       "      <th></th>\n",
       "      <th></th>\n",
       "    </tr>\n",
       "  </thead>\n",
       "  <tbody>\n",
       "    <tr>\n",
       "      <th>1</th>\n",
       "      <td>494</td>\n",
       "      <td>103</td>\n",
       "    </tr>\n",
       "    <tr>\n",
       "      <th>2</th>\n",
       "      <td>216</td>\n",
       "      <td>189</td>\n",
       "    </tr>\n",
       "  </tbody>\n",
       "</table>\n",
       "</div>"
      ],
      "text/plain": [
       "predicted    1    2\n",
       "true               \n",
       "1          494  103\n",
       "2          216  189"
      ]
     },
     "execution_count": 11,
     "metadata": {},
     "output_type": "execute_result"
    }
   ],
   "source": [
    "pd.crosstab(test_labels, y_pred, rownames=[\"true\"], colnames=[\"predicted\"])"
   ]
  },
  {
   "cell_type": "markdown",
   "id": "592dee95",
   "metadata": {},
   "source": [
    "# Visualising embeddings\n"
   ]
  },
  {
   "cell_type": "code",
   "execution_count": 12,
   "id": "9310af34",
   "metadata": {},
   "outputs": [],
   "source": [
    "from sklearn.manifold import TSNE\n",
    "\n",
    "tsne = TSNE(2)\n",
    "two_d = tsne.fit_transform(embeddings)"
   ]
  },
  {
   "cell_type": "code",
   "execution_count": 13,
   "id": "224356bb",
   "metadata": {},
   "outputs": [
    {
     "data": {
      "text/plain": [
       "<matplotlib.collections.PathCollection at 0x7f4f0c382810>"
      ]
     },
     "execution_count": 13,
     "metadata": {},
     "output_type": "execute_result"
    },
    {
     "data": {
      "image/png": "[encoded data removed]",
      "text/plain": [
       "<Figure size 432x288 with 1 Axes>"
      ]
     },
     "metadata": {
      "needs_background": "light"
     },
     "output_type": "display_data"
    }
   ],
   "source": [
    "from matplotlib import pyplot as plt\n",
    "\n",
    "plt.scatter(two_d[:, 0], two_d[:, 1], c=graph_labels.cat.codes, cmap=\"jet\", alpha=0.4)"
   ]
  },
  {
   "cell_type": "markdown",
   "id": "b0a04f9b",
   "metadata": {},
   "source": [
    "# Sandbox"
   ]
  },
  {
   "cell_type": "code",
   "execution_count": 14,
   "id": "9c457075",
   "metadata": {},
   "outputs": [],
   "source": [
    "from stellargraph import StellarGraph, StellarDiGraph\n",
    "import pandas as pd"
   ]
  },
  {
   "cell_type": "code",
   "execution_count": 31,
   "id": "38557761",
   "metadata": {},
   "outputs": [
    {
     "name": "stdout",
     "output_type": "stream",
     "text": [
      "[10, 11, 12, 13, 14, 15, 16, 17, 18, 19, 20, 21, 22, 23, 24, 25, 26, 27, 28, 29, 30, 31, 32, 33, 34, 35, 36, 37, 38, 39]\n",
      "StellarGraph: Undirected multigraph\n",
      " Nodes: 42, Edges: 162\n",
      "\n",
      " Node types:\n",
      "  default: [42]\n",
      "    Features: float32 vector, length 4\n",
      "    Edge types: default-default->default\n",
      "\n",
      " Edge types:\n",
      "    default-default->default: [162]\n",
      "        Weights: all 1 (default)\n",
      "        Features: none\n"
     ]
    }
   ],
   "source": [
    "# index = [0, 1, 2, 3, 4, 5, 6, 7, 8, 9, 10, 11, 12, 13, 14, 15, 16, 17, 18]\n",
    "index = list(range(10, 40))\n",
    "print(index)\n",
    "new = graphs[0]\n",
    "print(new.info())"
   ]
  },
  {
   "cell_type": "code",
   "execution_count": 38,
   "id": "d70091f5",
   "metadata": {},
   "outputs": [],
   "source": [
    "def prune_graph(graph, new_index):\n",
    "\n",
    "    # Extract subset of nodes\n",
    "    node_features = graph.node_features()[new_index]\n",
    "\n",
    "    # Only keep eges in the new subset (offset of 1)\n",
    "    edges = [(s - 1, t - 1) for s, t in graph.edges() if s - 1 in index and t - 1 in new_index]\n",
    "\n",
    "    x = pd.DataFrame(node_features, index=new_index)\n",
    "    # x.index = new_index\n",
    "    print(x)\n",
    "    edges = pd.DataFrame(edges, columns=[\"source\", \"target\"])\n",
    "\n",
    "    new_graph = StellarGraph(x, edges=edges)\n",
    "\n",
    "    return new_graph"
   ]
  },
  {
   "cell_type": "code",
   "execution_count": 39,
   "id": "bf4ad6f8",
   "metadata": {},
   "outputs": [
    {
     "name": "stdout",
     "output_type": "stream",
     "text": [
      "      0    1    2     3\n",
      "10  1.0  0.0  0.0   6.0\n",
      "11  1.0  0.0  0.0  22.0\n",
      "12  1.0  0.0  0.0   8.0\n",
      "13  1.0  0.0  0.0  26.0\n",
      "14  1.0  0.0  0.0   7.0\n",
      "15  1.0  0.0  0.0  12.0\n",
      "16  1.0  0.0  0.0  11.0\n",
      "17  1.0  0.0  0.0   5.0\n",
      "18  1.0  0.0  0.0   7.0\n",
      "19  1.0  0.0  0.0   8.0\n",
      "20  1.0  0.0  0.0   3.0\n",
      "21  1.0  0.0  0.0   6.0\n",
      "22  0.0  1.0  0.0   3.0\n",
      "23  0.0  1.0  0.0   9.0\n",
      "24  0.0  1.0  0.0  10.0\n",
      "25  0.0  1.0  0.0   7.0\n",
      "26  0.0  1.0  0.0  10.0\n",
      "27  0.0  1.0  0.0   8.0\n",
      "28  0.0  1.0  0.0   5.0\n",
      "29  0.0  1.0  0.0   4.0\n",
      "30  0.0  1.0  0.0   3.0\n",
      "31  0.0  1.0  0.0   3.0\n",
      "32  0.0  1.0  0.0   3.0\n",
      "33  0.0  1.0  0.0   9.0\n",
      "34  0.0  1.0  0.0  10.0\n",
      "35  0.0  1.0  0.0   7.0\n",
      "36  0.0  1.0  0.0  10.0\n",
      "37  0.0  1.0  0.0   8.0\n",
      "38  0.0  1.0  0.0   5.0\n",
      "39  0.0  1.0  0.0   4.0\n",
      "StellarGraph: Undirected multigraph\n",
      " Nodes: 30, Edges: 78\n",
      "\n",
      " Node types:\n",
      "  default: [30]\n",
      "    Features: float32 vector, length 4\n",
      "    Edge types: default-default->default\n",
      "\n",
      " Edge types:\n",
      "    default-default->default: [78]\n",
      "        Weights: all 1 (default)\n",
      "        Features: none\n"
     ]
    }
   ],
   "source": [
    "st = prune_graph(new, index)\n",
    "print(st.info())"
   ]
  },
  {
   "cell_type": "code",
   "execution_count": 40,
   "id": "28c1a50d",
   "metadata": {},
   "outputs": [
    {
     "ename": "AttributeError",
     "evalue": "'StellarGraph' object has no attribute 'test'",
     "output_type": "error",
     "traceback": [
      "\u001b[0;31m---------------------------------------------------------------------------\u001b[0m",
      "\u001b[0;31mAttributeError\u001b[0m                            Traceback (most recent call last)",
      "\u001b[0;32m/tmp/ipykernel_110270/1331045003.py\u001b[0m in \u001b[0;36m<module>\u001b[0;34m\u001b[0m\n\u001b[0;32m----> 1\u001b[0;31m \u001b[0mst\u001b[0m\u001b[0;34m.\u001b[0m\u001b[0mtest\u001b[0m\u001b[0;34m\u001b[0m\u001b[0;34m\u001b[0m\u001b[0m\n\u001b[0m",
      "\u001b[0;32m~/.pyenv/versions/3.7.5/lib/python3.7/site-packages/stellargraph/core/graph.py\u001b[0m in \u001b[0;36m__getattr__\u001b[0;34m(self, item)\u001b[0m\n\u001b[1;32m    599\u001b[0m             \u001b[0;31m# do the normal access, in case the attribute actually exists, and to get the native\u001b[0m\u001b[0;34m\u001b[0m\u001b[0;34m\u001b[0m\u001b[0;34m\u001b[0m\u001b[0m\n\u001b[1;32m    600\u001b[0m             \u001b[0;31m# python wording of the error\u001b[0m\u001b[0;34m\u001b[0m\u001b[0;34m\u001b[0m\u001b[0;34m\u001b[0m\u001b[0m\n\u001b[0;32m--> 601\u001b[0;31m             \u001b[0;32mreturn\u001b[0m \u001b[0msuper\u001b[0m\u001b[0;34m(\u001b[0m\u001b[0;34m)\u001b[0m\u001b[0;34m.\u001b[0m\u001b[0m__getattribute__\u001b[0m\u001b[0;34m(\u001b[0m\u001b[0mitem\u001b[0m\u001b[0;34m)\u001b[0m\u001b[0;34m\u001b[0m\u001b[0;34m\u001b[0m\u001b[0m\n\u001b[0m\u001b[1;32m    602\u001b[0m         \u001b[0;32mexcept\u001b[0m \u001b[0mAttributeError\u001b[0m \u001b[0;32mas\u001b[0m \u001b[0me\u001b[0m\u001b[0;34m:\u001b[0m\u001b[0;34m\u001b[0m\u001b[0;34m\u001b[0m\u001b[0m\n\u001b[1;32m    603\u001b[0m             \u001b[0;32mif\u001b[0m \u001b[0mhasattr\u001b[0m\u001b[0;34m(\u001b[0m\u001b[0mnetworkx\u001b[0m\u001b[0;34m.\u001b[0m\u001b[0mMultiDiGraph\u001b[0m\u001b[0;34m,\u001b[0m \u001b[0mitem\u001b[0m\u001b[0;34m)\u001b[0m\u001b[0;34m:\u001b[0m\u001b[0;34m\u001b[0m\u001b[0;34m\u001b[0m\u001b[0m\n",
      "\u001b[0;31mAttributeError\u001b[0m: 'StellarGraph' object has no attribute 'test'"
     ]
    }
   ],
   "source": [
    "st.test"
   ]
  },
  {
   "cell_type": "code",
   "execution_count": null,
   "id": "d5cb2e74",
   "metadata": {},
   "outputs": [],
   "source": [
    "embedding_model.predict(generator.flow([st]))"
   ]
  },
  {
   "cell_type": "code",
   "execution_count": null,
   "id": "b79c5545",
   "metadata": {},
   "outputs": [],
   "source": [
    "embedding_model.predict(generator.flow([graphs[0]]))"
   ]
  },
  {
   "cell_type": "code",
   "execution_count": null,
   "id": "4cc0c519",
   "metadata": {},
   "outputs": [],
   "source": [
    "st.test = [1, 2, 3, 4]"
   ]
  },
  {
   "cell_type": "code",
   "execution_count": null,
   "id": "09ac2544",
   "metadata": {},
   "outputs": [],
   "source": [
    "st.test"
   ]
  },
  {
   "cell_type": "code",
   "execution_count": null,
   "id": "3028a873",
   "metadata": {},
   "outputs": [],
   "source": [
    "print(st.info())"
   ]
  },
  {
   "cell_type": "code",
   "execution_count": null,
   "id": "e95e53fa",
   "metadata": {},
   "outputs": [],
   "source": []
  },
  {
   "cell_type": "code",
   "execution_count": null,
   "id": "02f0ac04",
   "metadata": {},
   "outputs": [],
   "source": [
    "embedding_model.save(\"saved_model\")"
   ]
  },
  {
   "cell_type": "code",
   "execution_count": null,
   "id": "369698e6",
   "metadata": {},
   "outputs": [],
   "source": []
  },
  {
   "cell_type": "code",
   "execution_count": null,
   "id": "680ab174",
   "metadata": {},
   "outputs": [],
   "source": []
  },
  {
   "cell_type": "code",
   "execution_count": null,
   "id": "524a6d59",
   "metadata": {},
   "outputs": [],
   "source": []
  }
 ],
 "metadata": {
  "kernelspec": {
   "display_name": "Python 3 (ipykernel)",
   "language": "python",
   "name": "python3"
  },
  "language_info": {
   "codemirror_mode": {
    "name": "ipython",
    "version": 3
   },
   "file_extension": ".py",
   "mimetype": "text/x-python",
   "name": "python",
   "nbconvert_exporter": "python",
   "pygments_lexer": "ipython3",
   "version": "3.10.8"
  }
 },
 "nbformat": 4,
 "nbformat_minor": 5
}
