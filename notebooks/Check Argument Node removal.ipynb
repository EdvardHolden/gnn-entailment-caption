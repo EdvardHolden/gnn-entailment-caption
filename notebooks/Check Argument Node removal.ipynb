{
 "cells": [
  {
   "cell_type": "code",
   "execution_count": null,
   "id": "da320dcf",
   "metadata": {},
   "outputs": [],
   "source": []
  },
  {
   "cell_type": "code",
   "execution_count": 1,
   "id": "d25b74fb",
   "metadata": {},
   "outputs": [],
   "source": [
    "import sys, os\n",
    "from pathlib import Path\n",
    "from collections import Counter\n",
    "\n",
    "sys.path.append(str(Path(os.path.abspath(\"\")).parent))\n",
    "import config"
   ]
  },
  {
   "cell_type": "code",
   "execution_count": 2,
   "id": "20b6926d",
   "metadata": {},
   "outputs": [],
   "source": [
    "from dataset import get_data_loader"
   ]
  },
  {
   "cell_type": "code",
   "execution_count": 3,
   "id": "effd9a6f",
   "metadata": {},
   "outputs": [],
   "source": [
    "import config"
   ]
  },
  {
   "cell_type": "code",
   "execution_count": 4,
   "id": "f2a6d80a",
   "metadata": {},
   "outputs": [
    {
     "data": {
      "text/plain": [
       "{0: 'True',\n",
       " 1: 'False',\n",
       " 2: 'Variable',\n",
       " 3: 'Functor',\n",
       " 4: 'Argument',\n",
       " 5: 'Application',\n",
       " 6: 'Equality',\n",
       " 7: 'Negation',\n",
       " 8: 'And',\n",
       " 9: 'Or',\n",
       " 10: 'Equivalent',\n",
       " 11: 'Forall',\n",
       " 12: 'Exists',\n",
       " 13: 'Axiom',\n",
       " 14: 'Conjecture'}"
      ]
     },
     "execution_count": 4,
     "metadata": {},
     "output_type": "execute_result"
    }
   ],
   "source": [
    "config.NODE_TYPE"
   ]
  },
  {
   "cell_type": "code",
   "execution_count": null,
   "id": "d91ed846",
   "metadata": {},
   "outputs": [],
   "source": []
  },
  {
   "cell_type": "code",
   "execution_count": null,
   "id": "bbfd4055",
   "metadata": {},
   "outputs": [],
   "source": []
  },
  {
   "cell_type": "code",
   "execution_count": 5,
   "id": "c07ad2e1",
   "metadata": {},
   "outputs": [],
   "source": [
    "ids = '../id_files/dev_100.txt'"
   ]
  },
  {
   "cell_type": "code",
   "execution_count": null,
   "id": "fd8a0920",
   "metadata": {},
   "outputs": [],
   "source": []
  },
  {
   "cell_type": "code",
   "execution_count": 6,
   "id": "4ed4d899",
   "metadata": {},
   "outputs": [
    {
     "name": "stdout",
     "output_type": "stream",
     "text": [
      "{'remove_argument_node': False}\n",
      "Dataset: TorchLoadDataset(100)\n",
      "{'remove_argument_node': True}\n",
      "Dataset: TorchLoadDataset(100)\n"
     ]
    }
   ],
   "source": [
    "data = get_data_loader(ids, batch_size=8, shuffle=False, remove_argument_node=False)\n",
    "data_rm = get_data_loader(ids, batch_size=8, shuffle=False, remove_argument_node=True)"
   ]
  },
  {
   "cell_type": "code",
   "execution_count": 7,
   "id": "2d4db88e",
   "metadata": {},
   "outputs": [
    {
     "name": "stdout",
     "output_type": "stream",
     "text": [
      "DataBatch(x=[2380], edge_index=[2, 3938], premise_index=[16], conjecture_index=[8], name=[8], y=[16], batch=[2380], ptr=[9])\n"
     ]
    },
    {
     "data": {
      "text/plain": [
       "['l102_geomtrap',\n",
       " 'l102_toprealb',\n",
       " 'l10_algstr_1',\n",
       " 'l10_ami_wstd',\n",
       " 'l10_asympt_1',\n",
       " 'l10_ens_1',\n",
       " 'l10_flang_1',\n",
       " 'l10_fomodel0']"
      ]
     },
     "execution_count": 7,
     "metadata": {},
     "output_type": "execute_result"
    }
   ],
   "source": [
    "batch = next(iter(data))\n",
    "print(batch)\n",
    "batch.name"
   ]
  },
  {
   "cell_type": "code",
   "execution_count": 8,
   "id": "5a5a4878",
   "metadata": {},
   "outputs": [
    {
     "name": "stdout",
     "output_type": "stream",
     "text": [
      "DataBatch(x=[1543], edge_index=[2, 2710], premise_index=[16], conjecture_index=[8], name=[8], y=[16], batch=[1543], ptr=[9])\n"
     ]
    },
    {
     "data": {
      "text/plain": [
       "['l102_geomtrap',\n",
       " 'l102_toprealb',\n",
       " 'l10_algstr_1',\n",
       " 'l10_ami_wstd',\n",
       " 'l10_asympt_1',\n",
       " 'l10_ens_1',\n",
       " 'l10_flang_1',\n",
       " 'l10_fomodel0']"
      ]
     },
     "execution_count": 8,
     "metadata": {},
     "output_type": "execute_result"
    }
   ],
   "source": [
    "batch_rm = next(iter(data_rm))\n",
    "print(batch_rm)\n",
    "batch_rm.name"
   ]
  },
  {
   "cell_type": "code",
   "execution_count": null,
   "id": "a32aa34d",
   "metadata": {},
   "outputs": [],
   "source": []
  },
  {
   "cell_type": "code",
   "execution_count": 9,
   "id": "a28d592e",
   "metadata": {},
   "outputs": [
    {
     "name": "stdout",
     "output_type": "stream",
     "text": [
      "2 139 Variable\n",
      "3 116 Functor\n",
      "5 468 Application\n",
      "6 101 Equality\n",
      "7 204 Negation\n",
      "8 190 And\n",
      "9 156 Or\n",
      "10 2 Equivalent\n",
      "11 142 Forall\n",
      "12 1 Exists\n",
      "13 16 Axiom\n",
      "14 8 Conjecture\n"
     ]
    }
   ],
   "source": [
    "c_rm = Counter(batch_rm.x.detach().numpy())\n",
    "\n",
    "for key in sorted(c_rm):\n",
    "    print(key, c_rm[key], config.NODE_TYPE[key])"
   ]
  },
  {
   "cell_type": "code",
   "execution_count": 10,
   "id": "f5ee9b8e",
   "metadata": {},
   "outputs": [
    {
     "name": "stdout",
     "output_type": "stream",
     "text": [
      "2 139 Variable\n",
      "3 116 Functor\n",
      "4 837 Argument\n",
      "5 468 Application\n",
      "6 101 Equality\n",
      "7 204 Negation\n",
      "8 190 And\n",
      "9 156 Or\n",
      "10 2 Equivalent\n",
      "11 142 Forall\n",
      "12 1 Exists\n",
      "13 16 Axiom\n",
      "14 8 Conjecture\n"
     ]
    }
   ],
   "source": [
    "c = Counter(batch.x.detach().numpy())\n",
    "\n",
    "for key in sorted(c):\n",
    "    print(key, c[key], config.NODE_TYPE[key])"
   ]
  },
  {
   "cell_type": "code",
   "execution_count": null,
   "id": "0f6a383b",
   "metadata": {},
   "outputs": [],
   "source": []
  },
  {
   "cell_type": "code",
   "execution_count": 11,
   "id": "9ae4b27c",
   "metadata": {},
   "outputs": [
    {
     "data": {
      "text/plain": [
       "[2, 3, 4, 5, 6, 7, 8, 9, 10, 11, 12, 13, 14]"
      ]
     },
     "execution_count": 11,
     "metadata": {},
     "output_type": "execute_result"
    }
   ],
   "source": [
    "sorted(c)"
   ]
  },
  {
   "cell_type": "code",
   "execution_count": null,
   "id": "e4760a5a",
   "metadata": {},
   "outputs": [],
   "source": []
  },
  {
   "cell_type": "code",
   "execution_count": null,
   "id": "a00c58a5",
   "metadata": {},
   "outputs": [],
   "source": []
  }
 ],
 "metadata": {
  "kernelspec": {
   "display_name": "Python 3 (ipykernel)",
   "language": "python",
   "name": "python3"
  },
  "language_info": {
   "codemirror_mode": {
    "name": "ipython",
    "version": 3
   },
   "file_extension": ".py",
   "mimetype": "text/x-python",
   "name": "python",
   "nbconvert_exporter": "python",
   "pygments_lexer": "ipython3",
   "version": "3.10.8"
  }
 },
 "nbformat": 4,
 "nbformat_minor": 5
}
