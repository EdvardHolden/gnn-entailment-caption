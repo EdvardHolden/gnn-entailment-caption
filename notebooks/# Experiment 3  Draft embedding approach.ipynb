{
 "cells": [
  {
   "cell_type": "code",
   "execution_count": 1,
   "id": "955ca226",
   "metadata": {},
   "outputs": [],
   "source": [
    "import sys, os\n",
    "from pathlib import Path\n",
    "\n",
    "sys.path.append(str(Path(os.path.abspath(\"\")).parent))\n",
    "import config"
   ]
  },
  {
   "cell_type": "code",
   "execution_count": 2,
   "id": "ce68cf07",
   "metadata": {},
   "outputs": [],
   "source": [
    "from dataset import get_data_loader, LearningTask\n",
    "from transfer_learning import get_node_embeddings, get_premise_embeddings, load_model\n",
    "from train import get_model"
   ]
  },
  {
   "cell_type": "code",
   "execution_count": 3,
   "id": "b21eb76a",
   "metadata": {},
   "outputs": [],
   "source": [
    "PREMISE_MODEL_DIR = '../' + 'experiments/thesis/graph_depth/premise/num_convolutional_layers_1/'\n",
    "SIMILARITY_MODEL_DIR = '../' + 'experiments/thesis/graph_depth/similarity/num_convolutional_layers_1/'\n",
    "\n",
    "IDS = '../' + 'id_files/validation.txt'\n",
    "\n",
    "dataset_params = {}"
   ]
  },
  {
   "cell_type": "code",
   "execution_count": 4,
   "id": "9de75a1c",
   "metadata": {},
   "outputs": [],
   "source": [
    "EXPERIMENT_DIR = 'experiments/thesis/transfer/to_premise '"
   ]
  },
  {
   "cell_type": "code",
   "execution_count": 5,
   "id": "10408a1b",
   "metadata": {},
   "outputs": [],
   "source": [
    "model_path = SIMILARITY_MODEL_DIR\n",
    "model_task = LearningTask.SIMILARITY"
   ]
  },
  {
   "cell_type": "code",
   "execution_count": 6,
   "id": "b8b09b14",
   "metadata": {},
   "outputs": [
    {
     "name": "stdout",
     "output_type": "stream",
     "text": [
      "Dataset: TorchMemoryDataset(2465)\n"
     ]
    }
   ],
   "source": [
    "new_task = LearningTask.PREMISE\n",
    "# Can keep same dataset for both (if transforms are the same)\n",
    "dataset = get_data_loader(IDS, task=new_task, batch_size=config.BATCH_SIZE, shuffle=True, in_memory=True, **dataset_params)"
   ]
  },
  {
   "cell_type": "code",
   "execution_count": 7,
   "id": "7a921ce4",
   "metadata": {},
   "outputs": [],
   "source": [
    "def get_transfer_model(model_path, model_task, new_task):\n",
    "    \n",
    "    # Load trained model\n",
    "    gnn_model = load_model(model_path, model_task)\n",
    "\n",
    "    # Get same model as previous - but for the new task\n",
    "    new_model = get_model(model_path, new_task)\n",
    "\n",
    "    # Set the embedding and gcn layers\n",
    "    new_model.node_embedding = gnn_model.node_embedding\n",
    "    new_model.gcn = gnn_model.gcn\n",
    "\n",
    "\n",
    "    # Make these components non-trainable - only want to train the dense output layer\n",
    "    for param in gnn_model.node_embedding.parameters():\n",
    "        param.requires_grad = False\n",
    "\n",
    "\n",
    "    for param in gnn_model.gcn.parameters():\n",
    "        param.requires_grad = False\n",
    "        \n",
    "    return new_model"
   ]
  },
  {
   "cell_type": "code",
   "execution_count": null,
   "id": "c0702ef4",
   "metadata": {},
   "outputs": [],
   "source": []
  },
  {
   "cell_type": "code",
   "execution_count": null,
   "id": "0a11921e",
   "metadata": {},
   "outputs": [],
   "source": []
  },
  {
   "cell_type": "code",
   "execution_count": null,
   "id": "2a8ec438",
   "metadata": {},
   "outputs": [],
   "source": []
  },
  {
   "cell_type": "code",
   "execution_count": null,
   "id": "7de1263b",
   "metadata": {},
   "outputs": [],
   "source": []
  },
  {
   "cell_type": "code",
   "execution_count": null,
   "id": "61c0ea1a",
   "metadata": {},
   "outputs": [],
   "source": []
  },
  {
   "cell_type": "code",
   "execution_count": null,
   "id": "bddd3491",
   "metadata": {},
   "outputs": [],
   "source": []
  },
  {
   "cell_type": "code",
   "execution_count": 8,
   "id": "1e63f7e6",
   "metadata": {},
   "outputs": [
    {
     "data": {
      "text/plain": [
       "GNNStack(\n",
       "  (node_embedding): Embedding(15, 64)\n",
       "  (gcn): GCNDirectional(\n",
       "    (convs): ModuleList(\n",
       "      (0): GCNConv(64, 64)\n",
       "    )\n",
       "    (lns): ModuleList()\n",
       "  )\n",
       "  (post_mp): DenseOutput(\n",
       "    (lin): ModuleList(\n",
       "      (0): Linear(in_features=64, out_features=64, bias=True)\n",
       "      (1): Linear(in_features=64, out_features=64, bias=True)\n",
       "    )\n",
       "    (out): Linear(in_features=64, out_features=1, bias=True)\n",
       "  )\n",
       ")"
      ]
     },
     "execution_count": 8,
     "metadata": {},
     "output_type": "execute_result"
    }
   ],
   "source": [
    "get_transfer_model(model_path, model_task, new_task)"
   ]
  },
  {
   "cell_type": "code",
   "execution_count": null,
   "id": "5a2fbeff",
   "metadata": {},
   "outputs": [],
   "source": []
  },
  {
   "cell_type": "code",
   "execution_count": null,
   "id": "ecb59a0d",
   "metadata": {},
   "outputs": [],
   "source": []
  },
  {
   "cell_type": "code",
   "execution_count": null,
   "id": "dbf5e9a1",
   "metadata": {},
   "outputs": [],
   "source": []
  },
  {
   "cell_type": "code",
   "execution_count": null,
   "id": "e3e9acec",
   "metadata": {},
   "outputs": [],
   "source": []
  },
  {
   "cell_type": "code",
   "execution_count": null,
   "id": "c3a961d7",
   "metadata": {},
   "outputs": [],
   "source": []
  },
  {
   "cell_type": "code",
   "execution_count": 9,
   "id": "070c5f0c",
   "metadata": {},
   "outputs": [
    {
     "ename": "NameError",
     "evalue": "name 'new_model' is not defined",
     "output_type": "error",
     "traceback": [
      "\u001b[0;31m---------------------------------------------------------------------------\u001b[0m",
      "\u001b[0;31mNameError\u001b[0m                                 Traceback (most recent call last)",
      "Cell \u001b[0;32mIn[9], line 1\u001b[0m\n\u001b[0;32m----> 1\u001b[0m \u001b[43mnew_model\u001b[49m(\u001b[38;5;28mnext\u001b[39m(\u001b[38;5;28miter\u001b[39m(dataset)))\n",
      "\u001b[0;31mNameError\u001b[0m: name 'new_model' is not defined"
     ]
    }
   ],
   "source": [
    "new_model(next(iter(dataset)))"
   ]
  },
  {
   "cell_type": "code",
   "execution_count": null,
   "id": "654e8ecd",
   "metadata": {},
   "outputs": [],
   "source": []
  },
  {
   "cell_type": "code",
   "execution_count": null,
   "id": "f7b58cb0",
   "metadata": {},
   "outputs": [],
   "source": []
  },
  {
   "cell_type": "code",
   "execution_count": null,
   "id": "daf91aaa",
   "metadata": {},
   "outputs": [],
   "source": []
  },
  {
   "cell_type": "code",
   "execution_count": null,
   "id": "aca30ef7",
   "metadata": {},
   "outputs": [],
   "source": []
  },
  {
   "cell_type": "code",
   "execution_count": null,
   "id": "b4d4a8a2",
   "metadata": {},
   "outputs": [],
   "source": []
  }
 ],
 "metadata": {
  "kernelspec": {
   "display_name": "Python 3 (ipykernel)",
   "language": "python",
   "name": "python3"
  },
  "language_info": {
   "codemirror_mode": {
    "name": "ipython",
    "version": 3
   },
   "file_extension": ".py",
   "mimetype": "text/x-python",
   "name": "python",
   "nbconvert_exporter": "python",
   "pygments_lexer": "ipython3",
   "version": "3.10.8"
  }
 },
 "nbformat": 4,
 "nbformat_minor": 5
}
