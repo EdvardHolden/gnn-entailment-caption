{
 "cells": [
  {
   "cell_type": "markdown",
   "id": "0c9ea6ec",
   "metadata": {},
   "source": [
    "# Compute graph topology"
   ]
  },
  {
   "cell_type": "code",
   "execution_count": null,
   "id": "559ab3c2",
   "metadata": {},
   "outputs": [],
   "source": []
  },
  {
   "cell_type": "markdown",
   "id": "a10be806",
   "metadata": {},
   "source": [
    "\n",
    "\n",
    "## Imports \n",
    "\n"
   ]
  },
  {
   "cell_type": "code",
   "execution_count": 1,
   "id": "136295ff",
   "metadata": {
    "execution": {
     "iopub.execute_input": "2023-07-17T15:18:12.586028Z",
     "iopub.status.busy": "2023-07-17T15:18:12.585303Z",
     "iopub.status.idle": "2023-07-17T15:18:12.740243Z",
     "shell.execute_reply": "2023-07-17T15:18:12.739712Z"
    }
   },
   "outputs": [],
   "source": [
    "import sys\n",
    "import os\n",
    "from pathlib import Path\n",
    "import networkx as nx\n",
    "import numpy as np\n",
    "import pickle\n",
    "\n",
    "from joblib import Parallel, delayed\n",
    "from collections import ChainMap"
   ]
  },
  {
   "cell_type": "code",
   "execution_count": 2,
   "id": "8d8a578e",
   "metadata": {
    "execution": {
     "iopub.execute_input": "2023-07-17T15:18:12.742915Z",
     "iopub.status.busy": "2023-07-17T15:18:12.742488Z",
     "iopub.status.idle": "2023-07-17T15:18:13.746285Z",
     "shell.execute_reply": "2023-07-17T15:18:13.745793Z"
    }
   },
   "outputs": [],
   "source": [
    "sys.path.append(str(Path(os.path.abspath(\"\")).parent))\n",
    "\n",
    "import config\n",
    "from dataset import load_ids\n",
    "from dataset import _process_problem"
   ]
  },
  {
   "cell_type": "code",
   "execution_count": 3,
   "id": "89c9a65f",
   "metadata": {
    "execution": {
     "iopub.execute_input": "2023-07-17T15:18:13.748199Z",
     "iopub.status.busy": "2023-07-17T15:18:13.747966Z",
     "iopub.status.idle": "2023-07-17T15:18:13.753372Z",
     "shell.execute_reply": "2023-07-17T15:18:13.752968Z"
    }
   },
   "outputs": [
    {
     "name": "stdout",
     "output_type": "stream",
     "text": [
      "Number of problems 22179\n"
     ]
    }
   ],
   "source": [
    "#ID_FILE = '../id_files/deepmath.txt'\n",
    "ID_FILE = '../id_files/train.txt'\n",
    "\n",
    "ids = load_ids(ID_FILE)\n",
    "\n",
    "#ids = ids[:10] # FIXME\n",
    "print('Number of problems', len(ids))"
   ]
  },
  {
   "cell_type": "code",
   "execution_count": 4,
   "id": "96919532",
   "metadata": {
    "execution": {
     "iopub.execute_input": "2023-07-17T15:18:13.755093Z",
     "iopub.status.busy": "2023-07-17T15:18:13.754783Z",
     "iopub.status.idle": "2023-07-17T15:18:13.759136Z",
     "shell.execute_reply": "2023-07-17T15:18:13.758799Z"
    }
   },
   "outputs": [],
   "source": [
    "#ids"
   ]
  },
  {
   "cell_type": "markdown",
   "id": "a42d354f",
   "metadata": {},
   "source": [
    "## Statistics computation function"
   ]
  },
  {
   "cell_type": "code",
   "execution_count": 5,
   "id": "72fb6ca6",
   "metadata": {
    "execution": {
     "iopub.execute_input": "2023-07-17T15:18:13.760862Z",
     "iopub.status.busy": "2023-07-17T15:18:13.760576Z",
     "iopub.status.idle": "2023-07-17T15:18:13.765201Z",
     "shell.execute_reply": "2023-07-17T15:18:13.764842Z"
    }
   },
   "outputs": [],
   "source": [
    "def compute_stats(i: str):\n",
    "    \n",
    "    res = {i: {}}\n",
    "\n",
    "    try:\n",
    "        data = _process_problem(i, config.PROBLEM_DIR, remove_argument_node=False)\n",
    "\n",
    "        G = nx.Graph()    \n",
    "        sources = np.array(data.edge_index[0].detach())\n",
    "        targets = np.array(data.edge_index[1].detach())\n",
    "        G.add_edges_from(list(zip(sources, targets)))\n",
    "\n",
    "        # Compute max, min, avg of degrees\n",
    "        degrees = list((dict(G.degree).values()))\n",
    "        degree_stats = {'Degree max': max(degrees), 'Degree min': min(degrees), 'Degree mean': np.mean(degrees)}\n",
    "        res[i].update(degree_stats)\n",
    "\n",
    "        # Number of nodes and edges\n",
    "        res[i].update({'No Edges': len(data.edge_index[0])})\n",
    "        res[i].update({'No Nodes': len(data.x)})\n",
    "\n",
    "        # Number of axioms\n",
    "        res[i].update({'No Axioms': len(data.premise_index)})\n",
    "\n",
    "        # Average shortest vertex-vertex distance\n",
    "        if nx.is_connected(G): # Fails if not connected - just ignore\n",
    "            nx.average_clustering(G)\n",
    "            res[i].update({'Average geodesic': nx.average_shortest_path_length(G)})\n",
    "\n",
    "        # Average cluster\n",
    "        res[i].update({'Cluster coefficient': nx.average_clustering(G)})\n",
    "\n",
    "        # Degree correlation\n",
    "        res[i].update({'Degree Correlation': nx.degree_pearson_correlation_coefficient(G)})\n",
    "\n",
    "        # Transitivity - fraction of all possible triangles\n",
    "        res[i].update({'Transitivity': nx.transitivity(G)})\n",
    "\n",
    "        # Communities - using Louvain method\n",
    "        res[i].update({'Communities': len(nx.community.louvain_communities(G, seed=7))})\n",
    "\n",
    "        # Diameter\n",
    "        res[i].update({'Diameter': nx.diameter(G)})\n",
    "    \n",
    "    except Exception:\n",
    "        return {i: -1}\n",
    "\n",
    "    return res"
   ]
  },
  {
   "cell_type": "code",
   "execution_count": null,
   "id": "463f67bf",
   "metadata": {},
   "outputs": [],
   "source": []
  },
  {
   "cell_type": "code",
   "execution_count": 6,
   "id": "d8082e8c",
   "metadata": {
    "execution": {
     "iopub.execute_input": "2023-07-17T15:18:13.767510Z",
     "iopub.status.busy": "2023-07-17T15:18:13.767337Z",
     "iopub.status.idle": "2023-07-17T15:18:27.958261Z",
     "shell.execute_reply": "2023-07-17T15:18:27.957613Z"
    }
   },
   "outputs": [
    {
     "ename": "KeyboardInterrupt",
     "evalue": "",
     "output_type": "error",
     "traceback": [
      "\u001b[0;31m---------------------------------------------------------------------------\u001b[0m",
      "\u001b[0;31mKeyboardInterrupt\u001b[0m                         Traceback (most recent call last)",
      "Cell \u001b[0;32mIn[6], line 1\u001b[0m\n\u001b[0;32m----> 1\u001b[0m result \u001b[38;5;241m=\u001b[39m \u001b[43mParallel\u001b[49m\u001b[43m(\u001b[49m\u001b[43mn_jobs\u001b[49m\u001b[38;5;241;43m=\u001b[39;49m\u001b[43mos\u001b[49m\u001b[38;5;241;43m.\u001b[39;49m\u001b[43mcpu_count\u001b[49m\u001b[43m(\u001b[49m\u001b[43m)\u001b[49m\u001b[43m \u001b[49m\u001b[38;5;241;43m-\u001b[39;49m\u001b[43m \u001b[49m\u001b[38;5;241;43m2\u001b[39;49m\u001b[43m)\u001b[49m\u001b[43m(\u001b[49m\u001b[43mdelayed\u001b[49m\u001b[43m(\u001b[49m\u001b[43mcompute_stats\u001b[49m\u001b[43m)\u001b[49m\u001b[43m(\u001b[49m\u001b[43mi\u001b[49m\u001b[43m)\u001b[49m\u001b[43m \u001b[49m\u001b[38;5;28;43;01mfor\u001b[39;49;00m\u001b[43m \u001b[49m\u001b[43mi\u001b[49m\u001b[43m \u001b[49m\u001b[38;5;129;43;01min\u001b[39;49;00m\u001b[43m \u001b[49m\u001b[43mids\u001b[49m\u001b[43m)\u001b[49m\n\u001b[1;32m      2\u001b[0m data \u001b[38;5;241m=\u001b[39m \u001b[38;5;28mdict\u001b[39m(ChainMap(\u001b[38;5;241m*\u001b[39mresult)) \u001b[38;5;66;03m# Convert lsit to dict of dict\u001b[39;00m\n",
      "File \u001b[0;32m~/.pyenv/versions/3.10.8/lib/python3.10/site-packages/joblib/parallel.py:1098\u001b[0m, in \u001b[0;36mParallel.__call__\u001b[0;34m(self, iterable)\u001b[0m\n\u001b[1;32m   1095\u001b[0m     \u001b[38;5;28mself\u001b[39m\u001b[38;5;241m.\u001b[39m_iterating \u001b[38;5;241m=\u001b[39m \u001b[38;5;28;01mFalse\u001b[39;00m\n\u001b[1;32m   1097\u001b[0m \u001b[38;5;28;01mwith\u001b[39;00m \u001b[38;5;28mself\u001b[39m\u001b[38;5;241m.\u001b[39m_backend\u001b[38;5;241m.\u001b[39mretrieval_context():\n\u001b[0;32m-> 1098\u001b[0m     \u001b[38;5;28;43mself\u001b[39;49m\u001b[38;5;241;43m.\u001b[39;49m\u001b[43mretrieve\u001b[49m\u001b[43m(\u001b[49m\u001b[43m)\u001b[49m\n\u001b[1;32m   1099\u001b[0m \u001b[38;5;66;03m# Make sure that we get a last message telling us we are done\u001b[39;00m\n\u001b[1;32m   1100\u001b[0m elapsed_time \u001b[38;5;241m=\u001b[39m time\u001b[38;5;241m.\u001b[39mtime() \u001b[38;5;241m-\u001b[39m \u001b[38;5;28mself\u001b[39m\u001b[38;5;241m.\u001b[39m_start_time\n",
      "File \u001b[0;32m~/.pyenv/versions/3.10.8/lib/python3.10/site-packages/joblib/parallel.py:975\u001b[0m, in \u001b[0;36mParallel.retrieve\u001b[0;34m(self)\u001b[0m\n\u001b[1;32m    973\u001b[0m \u001b[38;5;28;01mtry\u001b[39;00m:\n\u001b[1;32m    974\u001b[0m     \u001b[38;5;28;01mif\u001b[39;00m \u001b[38;5;28mgetattr\u001b[39m(\u001b[38;5;28mself\u001b[39m\u001b[38;5;241m.\u001b[39m_backend, \u001b[38;5;124m'\u001b[39m\u001b[38;5;124msupports_timeout\u001b[39m\u001b[38;5;124m'\u001b[39m, \u001b[38;5;28;01mFalse\u001b[39;00m):\n\u001b[0;32m--> 975\u001b[0m         \u001b[38;5;28mself\u001b[39m\u001b[38;5;241m.\u001b[39m_output\u001b[38;5;241m.\u001b[39mextend(\u001b[43mjob\u001b[49m\u001b[38;5;241;43m.\u001b[39;49m\u001b[43mget\u001b[49m\u001b[43m(\u001b[49m\u001b[43mtimeout\u001b[49m\u001b[38;5;241;43m=\u001b[39;49m\u001b[38;5;28;43mself\u001b[39;49m\u001b[38;5;241;43m.\u001b[39;49m\u001b[43mtimeout\u001b[49m\u001b[43m)\u001b[49m)\n\u001b[1;32m    976\u001b[0m     \u001b[38;5;28;01melse\u001b[39;00m:\n\u001b[1;32m    977\u001b[0m         \u001b[38;5;28mself\u001b[39m\u001b[38;5;241m.\u001b[39m_output\u001b[38;5;241m.\u001b[39mextend(job\u001b[38;5;241m.\u001b[39mget())\n",
      "File \u001b[0;32m~/.pyenv/versions/3.10.8/lib/python3.10/site-packages/joblib/_parallel_backends.py:567\u001b[0m, in \u001b[0;36mLokyBackend.wrap_future_result\u001b[0;34m(future, timeout)\u001b[0m\n\u001b[1;32m    564\u001b[0m \u001b[38;5;250m\u001b[39m\u001b[38;5;124;03m\"\"\"Wrapper for Future.result to implement the same behaviour as\u001b[39;00m\n\u001b[1;32m    565\u001b[0m \u001b[38;5;124;03mAsyncResults.get from multiprocessing.\"\"\"\u001b[39;00m\n\u001b[1;32m    566\u001b[0m \u001b[38;5;28;01mtry\u001b[39;00m:\n\u001b[0;32m--> 567\u001b[0m     \u001b[38;5;28;01mreturn\u001b[39;00m \u001b[43mfuture\u001b[49m\u001b[38;5;241;43m.\u001b[39;49m\u001b[43mresult\u001b[49m\u001b[43m(\u001b[49m\u001b[43mtimeout\u001b[49m\u001b[38;5;241;43m=\u001b[39;49m\u001b[43mtimeout\u001b[49m\u001b[43m)\u001b[49m\n\u001b[1;32m    568\u001b[0m \u001b[38;5;28;01mexcept\u001b[39;00m CfTimeoutError \u001b[38;5;28;01mas\u001b[39;00m e:\n\u001b[1;32m    569\u001b[0m     \u001b[38;5;28;01mraise\u001b[39;00m \u001b[38;5;167;01mTimeoutError\u001b[39;00m \u001b[38;5;28;01mfrom\u001b[39;00m \u001b[38;5;21;01me\u001b[39;00m\n",
      "File \u001b[0;32m~/.pyenv/versions/3.10.8/lib/python3.10/concurrent/futures/_base.py:453\u001b[0m, in \u001b[0;36mFuture.result\u001b[0;34m(self, timeout)\u001b[0m\n\u001b[1;32m    450\u001b[0m \u001b[38;5;28;01melif\u001b[39;00m \u001b[38;5;28mself\u001b[39m\u001b[38;5;241m.\u001b[39m_state \u001b[38;5;241m==\u001b[39m FINISHED:\n\u001b[1;32m    451\u001b[0m     \u001b[38;5;28;01mreturn\u001b[39;00m \u001b[38;5;28mself\u001b[39m\u001b[38;5;241m.\u001b[39m__get_result()\n\u001b[0;32m--> 453\u001b[0m \u001b[38;5;28;43mself\u001b[39;49m\u001b[38;5;241;43m.\u001b[39;49m\u001b[43m_condition\u001b[49m\u001b[38;5;241;43m.\u001b[39;49m\u001b[43mwait\u001b[49m\u001b[43m(\u001b[49m\u001b[43mtimeout\u001b[49m\u001b[43m)\u001b[49m\n\u001b[1;32m    455\u001b[0m \u001b[38;5;28;01mif\u001b[39;00m \u001b[38;5;28mself\u001b[39m\u001b[38;5;241m.\u001b[39m_state \u001b[38;5;129;01min\u001b[39;00m [CANCELLED, CANCELLED_AND_NOTIFIED]:\n\u001b[1;32m    456\u001b[0m     \u001b[38;5;28;01mraise\u001b[39;00m CancelledError()\n",
      "File \u001b[0;32m~/.pyenv/versions/3.10.8/lib/python3.10/threading.py:320\u001b[0m, in \u001b[0;36mCondition.wait\u001b[0;34m(self, timeout)\u001b[0m\n\u001b[1;32m    318\u001b[0m \u001b[38;5;28;01mtry\u001b[39;00m:    \u001b[38;5;66;03m# restore state no matter what (e.g., KeyboardInterrupt)\u001b[39;00m\n\u001b[1;32m    319\u001b[0m     \u001b[38;5;28;01mif\u001b[39;00m timeout \u001b[38;5;129;01mis\u001b[39;00m \u001b[38;5;28;01mNone\u001b[39;00m:\n\u001b[0;32m--> 320\u001b[0m         \u001b[43mwaiter\u001b[49m\u001b[38;5;241;43m.\u001b[39;49m\u001b[43macquire\u001b[49m\u001b[43m(\u001b[49m\u001b[43m)\u001b[49m\n\u001b[1;32m    321\u001b[0m         gotit \u001b[38;5;241m=\u001b[39m \u001b[38;5;28;01mTrue\u001b[39;00m\n\u001b[1;32m    322\u001b[0m     \u001b[38;5;28;01melse\u001b[39;00m:\n",
      "\u001b[0;31mKeyboardInterrupt\u001b[0m: "
     ]
    }
   ],
   "source": [
    "result = Parallel(n_jobs=os.cpu_count() - 2)(delayed(compute_stats)(i) for i in ids)\n",
    "data = dict(ChainMap(*result)) # Convert lsit to dict of dict"
   ]
  },
  {
   "cell_type": "code",
   "execution_count": null,
   "id": "62dbe15f",
   "metadata": {},
   "outputs": [],
   "source": []
  },
  {
   "cell_type": "code",
   "execution_count": null,
   "id": "28a5b543",
   "metadata": {
    "execution": {
     "iopub.execute_input": "2023-07-17T15:18:27.960643Z",
     "iopub.status.busy": "2023-07-17T15:18:27.960371Z",
     "iopub.status.idle": "2023-07-17T15:18:27.965933Z",
     "shell.execute_reply": "2023-07-17T15:18:27.965346Z"
    },
    "scrolled": true
   },
   "outputs": [],
   "source": [
    "#data"
   ]
  },
  {
   "cell_type": "code",
   "execution_count": null,
   "id": "7dfcff7f",
   "metadata": {},
   "outputs": [],
   "source": []
  },
  {
   "cell_type": "markdown",
   "id": "a1f223b6",
   "metadata": {},
   "source": [
    "## Save as a pickle"
   ]
  },
  {
   "cell_type": "code",
   "execution_count": null,
   "id": "0cfd376a",
   "metadata": {
    "execution": {
     "iopub.execute_input": "2023-07-17T15:18:27.967742Z",
     "iopub.status.busy": "2023-07-17T15:18:27.967581Z",
     "iopub.status.idle": "2023-07-17T15:18:27.970176Z",
     "shell.execute_reply": "2023-07-17T15:18:27.969807Z"
    }
   },
   "outputs": [],
   "source": [
    "with open('graph_top_stats.pickle', 'wb') as handle:\n",
    "    pickle.dump(data, handle, protocol=pickle.HIGHEST_PROTOCOL)"
   ]
  },
  {
   "cell_type": "code",
   "execution_count": null,
   "id": "0138c4c9",
   "metadata": {},
   "outputs": [],
   "source": []
  },
  {
   "cell_type": "code",
   "execution_count": null,
   "id": "f27a6fba",
   "metadata": {},
   "outputs": [],
   "source": []
  }
 ],
 "metadata": {
  "kernelspec": {
   "display_name": "Python 3 (ipykernel)",
   "language": "python",
   "name": "python3"
  },
  "language_info": {
   "codemirror_mode": {
    "name": "ipython",
    "version": 3
   },
   "file_extension": ".py",
   "mimetype": "text/x-python",
   "name": "python",
   "nbconvert_exporter": "python",
   "pygments_lexer": "ipython3",
   "version": "3.10.8"
  }
 },
 "nbformat": 4,
 "nbformat_minor": 5
}
