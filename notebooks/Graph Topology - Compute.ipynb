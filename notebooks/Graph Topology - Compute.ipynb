{
 "cells": [
  {
   "cell_type": "markdown",
   "id": "0c9ea6ec",
   "metadata": {},
   "source": [
    "# Compute graph topology"
   ]
  },
  {
   "cell_type": "code",
   "execution_count": null,
   "id": "559ab3c2",
   "metadata": {},
   "outputs": [],
   "source": []
  },
  {
   "cell_type": "markdown",
   "id": "a10be806",
   "metadata": {},
   "source": [
    "\n",
    "\n",
    "## Imports \n",
    "\n"
   ]
  },
  {
   "cell_type": "code",
   "execution_count": 1,
   "id": "136295ff",
   "metadata": {
    "execution": {
     "iopub.execute_input": "2023-07-17T15:18:12.586028Z",
     "iopub.status.busy": "2023-07-17T15:18:12.585303Z",
     "iopub.status.idle": "2023-07-17T15:18:12.740243Z",
     "shell.execute_reply": "2023-07-17T15:18:12.739712Z"
    }
   },
   "outputs": [],
   "source": [
    "import sys\n",
    "import os\n",
    "from pathlib import Path\n",
    "import networkx as nx\n",
    "import numpy as np\n",
    "import pickle\n",
    "\n",
    "from joblib import Parallel, delayed\n",
    "from collections import ChainMap"
   ]
  },
  {
   "cell_type": "code",
   "execution_count": 2,
   "id": "8d8a578e",
   "metadata": {
    "execution": {
     "iopub.execute_input": "2023-07-17T15:18:12.742915Z",
     "iopub.status.busy": "2023-07-17T15:18:12.742488Z",
     "iopub.status.idle": "2023-07-17T15:18:13.746285Z",
     "shell.execute_reply": "2023-07-17T15:18:13.745793Z"
    }
   },
   "outputs": [],
   "source": [
    "sys.path.append(str(Path(os.path.abspath(\"\")).parent))\n",
    "\n",
    "import config\n",
    "from dataset import load_ids\n",
    "from dataset import _process_problem"
   ]
  },
  {
   "cell_type": "code",
   "execution_count": 3,
   "id": "89c9a65f",
   "metadata": {
    "execution": {
     "iopub.execute_input": "2023-07-17T15:18:13.748199Z",
     "iopub.status.busy": "2023-07-17T15:18:13.747966Z",
     "iopub.status.idle": "2023-07-17T15:18:13.753372Z",
     "shell.execute_reply": "2023-07-17T15:18:13.752968Z"
    }
   },
   "outputs": [
    {
     "name": "stdout",
     "output_type": "stream",
     "text": [
      "Number of problems 10\n"
     ]
    }
   ],
   "source": [
    "#ID_FILE = '../id_files/deepmath.txt'\n",
    "ID_FILE = '../id_files/train.txt'\n",
    "\n",
    "ids = load_ids(ID_FILE)\n",
    "\n",
    "#ids = ids[:10] # FIXME\n",
    "print('Number of problems', len(ids))"
   ]
  },
  {
   "cell_type": "code",
   "execution_count": 4,
   "id": "96919532",
   "metadata": {
    "execution": {
     "iopub.execute_input": "2023-07-17T15:18:13.755093Z",
     "iopub.status.busy": "2023-07-17T15:18:13.754783Z",
     "iopub.status.idle": "2023-07-17T15:18:13.759136Z",
     "shell.execute_reply": "2023-07-17T15:18:13.758799Z"
    }
   },
   "outputs": [
    {
     "data": {
      "text/plain": [
       "['l16_msuhom_1',\n",
       " 't17_pdiff_3',\n",
       " 't46_intpro_1',\n",
       " 't12_circled1',\n",
       " 't20_zf_model',\n",
       " 't24_laplace',\n",
       " 't21_anproj_2',\n",
       " 't36_equation',\n",
       " 't52_quaterni',\n",
       " 't55_intpro_1']"
      ]
     },
     "execution_count": 4,
     "metadata": {},
     "output_type": "execute_result"
    }
   ],
   "source": [
    "ids"
   ]
  },
  {
   "cell_type": "markdown",
   "id": "a42d354f",
   "metadata": {},
   "source": [
    "## Statistics computation function"
   ]
  },
  {
   "cell_type": "code",
   "execution_count": 5,
   "id": "72fb6ca6",
   "metadata": {
    "execution": {
     "iopub.execute_input": "2023-07-17T15:18:13.760862Z",
     "iopub.status.busy": "2023-07-17T15:18:13.760576Z",
     "iopub.status.idle": "2023-07-17T15:18:13.765201Z",
     "shell.execute_reply": "2023-07-17T15:18:13.764842Z"
    }
   },
   "outputs": [],
   "source": [
    "def compute_stats(i: str):\n",
    "    \n",
    "    res = {i: {}}\n",
    "\n",
    "    data = _process_problem(i, config.PROBLEM_DIR, remove_argument_node=False)\n",
    "    \n",
    "    G = nx.Graph()    \n",
    "    sources = np.array(data.edge_index[0].detach())\n",
    "    targets = np.array(data.edge_index[1].detach())\n",
    "    G.add_edges_from(list(zip(sources, targets)))\n",
    "\n",
    "    # Compute max, min, avg of degrees\n",
    "    degrees = list((dict(G.degree).values()))\n",
    "    degree_stats = {'Degree max': max(degrees), 'Degree min': min(degrees), 'Degree mean': np.mean(degrees)}\n",
    "    res[i].update(degree_stats)\n",
    " \n",
    "    # Number of nodes and edges\n",
    "    res[i].update({'No Edges': len(data.edge_index[0])})\n",
    "    res[i].update({'No Nodes': len(data.x)})\n",
    "    \n",
    "    # Number of axioms\n",
    "    res[i].update({'No Axioms': len(data.premise_index)})\n",
    "    \n",
    "    # Average shortest vertex-vertex distance\n",
    "    nx.average_clustering(G)\n",
    "    res[i].update({'Average geodesic': nx.average_shortest_path_length(G)})\n",
    "    \n",
    "    # Average cluster\n",
    "    res[i].update({'Cluster coefficient': nx.average_clustering(G)})\n",
    "    \n",
    "    # Degree correlation\n",
    "    res[i].update({'Degree Correlation': nx.degree_pearson_correlation_coefficient(G)})\n",
    "    \n",
    "    # Transitivity - fraction of all possible triangles\n",
    "    res[i].update({'Transitivity': nx.transitivity(G)})\n",
    "\n",
    "    # Communities - using Louvain method\n",
    "    res[i].update({'Communities': len(nx.community.louvain_communities(G, seed=7))})\n",
    "    \n",
    "    # Diameter\n",
    "    res[i].update({'Diameter': nx.diameter(G)})\n",
    "    \n",
    "    return res"
   ]
  },
  {
   "cell_type": "code",
   "execution_count": null,
   "id": "463f67bf",
   "metadata": {},
   "outputs": [],
   "source": []
  },
  {
   "cell_type": "code",
   "execution_count": 6,
   "id": "d8082e8c",
   "metadata": {
    "execution": {
     "iopub.execute_input": "2023-07-17T15:18:13.767510Z",
     "iopub.status.busy": "2023-07-17T15:18:13.767337Z",
     "iopub.status.idle": "2023-07-17T15:18:27.958261Z",
     "shell.execute_reply": "2023-07-17T15:18:27.957613Z"
    }
   },
   "outputs": [],
   "source": [
    "result = Parallel(n_jobs=os.cpu_count() - 2)(delayed(compute_stats)(i) for i in ids)\n",
    "data = dict(ChainMap(*result)) # Convert lsit to dict of dict"
   ]
  },
  {
   "cell_type": "code",
   "execution_count": null,
   "id": "62dbe15f",
   "metadata": {},
   "outputs": [],
   "source": []
  },
  {
   "cell_type": "code",
   "execution_count": 7,
   "id": "28a5b543",
   "metadata": {
    "execution": {
     "iopub.execute_input": "2023-07-17T15:18:27.960643Z",
     "iopub.status.busy": "2023-07-17T15:18:27.960371Z",
     "iopub.status.idle": "2023-07-17T15:18:27.965933Z",
     "shell.execute_reply": "2023-07-17T15:18:27.965346Z"
    },
    "scrolled": true
   },
   "outputs": [
    {
     "data": {
      "text/plain": [
       "{'t55_intpro_1': {'Degree max': 26,\n",
       "  'Degree min': 1,\n",
       "  'Degree mean': 3.4790419161676644,\n",
       "  'No Edges': 581,\n",
       "  'No Nodes': 334,\n",
       "  'No Axioms': 8,\n",
       "  'Average geodesic': 5.215856575138012,\n",
       "  'Cluster coefficient': 0.18093812375249518,\n",
       "  'Degree Correlation': -0.090918420539323,\n",
       "  'Transitivity': 0.08887987012987013,\n",
       "  'Communities': 12,\n",
       "  'Diameter': 11},\n",
       " 't52_quaterni': {'Degree max': 20,\n",
       "  'Degree min': 1,\n",
       "  'Degree mean': 3.0225563909774436,\n",
       "  'No Edges': 603,\n",
       "  'No Nodes': 399,\n",
       "  'No Axioms': 20,\n",
       "  'Average geodesic': 6.005012531328321,\n",
       "  'Cluster coefficient': 0.03692564745196325,\n",
       "  'Degree Correlation': -0.16186107803403438,\n",
       "  'Transitivity': 0.029791459781529295,\n",
       "  'Communities': 17,\n",
       "  'Diameter': 14},\n",
       " 't36_equation': {'Degree max': 14,\n",
       "  'Degree min': 1,\n",
       "  'Degree mean': 3.4108527131782944,\n",
       "  'No Edges': 880,\n",
       "  'No Nodes': 516,\n",
       "  'No Axioms': 6,\n",
       "  'Average geodesic': 6.666275306690751,\n",
       "  'Cluster coefficient': 0.13908268733850146,\n",
       "  'Degree Correlation': -0.185394063093064,\n",
       "  'Transitivity': 0.11956521739130435,\n",
       "  'Communities': 12,\n",
       "  'Diameter': 13},\n",
       " 't21_anproj_2': {'Degree max': 154,\n",
       "  'Degree min': 1,\n",
       "  'Degree mean': 3.9516014234875443,\n",
       "  'No Edges': 2776,\n",
       "  'No Nodes': 1405,\n",
       "  'No Axioms': 6,\n",
       "  'Average geodesic': 5.681816061887236,\n",
       "  'Cluster coefficient': 0.1764676398993473,\n",
       "  'Degree Correlation': -0.05842417158845895,\n",
       "  'Transitivity': 0.05854858548585486,\n",
       "  'Communities': 20,\n",
       "  'Diameter': 15},\n",
       " 't24_laplace': {'Degree max': 35,\n",
       "  'Degree min': 1,\n",
       "  'Degree mean': 3.3235668789808916,\n",
       "  'No Edges': 2609,\n",
       "  'No Nodes': 1570,\n",
       "  'No Axioms': 26,\n",
       "  'Average geodesic': 7.516348195329087,\n",
       "  'Cluster coefficient': 0.09042343360814684,\n",
       "  'Degree Correlation': -0.15128377929449388,\n",
       "  'Transitivity': 0.07454509880649579,\n",
       "  'Communities': 22,\n",
       "  'Diameter': 25},\n",
       " 't20_zf_model': {'Degree max': 71,\n",
       "  'Degree min': 1,\n",
       "  'Degree mean': 3.465818759936407,\n",
       "  'No Edges': 2180,\n",
       "  'No Nodes': 1258,\n",
       "  'No Axioms': 24,\n",
       "  'Average geodesic': 6.701373421715974,\n",
       "  'Cluster coefficient': 0.13773184949655556,\n",
       "  'Degree Correlation': -0.05518756174486314,\n",
       "  'Transitivity': 0.0743801652892562,\n",
       "  'Communities': 19,\n",
       "  'Diameter': 16},\n",
       " 't12_circled1': {'Degree max': 15,\n",
       "  'Degree min': 1,\n",
       "  'Degree mean': 3.112871287128713,\n",
       "  'No Edges': 786,\n",
       "  'No Nodes': 505,\n",
       "  'No Axioms': 10,\n",
       "  'Average geodesic': 6.913107024988213,\n",
       "  'Cluster coefficient': 0.0675247524752475,\n",
       "  'Degree Correlation': -0.17764842759165253,\n",
       "  'Transitivity': 0.052564102564102565,\n",
       "  'Communities': 15,\n",
       "  'Diameter': 16},\n",
       " 't46_intpro_1': {'Degree max': 40,\n",
       "  'Degree min': 1,\n",
       "  'Degree mean': 3.4409005628517826,\n",
       "  'No Edges': 917,\n",
       "  'No Nodes': 533,\n",
       "  'No Axioms': 14,\n",
       "  'Average geodesic': 5.43899617712198,\n",
       "  'Cluster coefficient': 0.17592245153220742,\n",
       "  'Degree Correlation': -0.06748509857500148,\n",
       "  'Transitivity': 0.07621402877697842,\n",
       "  'Communities': 16,\n",
       "  'Diameter': 12},\n",
       " 't17_pdiff_3': {'Degree max': 228,\n",
       "  'Degree min': 1,\n",
       "  'Degree mean': 3.6802884615384617,\n",
       "  'No Edges': 4593,\n",
       "  'No Nodes': 2496,\n",
       "  'No Axioms': 34,\n",
       "  'Average geodesic': 6.288051102204409,\n",
       "  'Cluster coefficient': 0.1700363540014365,\n",
       "  'Degree Correlation': -0.0536534686412703,\n",
       "  'Transitivity': 0.040290826868348215,\n",
       "  'Communities': 28,\n",
       "  'Diameter': 16},\n",
       " 'l16_msuhom_1': {'Degree max': 14,\n",
       "  'Degree min': 1,\n",
       "  'Degree mean': 3.0401891252955084,\n",
       "  'No Edges': 1286,\n",
       "  'No Nodes': 846,\n",
       "  'No Axioms': 18,\n",
       "  'Average geodesic': 8.398089163064613,\n",
       "  'Cluster coefficient': 0.060856302877579545,\n",
       "  'Degree Correlation': -0.16890379975419212,\n",
       "  'Transitivity': 0.06315789473684211,\n",
       "  'Communities': 21,\n",
       "  'Diameter': 19}}"
      ]
     },
     "execution_count": 7,
     "metadata": {},
     "output_type": "execute_result"
    }
   ],
   "source": [
    "data"
   ]
  },
  {
   "cell_type": "code",
   "execution_count": null,
   "id": "7dfcff7f",
   "metadata": {},
   "outputs": [],
   "source": []
  },
  {
   "cell_type": "markdown",
   "id": "a1f223b6",
   "metadata": {},
   "source": [
    "## Save as a pickle"
   ]
  },
  {
   "cell_type": "code",
   "execution_count": 8,
   "id": "0cfd376a",
   "metadata": {
    "execution": {
     "iopub.execute_input": "2023-07-17T15:18:27.967742Z",
     "iopub.status.busy": "2023-07-17T15:18:27.967581Z",
     "iopub.status.idle": "2023-07-17T15:18:27.970176Z",
     "shell.execute_reply": "2023-07-17T15:18:27.969807Z"
    }
   },
   "outputs": [],
   "source": [
    "with open('graph_top_stats.pickle', 'wb') as handle:\n",
    "    pickle.dump(data, handle, protocol=pickle.HIGHEST_PROTOCOL)"
   ]
  },
  {
   "cell_type": "code",
   "execution_count": null,
   "id": "63b5b55f",
   "metadata": {},
   "outputs": [],
   "source": []
  },
  {
   "cell_type": "code",
   "execution_count": null,
   "id": "c3ef3bde",
   "metadata": {},
   "outputs": [],
   "source": []
  },
  {
   "cell_type": "code",
   "execution_count": null,
   "id": "95588496",
   "metadata": {},
   "outputs": [],
   "source": []
  },
  {
   "cell_type": "code",
   "execution_count": null,
   "id": "96c0c2eb",
   "metadata": {},
   "outputs": [],
   "source": []
  }
 ],
 "metadata": {
  "kernelspec": {
   "display_name": "Python 3 (ipykernel)",
   "language": "python",
   "name": "python3"
  },
  "language_info": {
   "codemirror_mode": {
    "name": "ipython",
    "version": 3
   },
   "file_extension": ".py",
   "mimetype": "text/x-python",
   "name": "python",
   "nbconvert_exporter": "python",
   "pygments_lexer": "ipython3",
   "version": "3.10.8"
  }
 },
 "nbformat": 4,
 "nbformat_minor": 5
}
