{
 "cells": [
  {
   "cell_type": "markdown",
   "id": "0c9ea6ec",
   "metadata": {},
   "source": [
    "# Compute graph topology"
   ]
  },
  {
   "cell_type": "code",
   "execution_count": null,
   "id": "559ab3c2",
   "metadata": {},
   "outputs": [],
   "source": []
  },
  {
   "cell_type": "markdown",
   "id": "a10be806",
   "metadata": {},
   "source": [
    "\n",
    "\n",
    "## Imports \n",
    "\n"
   ]
  },
  {
   "cell_type": "code",
   "execution_count": 1,
   "id": "136295ff",
   "metadata": {
    "execution": {
     "iopub.execute_input": "2023-07-17T22:48:33.104881Z",
     "iopub.status.busy": "2023-07-17T22:48:33.104547Z",
     "iopub.status.idle": "2023-07-17T22:48:33.420009Z",
     "shell.execute_reply": "2023-07-17T22:48:33.418920Z"
    }
   },
   "outputs": [],
   "source": [
    "import sys\n",
    "import os\n",
    "from pathlib import Path\n",
    "import networkx as nx\n",
    "import numpy as np\n",
    "import pickle\n",
    "\n",
    "from joblib import Parallel, delayed\n",
    "from collections import ChainMap"
   ]
  },
  {
   "cell_type": "code",
   "execution_count": 2,
   "id": "8d8a578e",
   "metadata": {
    "execution": {
     "iopub.execute_input": "2023-07-17T22:48:33.425061Z",
     "iopub.status.busy": "2023-07-17T22:48:33.424003Z",
     "iopub.status.idle": "2023-07-17T22:48:36.232265Z",
     "shell.execute_reply": "2023-07-17T22:48:36.231094Z"
    }
   },
   "outputs": [],
   "source": [
    "sys.path.append(str(Path(os.path.abspath(\"\")).parent))\n",
    "\n",
    "import config\n",
    "from dataset import load_ids\n",
    "from dataset import _process_problem"
   ]
  },
  {
   "cell_type": "code",
   "execution_count": 3,
   "id": "89c9a65f",
   "metadata": {
    "execution": {
     "iopub.execute_input": "2023-07-17T22:48:36.236931Z",
     "iopub.status.busy": "2023-07-17T22:48:36.236378Z",
     "iopub.status.idle": "2023-07-17T22:48:36.250902Z",
     "shell.execute_reply": "2023-07-17T22:48:36.249801Z"
    }
   },
   "outputs": [
    {
     "name": "stdout",
     "output_type": "stream",
     "text": [
      "Number of problems 22179\n"
     ]
    }
   ],
   "source": [
    "#ID_FILE = '../id_files/deepmath.txt'\n",
    "ID_FILE = '../id_files/train.txt'\n",
    "\n",
    "ids = load_ids(ID_FILE)\n",
    "\n",
    "#ids = ids[:10] # FIXME\n",
    "print('Number of problems', len(ids))"
   ]
  },
  {
   "cell_type": "code",
   "execution_count": 4,
   "id": "96919532",
   "metadata": {
    "execution": {
     "iopub.execute_input": "2023-07-17T22:48:36.254877Z",
     "iopub.status.busy": "2023-07-17T22:48:36.254528Z",
     "iopub.status.idle": "2023-07-17T22:48:36.259031Z",
     "shell.execute_reply": "2023-07-17T22:48:36.258064Z"
    }
   },
   "outputs": [],
   "source": [
    "#ids"
   ]
  },
  {
   "cell_type": "markdown",
   "id": "a42d354f",
   "metadata": {},
   "source": [
    "## Statistics computation function"
   ]
  },
  {
   "cell_type": "code",
   "execution_count": 5,
   "id": "72fb6ca6",
   "metadata": {
    "execution": {
     "iopub.execute_input": "2023-07-17T22:48:36.263000Z",
     "iopub.status.busy": "2023-07-17T22:48:36.262654Z",
     "iopub.status.idle": "2023-07-17T22:48:36.278918Z",
     "shell.execute_reply": "2023-07-17T22:48:36.277887Z"
    }
   },
   "outputs": [],
   "source": [
    "def compute_stats(i: str):\n",
    "    \n",
    "    res = {i: {}}\n",
    "\n",
    "    try:\n",
    "        data = _process_problem(i, config.PROBLEM_DIR, remove_argument_node=False)\n",
    "\n",
    "        G = nx.Graph()    \n",
    "        sources = np.array(data.edge_index[0].detach())\n",
    "        targets = np.array(data.edge_index[1].detach())\n",
    "        G.add_edges_from(list(zip(sources, targets)))\n",
    "\n",
    "        # Compute max, min, avg of degrees\n",
    "        degrees = list((dict(G.degree).values()))\n",
    "        degree_stats = {'Degree max': max(degrees), 'Degree min': min(degrees), 'Degree mean': np.mean(degrees)}\n",
    "        res[i].update(degree_stats)\n",
    "\n",
    "        # Number of nodes and edges\n",
    "        res[i].update({'No Edges': len(data.edge_index[0])})\n",
    "        res[i].update({'No Nodes': len(data.x)})\n",
    "\n",
    "        # Number of axioms\n",
    "        res[i].update({'No Axioms': len(data.premise_index)})\n",
    "\n",
    "        # Average shortest vertex-vertex distance\n",
    "        if nx.is_connected(G): # Fails if not connected - just ignore\n",
    "            nx.average_clustering(G)\n",
    "            res[i].update({'Average geodesic': nx.average_shortest_path_length(G)})\n",
    "\n",
    "        # Average cluster\n",
    "        res[i].update({'Cluster coefficient': nx.average_clustering(G)})\n",
    "\n",
    "        # Degree correlation\n",
    "        res[i].update({'Degree Correlation': nx.degree_pearson_correlation_coefficient(G)})\n",
    "\n",
    "        # Transitivity - fraction of all possible triangles\n",
    "        res[i].update({'Transitivity': nx.transitivity(G)})\n",
    "\n",
    "        # Communities - using Louvain method\n",
    "        res[i].update({'Communities': len(nx.community.louvain_communities(G, seed=7))})\n",
    "\n",
    "        # Diameter\n",
    "        res[i].update({'Diameter': nx.diameter(G)})\n",
    "    \n",
    "    except Exception:\n",
    "        return {i: -1}\n",
    "\n",
    "    return res"
   ]
  },
  {
   "cell_type": "code",
   "execution_count": null,
   "id": "463f67bf",
   "metadata": {},
   "outputs": [],
   "source": []
  },
  {
   "cell_type": "code",
   "execution_count": 6,
   "id": "d8082e8c",
   "metadata": {
    "execution": {
     "iopub.execute_input": "2023-07-17T22:48:36.282962Z",
     "iopub.status.busy": "2023-07-17T22:48:36.282619Z",
     "iopub.status.idle": "2023-07-18T02:28:37.705533Z",
     "shell.execute_reply": "2023-07-18T02:28:37.703433Z"
    }
   },
   "outputs": [],
   "source": [
    "result = Parallel(n_jobs=os.cpu_count() - 2)(delayed(compute_stats)(i) for i in ids)\n",
    "data = dict(ChainMap(*result)) # Convert lsit to dict of dict"
   ]
  },
  {
   "cell_type": "code",
   "execution_count": null,
   "id": "62dbe15f",
   "metadata": {},
   "outputs": [],
   "source": []
  },
  {
   "cell_type": "code",
   "execution_count": 7,
   "id": "28a5b543",
   "metadata": {
    "execution": {
     "iopub.execute_input": "2023-07-18T02:28:37.713114Z",
     "iopub.status.busy": "2023-07-18T02:28:37.712695Z",
     "iopub.status.idle": "2023-07-18T02:28:37.718573Z",
     "shell.execute_reply": "2023-07-18T02:28:37.717555Z"
    },
    "scrolled": true
   },
   "outputs": [],
   "source": [
    "#data"
   ]
  },
  {
   "cell_type": "code",
   "execution_count": null,
   "id": "7dfcff7f",
   "metadata": {},
   "outputs": [],
   "source": []
  },
  {
   "cell_type": "markdown",
   "id": "a1f223b6",
   "metadata": {},
   "source": [
    "## Save as a pickle"
   ]
  },
  {
   "cell_type": "code",
   "execution_count": 8,
   "id": "0cfd376a",
   "metadata": {
    "execution": {
     "iopub.execute_input": "2023-07-18T02:28:37.722710Z",
     "iopub.status.busy": "2023-07-18T02:28:37.722367Z",
     "iopub.status.idle": "2023-07-18T02:28:38.202178Z",
     "shell.execute_reply": "2023-07-18T02:28:38.200982Z"
    }
   },
   "outputs": [],
   "source": [
    "with open('graph_top_stats.pickle', 'wb') as handle:\n",
    "    pickle.dump(data, handle, protocol=pickle.HIGHEST_PROTOCOL)"
   ]
  },
  {
   "cell_type": "code",
   "execution_count": null,
   "id": "0138c4c9",
   "metadata": {},
   "outputs": [],
   "source": []
  },
  {
   "cell_type": "code",
   "execution_count": null,
   "id": "f27a6fba",
   "metadata": {},
   "outputs": [],
   "source": []
  }
 ],
 "metadata": {
  "kernelspec": {
   "display_name": "Python 3 (ipykernel)",
   "language": "python",
   "name": "python3"
  },
  "language_info": {
   "codemirror_mode": {
    "name": "ipython",
    "version": 3
   },
   "file_extension": ".py",
   "mimetype": "text/x-python",
   "name": "python",
   "nbconvert_exporter": "python",
   "pygments_lexer": "ipython3",
   "version": "3.10.8"
  }
 },
 "nbformat": 4,
 "nbformat_minor": 5
}
