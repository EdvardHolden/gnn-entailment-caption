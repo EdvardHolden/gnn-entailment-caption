{
 "cells": [
  {
   "cell_type": "markdown",
   "id": "f9be448d",
   "metadata": {},
   "source": [
    "# Conjecture Path Length"
   ]
  },
  {
   "cell_type": "markdown",
   "id": "c15817f9",
   "metadata": {},
   "source": [
    "### Imports"
   ]
  },
  {
   "cell_type": "code",
   "execution_count": 1,
   "id": "6b274195",
   "metadata": {},
   "outputs": [
    {
     "name": "stdout",
     "output_type": "stream",
     "text": [
      "env: CUDA_VISIBLE_DEVICES=\"\"\n"
     ]
    }
   ],
   "source": [
    "%env CUDA_VISIBLE_DEVICES=\"\""
   ]
  },
  {
   "cell_type": "markdown",
   "id": "c070a106",
   "metadata": {},
   "source": [
    "## TODOs\n",
    "\n",
    "* Make script for a single graph\n",
    "* Load problem from file\n",
    "* Make into a NetworkX graph\n",
    "* Compute the node distances\n",
    "* Extract the distances from the ocnjecture\n"
   ]
  },
  {
   "cell_type": "markdown",
   "id": "6ce7e604",
   "metadata": {},
   "source": [
    "## Notes\n",
    "If it is directiobnal, none of the nodes are reachable\n",
    "What about graph/nodes that are not ''conncted?``"
   ]
  },
  {
   "cell_type": "markdown",
   "id": "faf841cc",
   "metadata": {},
   "source": [
    "## Aims:\n",
    "* What are the conjecture path lengths?\n",
    "* What is the average length - want to know how this relates to the number of MSG passing steps\n",
    "* Is there a difference between positive and negative cojectures?\n",
    "* Are all the subgraphs connected?"
   ]
  },
  {
   "cell_type": "code",
   "execution_count": 2,
   "id": "7bb6cf34",
   "metadata": {},
   "outputs": [],
   "source": [
    "import sys\n",
    "import os\n",
    "from pathlib import Path\n",
    "import networkx as nx\n",
    "import numpy as np\n",
    "\n",
    "sys.path.append(str(Path(os.path.abspath('')).parent))\n",
    "from dataset import load_ids\n",
    "from graph_parser import graph\n",
    "import seaborn as sns\n"
   ]
  },
  {
   "cell_type": "code",
   "execution_count": 3,
   "id": "aba017a2",
   "metadata": {},
   "outputs": [],
   "source": [
    "import config\n",
    "from read_problem import read_problem_deepmath\n",
    "from collections import Counter"
   ]
  },
  {
   "cell_type": "code",
   "execution_count": 4,
   "id": "4dbc3cc2",
   "metadata": {},
   "outputs": [],
   "source": [
    "# Convert into graphs, then roll?"
   ]
  },
  {
   "cell_type": "code",
   "execution_count": 5,
   "id": "d8455d0e",
   "metadata": {},
   "outputs": [],
   "source": [
    "#ID_FILE = '../id_files/deepmath.txt'\n",
    "ID_FILE = '../id_files/dev_100.txt'\n",
    "#ID_FILE = '../id_files/validation.txt'"
   ]
  },
  {
   "cell_type": "code",
   "execution_count": 6,
   "id": "25979e66",
   "metadata": {},
   "outputs": [],
   "source": [
    "ids = load_ids(ID_FILE)\n"
   ]
  },
  {
   "cell_type": "markdown",
   "id": "d4f1e628",
   "metadata": {},
   "source": [
    "# Build graphs"
   ]
  },
  {
   "cell_type": "code",
   "execution_count": 7,
   "id": "24a802a7",
   "metadata": {},
   "outputs": [],
   "source": [
    "res_connected = {}\n",
    "res_distances = {}"
   ]
  },
  {
   "cell_type": "code",
   "execution_count": 8,
   "id": "56a17aac",
   "metadata": {},
   "outputs": [],
   "source": [
    "for i in ids:\n",
    "\n",
    "    \n",
    "    conjecture, premises, labels = read_problem_deepmath(config.PROBLEM_DIR, i)\n",
    "\n",
    "    # Parse the graph\n",
    "    nodes, sources, targets, premise_indices, conjecture_indices = graph(conjecture, premises)\n",
    "\n",
    "    G = nx.Graph()\n",
    "    G.add_edges_from(list(zip(sources, targets)))\n",
    "    res_connected[i] = nx.is_connected(G)\n",
    "    \n",
    "    lengths = []\n",
    "    for p_index in premise_indices:\n",
    "        try: \n",
    "            length = nx.shortest_path_length(G, source=conjecture_indices[0], target=p_index)\n",
    "        except nx.NetworkXNoPath:\n",
    "            length = -1\n",
    "        \n",
    "        lengths += [length]\n",
    "            \n",
    "    res_distances[i] = lengths"
   ]
  },
  {
   "cell_type": "code",
   "execution_count": 10,
   "id": "8a1de683",
   "metadata": {},
   "outputs": [],
   "source": [
    "import itertools\n",
    "\n",
    "def flatten(list2d):\n",
    "    return list(itertools.chain(*list2d))"
   ]
  },
  {
   "cell_type": "markdown",
   "id": "af36b139",
   "metadata": {},
   "source": [
    "# Statistics"
   ]
  },
  {
   "cell_type": "code",
   "execution_count": 11,
   "id": "4b826c06",
   "metadata": {},
   "outputs": [],
   "source": [
    "# Helper computation\n",
    "flat_distances =  flatten(res_distances.values())\n",
    "flat_counter = Counter(flat_distances)\n",
    "#print(flat_counter)"
   ]
  },
  {
   "cell_type": "code",
   "execution_count": 12,
   "id": "fcfef0ce",
   "metadata": {},
   "outputs": [
    {
     "name": "stdout",
     "output_type": "stream",
     "text": [
      "Number of problems:  100\n"
     ]
    }
   ],
   "source": [
    "print(\"Number of problems: \", len(ids))"
   ]
  },
  {
   "cell_type": "code",
   "execution_count": 13,
   "id": "ad82357c",
   "metadata": {},
   "outputs": [
    {
     "name": "stdout",
     "output_type": "stream",
     "text": [
      "Connected graphs:  Counter({True: 97, False: 3})\n"
     ]
    }
   ],
   "source": [
    "counter_connected = Counter(res_connected.values())\n",
    "print(\"Connected graphs: \", counter_connected)"
   ]
  },
  {
   "cell_type": "code",
   "execution_count": 14,
   "id": "fdeaddfe",
   "metadata": {},
   "outputs": [
    {
     "name": "stdout",
     "output_type": "stream",
     "text": [
      "Number of non-reachable premise nodes (from conjecture): 3\n"
     ]
    }
   ],
   "source": [
    "print(\"Number of non-reachable premise nodes (from conjecture):\", flat_counter[-1])"
   ]
  },
  {
   "cell_type": "code",
   "execution_count": 15,
   "id": "89e9b794",
   "metadata": {},
   "outputs": [
    {
     "name": "stdout",
     "output_type": "stream",
     "text": [
      "Number of problems with non-reachable premise nodes: 3\n",
      "Propotion with non-reachable nodes: 0.03\n"
     ]
    }
   ],
   "source": [
    "c = 0\n",
    "for v in res_distances.values():\n",
    "    if -1 in v:\n",
    "        c += 1\n",
    "print(\"Number of problems with non-reachable premise nodes:\", c)\n",
    "print(f\"Propotion with non-reachable nodes: {c / len(ids)}\")"
   ]
  },
  {
   "cell_type": "code",
   "execution_count": 16,
   "id": "e98220bc",
   "metadata": {},
   "outputs": [
    {
     "name": "stdout",
     "output_type": "stream",
     "text": [
      "Average conj-premise distance overall: 8.27\n"
     ]
    }
   ],
   "source": [
    "print(f'Average conj-premise distance overall: {np.mean(flat_distances):.2f}')"
   ]
  },
  {
   "cell_type": "markdown",
   "id": "34643676",
   "metadata": {},
   "source": [
    "### Plot average distance per problem"
   ]
  },
  {
   "cell_type": "code",
   "execution_count": 17,
   "id": "15eacd1e",
   "metadata": {},
   "outputs": [],
   "source": [
    "data = np.mean(list(res_distances.values()), axis=1)"
   ]
  },
  {
   "cell_type": "code",
   "execution_count": 18,
   "id": "7292c4ff",
   "metadata": {},
   "outputs": [
    {
     "data": {
      "image/png": "[encoded data removed]",
      "text/plain": [
       "<Figure size 432x288 with 1 Axes>"
      ]
     },
     "metadata": {
      "needs_background": "light"
     },
     "output_type": "display_data"
    }
   ],
   "source": [
    "ax = sns.histplot(data)"
   ]
  },
  {
   "cell_type": "markdown",
   "id": "712d9832",
   "metadata": {},
   "source": [
    "### Average distance based on positive and negative labels"
   ]
  },
  {
   "cell_type": "code",
   "execution_count": 19,
   "id": "f37e26b4",
   "metadata": {},
   "outputs": [
    {
     "name": "stdout",
     "output_type": "stream",
     "text": [
      "Print average conj-premise distance overall NEG nodes: 8.58\n"
     ]
    }
   ],
   "source": [
    "neg_dist = [r[int(len(r)/2):] for r in list(res_distances.values())]\n",
    "print(f'Print average conj-premise distance overall NEG nodes: {np.mean(neg_dist):.2f}')"
   ]
  },
  {
   "cell_type": "code",
   "execution_count": 20,
   "id": "447ffe1d",
   "metadata": {},
   "outputs": [
    {
     "name": "stdout",
     "output_type": "stream",
     "text": [
      "Print average conj-premise distance overall POS nodes: 7.96\n"
     ]
    }
   ],
   "source": [
    "pos_dist = [r[:int(len(r)/2)] for r in list(res_distances.values())]\n",
    "print(f'Print average conj-premise distance overall POS nodes: {np.mean(pos_dist):.2f}')"
   ]
  },
  {
   "cell_type": "code",
   "execution_count": null,
   "id": "9d5a9686",
   "metadata": {},
   "outputs": [],
   "source": []
  },
  {
   "cell_type": "code",
   "execution_count": null,
   "id": "986b7bb9",
   "metadata": {},
   "outputs": [],
   "source": []
  },
  {
   "cell_type": "code",
   "execution_count": null,
   "id": "8bcbce59",
   "metadata": {},
   "outputs": [],
   "source": []
  },
  {
   "cell_type": "code",
   "execution_count": null,
   "id": "ecd9d4fd",
   "metadata": {},
   "outputs": [],
   "source": []
  }
 ],
 "metadata": {
  "kernelspec": {
   "display_name": "Python 3 (ipykernel)",
   "language": "python",
   "name": "python3"
  },
  "language_info": {
   "codemirror_mode": {
    "name": "ipython",
    "version": 3
   },
   "file_extension": ".py",
   "mimetype": "text/x-python",
   "name": "python",
   "nbconvert_exporter": "python",
   "pygments_lexer": "ipython3",
   "version": "3.7.5"
  }
 },
 "nbformat": 4,
 "nbformat_minor": 5
}
