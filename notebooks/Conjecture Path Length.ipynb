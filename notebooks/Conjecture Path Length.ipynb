{
 "cells": [
  {
   "cell_type": "markdown",
   "id": "08a38557",
   "metadata": {},
   "source": [
    "# Conjecture Path Length"
   ]
  },
  {
   "cell_type": "markdown",
   "id": "17797945",
   "metadata": {},
   "source": [
    "### Imports"
   ]
  },
  {
   "cell_type": "code",
   "execution_count": 1,
   "id": "42c69f47",
   "metadata": {},
   "outputs": [
    {
     "name": "stdout",
     "output_type": "stream",
     "text": [
      "env: CUDA_VISIBLE_DEVICES=\"\"\n"
     ]
    }
   ],
   "source": [
    "%env CUDA_VISIBLE_DEVICES=\"\""
   ]
  },
  {
   "cell_type": "markdown",
   "id": "928e7abf",
   "metadata": {},
   "source": [
    "## Notes\n",
    "If it is directiobnal, none of the nodes are reachable\n",
    "What about graph/nodes that are not ''conncted?``"
   ]
  },
  {
   "cell_type": "markdown",
   "id": "3f7bfe8a",
   "metadata": {},
   "source": [
    "## Aims:\n",
    "* What are the conjecture path lengths?\n",
    "* What is the average length - want to know how this relates to the number of MSG passing steps\n",
    "* Is there a difference between positive and negative cojectures?\n",
    "* Are all the subgraphs connected?"
   ]
  },
  {
   "cell_type": "code",
   "execution_count": 2,
   "id": "94215566",
   "metadata": {},
   "outputs": [],
   "source": [
    "import sys\n",
    "import os\n",
    "from pathlib import Path\n",
    "import networkx as nx\n",
    "import numpy as np\n",
    "\n",
    "sys.path.append(str(Path(os.path.abspath(\"\")).parent))\n",
    "from dataset import load_ids\n",
    "from graph_parser import graph\n",
    "import seaborn as sns\n",
    "\n",
    "import config\n",
    "from read_problem import read_problem_deepmath\n",
    "from collections import Counter\n",
    "from dataset import _process_problem"
   ]
  },
  {
   "cell_type": "code",
   "execution_count": null,
   "id": "884b8e2e",
   "metadata": {},
   "outputs": [],
   "source": []
  },
  {
   "cell_type": "code",
   "execution_count": 3,
   "id": "bbb915bb",
   "metadata": {},
   "outputs": [],
   "source": [
    "# Convert into graphs, then roll?"
   ]
  },
  {
   "cell_type": "code",
   "execution_count": 4,
   "id": "3e11bbf7",
   "metadata": {},
   "outputs": [],
   "source": [
    "ID_FILE = '../id_files/deepmath.txt'\n",
    "#ID_FILE = \"../id_files/dev_100.txt\"\n",
    "# ID_FILE = '../id_files/validation.txt'"
   ]
  },
  {
   "cell_type": "code",
   "execution_count": 5,
   "id": "04c1d6b8",
   "metadata": {},
   "outputs": [],
   "source": [
    "ids = load_ids(ID_FILE)"
   ]
  },
  {
   "cell_type": "markdown",
   "id": "5850f399",
   "metadata": {},
   "source": [
    "# Build graphs"
   ]
  },
  {
   "cell_type": "code",
   "execution_count": 6,
   "id": "0d9598e8",
   "metadata": {},
   "outputs": [],
   "source": [
    "res_connected = {}\n",
    "res_distances = {}"
   ]
  },
  {
   "cell_type": "code",
   "execution_count": null,
   "id": "23ebc810",
   "metadata": {},
   "outputs": [],
   "source": []
  },
  {
   "cell_type": "code",
   "execution_count": 7,
   "id": "236c65d6",
   "metadata": {},
   "outputs": [],
   "source": [
    "remove_argument_node = True"
   ]
  },
  {
   "cell_type": "code",
   "execution_count": 8,
   "id": "128bcd97",
   "metadata": {},
   "outputs": [],
   "source": [
    "for i in ids:\n",
    "\n",
    "    data = _process_problem(i, config.PROBLEM_DIR, remove_argument_node=remove_argument_node)\n",
    "    \n",
    "    G = nx.Graph()    \n",
    "    sources = np.array(data.edge_index[0].detach())\n",
    "    targets = np.array(data.edge_index[1].detach())\n",
    "    G.add_edges_from(list(zip(sources, targets)))\n",
    "\n",
    "    res_connected[i] = nx.is_connected(G)\n",
    "\n",
    "    lengths = []\n",
    "    for p_index in data.premise_index:\n",
    "        try:\n",
    "            length = nx.shortest_path_length(G, source=data.conjecture_index[0].item(), target=p_index.item())\n",
    "        except nx.NetworkXNoPath:\n",
    "            length = -1\n",
    "\n",
    "        lengths += [length]\n",
    "\n",
    "    res_distances[i] = lengths"
   ]
  },
  {
   "cell_type": "code",
   "execution_count": null,
   "id": "8b029ce3",
   "metadata": {},
   "outputs": [],
   "source": []
  },
  {
   "cell_type": "code",
   "execution_count": null,
   "id": "6708b80c",
   "metadata": {},
   "outputs": [],
   "source": []
  },
  {
   "cell_type": "code",
   "execution_count": 9,
   "id": "5ad9eece",
   "metadata": {},
   "outputs": [],
   "source": [
    "import itertools\n",
    "\n",
    "\n",
    "def flatten(list2d):\n",
    "    return list(itertools.chain(*list2d))"
   ]
  },
  {
   "cell_type": "markdown",
   "id": "4e0eb520",
   "metadata": {},
   "source": [
    "# Statistics"
   ]
  },
  {
   "cell_type": "code",
   "execution_count": 10,
   "id": "b667c3fc",
   "metadata": {},
   "outputs": [],
   "source": [
    "# Helper computation\n",
    "flat_distances = flatten(res_distances.values())\n",
    "flat_counter = Counter(flat_distances)\n",
    "# print(flat_counter)"
   ]
  },
  {
   "cell_type": "code",
   "execution_count": 11,
   "id": "bf5f78de",
   "metadata": {},
   "outputs": [
    {
     "name": "stdout",
     "output_type": "stream",
     "text": [
      "Number of problems:  32524\n"
     ]
    }
   ],
   "source": [
    "print(\"Number of problems: \", len(ids))"
   ]
  },
  {
   "cell_type": "code",
   "execution_count": 12,
   "id": "96645601",
   "metadata": {},
   "outputs": [
    {
     "name": "stdout",
     "output_type": "stream",
     "text": [
      "Connected graphs:  Counter({True: 32198, False: 326})\n"
     ]
    }
   ],
   "source": [
    "counter_connected = Counter(res_connected.values())\n",
    "print(\"Connected graphs: \", counter_connected)"
   ]
  },
  {
   "cell_type": "code",
   "execution_count": 13,
   "id": "01b3fdf1",
   "metadata": {},
   "outputs": [
    {
     "name": "stdout",
     "output_type": "stream",
     "text": [
      "Number of problems with non-reachable premise nodes: 326\n",
      "Propotion with non-reachable nodes: 0.01\n"
     ]
    }
   ],
   "source": [
    "c = 0\n",
    "for v in res_distances.values():\n",
    "    if -1 in v:\n",
    "        c += 1\n",
    "print(\"Number of problems with non-reachable premise nodes:\", c)\n",
    "print(f\"Propotion with non-reachable nodes: {c / len(ids):.2f}\")"
   ]
  },
  {
   "cell_type": "code",
   "execution_count": 14,
   "id": "c7176b8d",
   "metadata": {},
   "outputs": [
    {
     "name": "stdout",
     "output_type": "stream",
     "text": [
      "Number of premise nodes: 522528\n",
      "Number of non-reachable premise nodes (from conjecture): 367\n"
     ]
    }
   ],
   "source": [
    "print(\"Number of premise nodes:\", len(flat_distances))\n",
    "print(\"Number of non-reachable premise nodes (from conjecture):\", flat_counter[-1])"
   ]
  },
  {
   "cell_type": "code",
   "execution_count": 15,
   "id": "fdd35e5f",
   "metadata": {},
   "outputs": [
    {
     "name": "stdout",
     "output_type": "stream",
     "text": [
      "Average conj-premise distance overall: 8.51\n"
     ]
    }
   ],
   "source": [
    "print(f\"Average conj-premise distance overall: {np.mean(flat_distances):.2f}\")"
   ]
  },
  {
   "cell_type": "markdown",
   "id": "5e2e59ff",
   "metadata": {},
   "source": [
    "### Plot average distance per problem"
   ]
  },
  {
   "cell_type": "code",
   "execution_count": 16,
   "id": "17f6aec1",
   "metadata": {},
   "outputs": [],
   "source": [
    "avg_data = [np.mean(d) for d in list(res_distances.values())]"
   ]
  },
  {
   "cell_type": "code",
   "execution_count": 17,
   "id": "3496e84a",
   "metadata": {},
   "outputs": [
    {
     "data": {
      "image/png": "[encoded data removed]",
      "text/plain": [
       "<Figure size 432x288 with 1 Axes>"
      ]
     },
     "metadata": {
      "needs_background": "light"
     },
     "output_type": "display_data"
    }
   ],
   "source": [
    "ax = sns.histplot(avg_data)"
   ]
  },
  {
   "cell_type": "markdown",
   "id": "cfd542fd",
   "metadata": {},
   "source": [
    "### Average distance based on positive and negative labels"
   ]
  },
  {
   "cell_type": "code",
   "execution_count": 18,
   "id": "4c76e170",
   "metadata": {},
   "outputs": [
    {
     "name": "stdout",
     "output_type": "stream",
     "text": [
      "Print average conj-premise distance overall NEG nodes: 8.32\n"
     ]
    }
   ],
   "source": [
    "neg_dist = [r[int(len(r) / 2) :] for r in list(res_distances.values())]\n",
    "print(f\"Print average conj-premise distance overall NEG nodes: {np.mean(flatten(neg_dist)):.2f}\")"
   ]
  },
  {
   "cell_type": "code",
   "execution_count": 19,
   "id": "2e337a6e",
   "metadata": {},
   "outputs": [
    {
     "name": "stdout",
     "output_type": "stream",
     "text": [
      "Print average conj-premise distance overall POS nodes: 8.70\n"
     ]
    }
   ],
   "source": [
    "pos_dist = [r[: int(len(r) / 2)] for r in list(res_distances.values())]\n",
    "print(f\"Print average conj-premise distance overall POS nodes: {np.mean(flatten(pos_dist)):.2f}\")"
   ]
  },
  {
   "cell_type": "markdown",
   "id": "a87d12f8",
   "metadata": {},
   "source": [
    "## Non-reachable premises in neg/pos"
   ]
  },
  {
   "cell_type": "code",
   "execution_count": 20,
   "id": "c1851e82",
   "metadata": {},
   "outputs": [
    {
     "name": "stdout",
     "output_type": "stream",
     "text": [
      "Number of POS non-reachable premsies: 1\n",
      "Number of NEG non-reachable premsies: 366\n"
     ]
    }
   ],
   "source": [
    "print(\"Number of POS non-reachable premsies:\", Counter(flatten(pos_dist))[-1])\n",
    "print(\"Number of NEG non-reachable premsies:\", Counter(flatten(neg_dist))[-1])"
   ]
  },
  {
   "cell_type": "code",
   "execution_count": null,
   "id": "ab2c1afa",
   "metadata": {},
   "outputs": [],
   "source": []
  }
 ],
 "metadata": {
  "kernelspec": {
   "display_name": "Python 3 (ipykernel)",
   "language": "python",
   "name": "python3"
  },
  "language_info": {
   "codemirror_mode": {
    "name": "ipython",
    "version": 3
   },
   "file_extension": ".py",
   "mimetype": "text/x-python",
   "name": "python",
   "nbconvert_exporter": "python",
   "pygments_lexer": "ipython3",
   "version": "3.10.8"
  }
 },
 "nbformat": 4,
 "nbformat_minor": 5
}
