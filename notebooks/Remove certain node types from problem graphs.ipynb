{
 "cells": [
  {
   "cell_type": "markdown",
   "id": "f5434847",
   "metadata": {},
   "source": [
    "# Remove certain node types from problem graphs"
   ]
  },
  {
   "cell_type": "code",
   "execution_count": 1,
   "id": "27d1664a",
   "metadata": {},
   "outputs": [
    {
     "name": "stdout",
     "output_type": "stream",
     "text": [
      "env: CUDA_VISIBLE_DEVICES=\"\"\n"
     ]
    }
   ],
   "source": [
    "%env CUDA_VISIBLE_DEVICES=\"\""
   ]
  },
  {
   "cell_type": "markdown",
   "id": "b25c1a5e",
   "metadata": {},
   "source": [
    "TODO:\n",
    "    \n",
    "    My goal is to create code which removes the nodes of a given type"
   ]
  },
  {
   "cell_type": "markdown",
   "id": "21b9c7ef",
   "metadata": {},
   "source": [
    "TODO - what about premise labels??"
   ]
  },
  {
   "cell_type": "code",
   "execution_count": null,
   "id": "881517a6",
   "metadata": {},
   "outputs": [],
   "source": []
  },
  {
   "cell_type": "code",
   "execution_count": 2,
   "id": "4c9c3235",
   "metadata": {},
   "outputs": [],
   "source": [
    "def construct_graph(nodes, sources, targets):\n",
    "    net = Network(notebook=True, directed=True)\n",
    "\n",
    "\n",
    "    for i, n in enumerate(nodes):\n",
    "        net.add_node(i, label=NODE_TYPE[n], group=int(n))\n",
    "  \n",
    "\n",
    "    for s, t in zip(sources, targets):\n",
    "        net.add_edge(int(s), int(t))\n",
    "    return net"
   ]
  },
  {
   "cell_type": "code",
   "execution_count": 3,
   "id": "959fe4dd",
   "metadata": {},
   "outputs": [],
   "source": [
    "import sys\n",
    "import os\n",
    "from pathlib import Path\n",
    "import networkx as nx\n",
    "import numpy as np\n",
    "import seaborn as sns\n",
    "from pyvis.network import Network\n",
    "\n",
    "sys.path.append(str(Path(os.path.abspath('')).parent))\n",
    "from dataset import load_ids\n",
    "from graph_parser import graph\n",
    "from itertools import product\n",
    "\n",
    "\n",
    "from config import NODE_TYPE\n",
    "import config\n",
    "from read_problem import read_problem_deepmath\n",
    "from collections import Counter\n"
   ]
  },
  {
   "cell_type": "code",
   "execution_count": 4,
   "id": "df3a58e1",
   "metadata": {},
   "outputs": [],
   "source": [
    "#ID_FILE = '../id_files/deepmath.txt'\n",
    "ID_FILE = '../id_files/dev_100.txt'\n",
    "#ID_FILE = '../id_files/validation.txt'"
   ]
  },
  {
   "cell_type": "code",
   "execution_count": 5,
   "id": "c7407670",
   "metadata": {},
   "outputs": [],
   "source": [
    "ids = load_ids(ID_FILE)\n"
   ]
  },
  {
   "cell_type": "code",
   "execution_count": 6,
   "id": "ab6dd430",
   "metadata": {},
   "outputs": [],
   "source": [
    "axiom = [b\"fof(parent,axiom, ( child(X, Y))).\"]\n",
    "conjecture = []\n",
    "\n",
    "nodes, sources, targets, premise_indices, conjecture_indices = graph(conjecture, axiom)"
   ]
  },
  {
   "cell_type": "code",
   "execution_count": 7,
   "id": "65976ccb",
   "metadata": {},
   "outputs": [
    {
     "data": {
      "text/html": [
       "\n",
       "        <iframe\n",
       "            width=\"500px\"\n",
       "            height=\"500px\"\n",
       "            src=\"graph_conjecture.html\"\n",
       "            frameborder=\"0\"\n",
       "            allowfullscreen\n",
       "            \n",
       "        ></iframe>\n",
       "        "
      ],
      "text/plain": [
       "<IPython.lib.display.IFrame at 0x7f6d8f787210>"
      ]
     },
     "execution_count": 7,
     "metadata": {},
     "output_type": "execute_result"
    }
   ],
   "source": [
    "net_conj = construct_graph(nodes, sources, targets)\n",
    "net_conj.show('graph_conjecture.html')"
   ]
  },
  {
   "cell_type": "markdown",
   "id": "329c098e",
   "metadata": {},
   "source": [
    "# Function from here!"
   ]
  },
  {
   "cell_type": "code",
   "execution_count": null,
   "id": "c702a4b8",
   "metadata": {},
   "outputs": [],
   "source": []
  },
  {
   "cell_type": "code",
   "execution_count": 8,
   "id": "4794ca3e",
   "metadata": {
    "scrolled": false
   },
   "outputs": [],
   "source": [
    "\n",
    "\n",
    "def remove_node_type(nodes, sources, targets, premise_indices, conjecture_indices, node_type=4):\n",
    "\n",
    "    # Check if node type exists in the graph\n",
    "    if node_type not in nodes:\n",
    "        return new_nodes, new_sources, new_targets, new_premise_indices, new_conjecture_indices\n",
    "    \n",
    "    # Convert into a networkx Directional graph\n",
    "    G = nx.DiGraph()\n",
    "    G.add_edges_from(list(zip(sources, targets)))\n",
    "\n",
    "    # Transfer the node types\n",
    "    attr = {i: t for i, t in enumerate(nodes)}\n",
    "    nx.set_node_attributes(G, attr, name='type')\n",
    "    \n",
    "    \n",
    "    # Remove the given node type\n",
    "    for node_id in list(G.nodes):\n",
    "\n",
    "        # Check if node is of the correct type\n",
    "        if G.nodes[node_id]['type'] != node_type:\n",
    "            continue\n",
    "    \n",
    "        # Get all in/out edges and remap current node\n",
    "        in_nodes = [a for a, b in G.in_edges(node_id)]\n",
    "        out_nodes = [b for a, b in G.out_edges(node_id)] \n",
    "\n",
    "        new_edges = list(product(*[in_nodes, out_nodes]))\n",
    "        G.add_edges_from(new_edges)\n",
    "        \n",
    "        # Finally remove the node\n",
    "        G.remove_node(node_id)\n",
    "\n",
    "    # Remap and restructure indices to get it back to the original format\n",
    "    node_map = {i: n for n, i in enumerate(list(G.nodes))}\n",
    "    map_node = {n: i for n, i in enumerate(list(G.nodes))}\n",
    "\n",
    "    new_targets = [t for s, t in G.edges]\n",
    "    new_targets = list(map(node_map.get, new_targets))\n",
    "\n",
    "    new_sources = [s for s, t in G.edges]\n",
    "    new_sources = list(map(node_map.get, new_sources))\n",
    "\n",
    "    new_nodes = [G.nodes[map_node[n]]['type'] for n in range(len(map_node))]\n",
    "\n",
    "    new_premise_indices = list(map(node_map.get, premise_indices))\n",
    "    new_conjecture_indices = list(map(node_map.get, conjecture_indices))\n",
    "    \n",
    "    return new_nodes, new_sources, new_targets, new_premise_indices, new_conjecture_indices"
   ]
  },
  {
   "cell_type": "code",
   "execution_count": null,
   "id": "ab7bcfdd",
   "metadata": {},
   "outputs": [],
   "source": []
  },
  {
   "cell_type": "code",
   "execution_count": 9,
   "id": "94f8c9e8",
   "metadata": {},
   "outputs": [],
   "source": [
    "new_nodes, new_sources, new_targets, new_premise_indices, new_conjecture_indices = remove_node_type(nodes, sources, targets, premise_indices, conjecture_indices)"
   ]
  },
  {
   "cell_type": "code",
   "execution_count": null,
   "id": "9558e27f",
   "metadata": {},
   "outputs": [],
   "source": [
    "\n"
   ]
  },
  {
   "cell_type": "code",
   "execution_count": null,
   "id": "001be09b",
   "metadata": {},
   "outputs": [],
   "source": []
  },
  {
   "cell_type": "code",
   "execution_count": null,
   "id": "1a8c02d3",
   "metadata": {},
   "outputs": [],
   "source": []
  },
  {
   "cell_type": "code",
   "execution_count": 10,
   "id": "47a7cd83",
   "metadata": {},
   "outputs": [
    {
     "data": {
      "text/html": [
       "\n",
       "        <iframe\n",
       "            width=\"500px\"\n",
       "            height=\"500px\"\n",
       "            src=\"graph_conjecture_reduced.html\"\n",
       "            frameborder=\"0\"\n",
       "            allowfullscreen\n",
       "            \n",
       "        ></iframe>\n",
       "        "
      ],
      "text/plain": [
       "<IPython.lib.display.IFrame at 0x7f6d8f723a90>"
      ]
     },
     "execution_count": 10,
     "metadata": {},
     "output_type": "execute_result"
    }
   ],
   "source": [
    "net_conj = construct_graph(new_nodes, new_sources, new_targets)\n",
    "net_conj.show('graph_conjecture_reduced.html')"
   ]
  },
  {
   "cell_type": "code",
   "execution_count": null,
   "id": "289c93cf",
   "metadata": {},
   "outputs": [],
   "source": []
  },
  {
   "cell_type": "code",
   "execution_count": null,
   "id": "79cc8fc0",
   "metadata": {},
   "outputs": [],
   "source": []
  }
 ],
 "metadata": {
  "kernelspec": {
   "display_name": "Python 3 (ipykernel)",
   "language": "python",
   "name": "python3"
  },
  "language_info": {
   "codemirror_mode": {
    "name": "ipython",
    "version": 3
   },
   "file_extension": ".py",
   "mimetype": "text/x-python",
   "name": "python",
   "nbconvert_exporter": "python",
   "pygments_lexer": "ipython3",
   "version": "3.7.5"
  }
 },
 "nbformat": 4,
 "nbformat_minor": 5
}
