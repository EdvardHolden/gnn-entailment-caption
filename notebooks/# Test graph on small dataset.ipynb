{
 "cells": [
  {
   "cell_type": "markdown",
   "id": "2cc16e42",
   "metadata": {},
   "source": [
    "# Test graph on small dataset"
   ]
  },
  {
   "cell_type": "code",
   "execution_count": 1,
   "id": "f9186779",
   "metadata": {},
   "outputs": [],
   "source": [
    "import torch\n",
    "from torch_geometric.datasets import TUDataset\n",
    "from torch_geometric.loader import DataLoader\n",
    "from torch_geometric.nn import global_mean_pool\n",
    "import numpy as np"
   ]
  },
  {
   "cell_type": "code",
   "execution_count": 2,
   "id": "cd3f764a",
   "metadata": {},
   "outputs": [],
   "source": [
    "import sys, os\n",
    "from pathlib import Path\n",
    "\n",
    "sys.path.append(str(Path(os.path.abspath(\"\")).parent))\n",
    "\n",
    "from model import GNNStack"
   ]
  },
  {
   "cell_type": "markdown",
   "id": "40628cd2",
   "metadata": {},
   "source": [
    "## Dataset"
   ]
  },
  {
   "cell_type": "code",
   "execution_count": 3,
   "id": "567f48a4",
   "metadata": {},
   "outputs": [
    {
     "data": {
      "text/plain": [
       "TUDataset (#graphs=1113):\n",
       "+------------+----------+----------+\n",
       "|            |   #nodes |   #edges |\n",
       "|------------+----------+----------|\n",
       "| mean       |     39.1 |    145.6 |\n",
       "| std        |     45.8 |    169.3 |\n",
       "| min        |      4   |     10   |\n",
       "| quantile25 |     15   |     56   |\n",
       "| median     |     26   |     98   |\n",
       "| quantile75 |     45   |    174   |\n",
       "| max        |    620   |   2098   |\n",
       "+------------+----------+----------+"
      ]
     },
     "execution_count": 3,
     "metadata": {},
     "output_type": "execute_result"
    }
   ],
   "source": [
    "data = TUDataset(root='/tmp/PROTEINS', name='PROTEINS')\n",
    "data = data.shuffle()\n",
    "\n",
    "data.get_summary()"
   ]
  },
  {
   "cell_type": "code",
   "execution_count": 28,
   "id": "188eace6",
   "metadata": {},
   "outputs": [
    {
     "data": {
      "text/plain": [
       "Counter({1: 450, 0: 663})"
      ]
     },
     "execution_count": 28,
     "metadata": {},
     "output_type": "execute_result"
    }
   ],
   "source": [
    "from collections import Counter\n",
    "Counter(data[i].y.item() for i in range(len(data)))"
   ]
  },
  {
   "cell_type": "code",
   "execution_count": 30,
   "id": "392e0eee",
   "metadata": {},
   "outputs": [
    {
     "data": {
      "text/plain": [
       "0.40431266846361186"
      ]
     },
     "execution_count": 30,
     "metadata": {},
     "output_type": "execute_result"
    }
   ],
   "source": [
    "450 / (450 + 663)"
   ]
  },
  {
   "cell_type": "code",
   "execution_count": 4,
   "id": "710aafbe",
   "metadata": {},
   "outputs": [],
   "source": [
    "split = int(0.8 * len(data))\n",
    "train_split, test_split = data[:split], data[split:]\n",
    "train_data =  DataLoader(train_split, batch_size=32, shuffle=True)\n",
    "test_data =  DataLoader(test_split, batch_size=32, shuffle=True)"
   ]
  },
  {
   "cell_type": "markdown",
   "id": "dd4cec90",
   "metadata": {},
   "source": [
    "## Helpers"
   ]
  },
  {
   "cell_type": "code",
   "execution_count": 5,
   "id": "88441804",
   "metadata": {},
   "outputs": [],
   "source": [
    "def call_model(batch):\n",
    "    x = np.argmax(batch.x, axis=1)\n",
    "    x = model.node_embedding(x)\n",
    "    \n",
    "    _, x = model.gcn(x, batch.edge_index)\n",
    "    x = global_mean_pool(x, batch.batch)\n",
    "    \n",
    "    x = model.post_mp(x)\n",
    "    return x\n",
    "\n",
    "def train():\n",
    "\n",
    "    model.train()\n",
    "\n",
    "    for data in train_data:  # Iterate in batches over the training dataset.\n",
    "        out = call_model(data)\n",
    "\n",
    "        loss = criterion(out, data.y.float())  # Compute the loss.\n",
    "        loss.backward()  # Derive gradients.\n",
    "        optimizer.step()  # Update parameters based on gradients.\n",
    "        optimizer.zero_grad()  # Clear gradients.\n",
    "\n",
    "\n",
    "def test(loader):\n",
    "\n",
    "    model.eval()\n",
    "\n",
    "    correct = 0\n",
    "    total_samples = 0\n",
    "    for data in loader:  # Iterate in batches over the training/test dataset.\n",
    "        out = call_model(data)\n",
    "        pred = torch.sigmoid(out).round().long()\n",
    "\n",
    "        correct += data.y.eq(pred).sum().item()\n",
    "\n",
    "        total_samples += len(pred)\n",
    "\n",
    "    return correct / total_samples  # Derive ratio of correct predictions."
   ]
  },
  {
   "cell_type": "code",
   "execution_count": null,
   "id": "cb2c1cf7",
   "metadata": {},
   "outputs": [],
   "source": []
  },
  {
   "cell_type": "markdown",
   "id": "750644b9",
   "metadata": {},
   "source": [
    "## Setup and run"
   ]
  },
  {
   "cell_type": "code",
   "execution_count": 31,
   "id": "e2105a74",
   "metadata": {},
   "outputs": [],
   "source": [
    "model = GNNStack(hidden_dim=64, no_embeddings=3, num_convolutional_layers=4, no_dense_layers=1, direction='single', dropout_rate=0.3)"
   ]
  },
  {
   "cell_type": "code",
   "execution_count": 32,
   "id": "bde4cc00",
   "metadata": {},
   "outputs": [],
   "source": [
    "optimizer = torch.optim.Adam(model.parameters(), lr=0.01, weight_decay=5e-4)\n",
    "# criterion = torch.nn.CrossEntropyLoss()\n",
    "criterion = torch.nn.BCEWithLogitsLoss(reduction=\"mean\")"
   ]
  },
  {
   "cell_type": "code",
   "execution_count": 33,
   "id": "f2a914a2",
   "metadata": {},
   "outputs": [
    {
     "name": "stdout",
     "output_type": "stream",
     "text": [
      "Epoch: 001, Train Acc: 0.6989, Test Acc: 0.7220\n",
      "Epoch: 002, Train Acc: 0.6528, Test Acc: 0.7265\n",
      "Epoch: 003, Train Acc: 0.6764, Test Acc: 0.6592\n",
      "Epoch: 004, Train Acc: 0.6933, Test Acc: 0.7444\n",
      "Epoch: 005, Train Acc: 0.7157, Test Acc: 0.7534\n",
      "Epoch: 006, Train Acc: 0.6989, Test Acc: 0.7534\n",
      "Epoch: 007, Train Acc: 0.7247, Test Acc: 0.7489\n",
      "Epoch: 008, Train Acc: 0.7157, Test Acc: 0.7713\n",
      "Epoch: 009, Train Acc: 0.7022, Test Acc: 0.7623\n",
      "Epoch: 010, Train Acc: 0.7169, Test Acc: 0.7489\n",
      "Epoch: 011, Train Acc: 0.7202, Test Acc: 0.7534\n",
      "Epoch: 012, Train Acc: 0.7292, Test Acc: 0.7265\n",
      "Epoch: 013, Train Acc: 0.7225, Test Acc: 0.7309\n",
      "Epoch: 014, Train Acc: 0.7281, Test Acc: 0.7309\n",
      "Epoch: 015, Train Acc: 0.7157, Test Acc: 0.7489\n",
      "Epoch: 016, Train Acc: 0.7180, Test Acc: 0.6951\n",
      "Epoch: 017, Train Acc: 0.7180, Test Acc: 0.7354\n",
      "Epoch: 018, Train Acc: 0.7157, Test Acc: 0.7578\n",
      "Epoch: 019, Train Acc: 0.7247, Test Acc: 0.7623\n"
     ]
    }
   ],
   "source": [
    "for epoch in range(1, 20):\n",
    "    train()\n",
    "    train_acc = test(train_data)\n",
    "    test_acc = test(test_data)\n",
    "    print(f\"Epoch: {epoch:03d}, Train Acc: {train_acc:.4f}, Test Acc: {test_acc:.4f}\")"
   ]
  },
  {
   "cell_type": "code",
   "execution_count": null,
   "id": "69cfdbdf",
   "metadata": {},
   "outputs": [],
   "source": []
  },
  {
   "cell_type": "code",
   "execution_count": null,
   "id": "407fb369",
   "metadata": {},
   "outputs": [],
   "source": []
  },
  {
   "cell_type": "code",
   "execution_count": null,
   "id": "aadfda1f",
   "metadata": {},
   "outputs": [],
   "source": []
  },
  {
   "cell_type": "code",
   "execution_count": null,
   "id": "39802696",
   "metadata": {},
   "outputs": [],
   "source": []
  },
  {
   "cell_type": "code",
   "execution_count": null,
   "id": "2406e465",
   "metadata": {},
   "outputs": [],
   "source": []
  },
  {
   "cell_type": "code",
   "execution_count": null,
   "id": "b59e2245",
   "metadata": {},
   "outputs": [],
   "source": []
  },
  {
   "cell_type": "code",
   "execution_count": null,
   "id": "a1bd5eaa",
   "metadata": {},
   "outputs": [],
   "source": []
  },
  {
   "cell_type": "code",
   "execution_count": null,
   "id": "7a3c322f",
   "metadata": {},
   "outputs": [],
   "source": []
  },
  {
   "cell_type": "code",
   "execution_count": null,
   "id": "d6f17891",
   "metadata": {},
   "outputs": [],
   "source": []
  },
  {
   "cell_type": "code",
   "execution_count": null,
   "id": "5ad79773",
   "metadata": {},
   "outputs": [],
   "source": []
  },
  {
   "cell_type": "code",
   "execution_count": null,
   "id": "92a3a840",
   "metadata": {},
   "outputs": [],
   "source": []
  }
 ],
 "metadata": {
  "kernelspec": {
   "display_name": "Python 3 (ipykernel)",
   "language": "python",
   "name": "python3"
  },
  "language_info": {
   "codemirror_mode": {
    "name": "ipython",
    "version": 3
   },
   "file_extension": ".py",
   "mimetype": "text/x-python",
   "name": "python",
   "nbconvert_exporter": "python",
   "pygments_lexer": "ipython3",
   "version": "3.10.8"
  }
 },
 "nbformat": 4,
 "nbformat_minor": 5
}
