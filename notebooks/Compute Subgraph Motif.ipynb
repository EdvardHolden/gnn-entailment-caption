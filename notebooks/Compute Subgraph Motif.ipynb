{
 "cells": [
  {
   "cell_type": "markdown",
   "id": "30dff594",
   "metadata": {},
   "source": [
    "# Compute Subgraph Motif"
   ]
  },
  {
   "cell_type": "markdown",
   "id": "fd3bfe02",
   "metadata": {},
   "source": [
    "## Imports"
   ]
  },
  {
   "cell_type": "code",
   "execution_count": 1,
   "id": "bad5e365",
   "metadata": {
    "execution": {
     "iopub.execute_input": "2023-07-19T17:15:29.523471Z",
     "iopub.status.busy": "2023-07-19T17:15:29.523133Z",
     "iopub.status.idle": "2023-07-19T17:15:29.742187Z",
     "shell.execute_reply": "2023-07-19T17:15:29.741104Z"
    }
   },
   "outputs": [],
   "source": [
    "from typing import Dict\n",
    "import signal\n",
    "from contextlib import contextmanager\n",
    "from pathlib import Path\n",
    "import os\n",
    "import sys\n",
    "from joblib import Parallel, delayed\n",
    "from collections import ChainMap\n",
    "import pickle\n",
    "import random\n",
    "from multiprocessing import Pool"
   ]
  },
  {
   "cell_type": "code",
   "execution_count": 2,
   "id": "1acc320e",
   "metadata": {
    "execution": {
     "iopub.execute_input": "2023-07-19T17:15:29.746598Z",
     "iopub.status.busy": "2023-07-19T17:15:29.746170Z",
     "iopub.status.idle": "2023-07-19T17:15:29.755600Z",
     "shell.execute_reply": "2023-07-19T17:15:29.754587Z"
    }
   },
   "outputs": [],
   "source": [
    "import pymfinder\n",
    "import pymfinder.mfinder.mfinder as cmfinder"
   ]
  },
  {
   "cell_type": "code",
   "execution_count": 3,
   "id": "43d5ca02",
   "metadata": {
    "execution": {
     "iopub.execute_input": "2023-07-19T17:15:29.759929Z",
     "iopub.status.busy": "2023-07-19T17:15:29.759570Z",
     "iopub.status.idle": "2023-07-19T17:15:32.726848Z",
     "shell.execute_reply": "2023-07-19T17:15:32.725527Z"
    }
   },
   "outputs": [],
   "source": [
    "sys.path.append(str(Path(os.path.abspath(\"\")).parent))\n",
    "\n",
    "import config\n",
    "from dataset import load_ids\n",
    "from dataset import _process_problem\n",
    "from config import NODE_TYPE"
   ]
  },
  {
   "cell_type": "markdown",
   "id": "7d79375b",
   "metadata": {},
   "source": [
    "## Constants"
   ]
  },
  {
   "cell_type": "code",
   "execution_count": 4,
   "id": "090a13ac",
   "metadata": {
    "execution": {
     "iopub.execute_input": "2023-07-19T17:15:32.732181Z",
     "iopub.status.busy": "2023-07-19T17:15:32.731439Z",
     "iopub.status.idle": "2023-07-19T17:15:32.737267Z",
     "shell.execute_reply": "2023-07-19T17:15:32.736235Z"
    }
   },
   "outputs": [],
   "source": [
    "MOTIFSIZE = 3\n",
    "NRADOMGRAPHS = 100\n",
    "TIME_LIMIT = 100\n",
    "\n",
    "MAX_PROB_LEN = 10\n",
    "NO_PROBLEMS = 1000"
   ]
  },
  {
   "cell_type": "code",
   "execution_count": 5,
   "id": "4d40a6fd",
   "metadata": {
    "execution": {
     "iopub.execute_input": "2023-07-19T17:15:32.741096Z",
     "iopub.status.busy": "2023-07-19T17:15:32.740757Z",
     "iopub.status.idle": "2023-07-19T17:15:32.745207Z",
     "shell.execute_reply": "2023-07-19T17:15:32.744194Z"
    }
   },
   "outputs": [],
   "source": [
    "#ID_FILE = '../id_files/deepmath.txt'\n",
    "ID_FILE = '../id_files/train.txt'"
   ]
  },
  {
   "cell_type": "markdown",
   "id": "bb9877e3",
   "metadata": {},
   "source": [
    "# Load an process problems"
   ]
  },
  {
   "cell_type": "code",
   "execution_count": 6,
   "id": "cc55e0e6",
   "metadata": {
    "execution": {
     "iopub.execute_input": "2023-07-19T17:15:32.749413Z",
     "iopub.status.busy": "2023-07-19T17:15:32.749076Z",
     "iopub.status.idle": "2023-07-19T17:15:32.762566Z",
     "shell.execute_reply": "2023-07-19T17:15:32.761434Z"
    }
   },
   "outputs": [
    {
     "name": "stdout",
     "output_type": "stream",
     "text": [
      "Number of problems 22179\n"
     ]
    }
   ],
   "source": [
    "ids = load_ids(ID_FILE)\n",
    "print('Number of problems', len(ids))"
   ]
  },
  {
   "cell_type": "code",
   "execution_count": 7,
   "id": "27cb12d2",
   "metadata": {
    "execution": {
     "iopub.execute_input": "2023-07-19T17:15:32.766520Z",
     "iopub.status.busy": "2023-07-19T17:15:32.766180Z",
     "iopub.status.idle": "2023-07-19T17:15:33.683394Z",
     "shell.execute_reply": "2023-07-19T17:15:33.682233Z"
    }
   },
   "outputs": [],
   "source": [
    "def filter_problems_by_formula_size(ids, max_len):\n",
    "    \n",
    "    res = []\n",
    "    for i in ids:\n",
    "        with open(os.path.join(config.PROBLEM_DIR, i), 'rb') as f:\n",
    "            prob_len = len(f.readlines())\n",
    "\n",
    "        if prob_len <= max_len:\n",
    "            res.append(i)\n",
    "        \n",
    "    return res\n",
    "\n",
    "ids = filter_problems_by_formula_size(ids, MAX_PROB_LEN)"
   ]
  },
  {
   "cell_type": "code",
   "execution_count": 8,
   "id": "6bf83e05",
   "metadata": {
    "execution": {
     "iopub.execute_input": "2023-07-19T17:15:33.687483Z",
     "iopub.status.busy": "2023-07-19T17:15:33.687140Z",
     "iopub.status.idle": "2023-07-19T17:15:33.692862Z",
     "shell.execute_reply": "2023-07-19T17:15:33.691803Z"
    }
   },
   "outputs": [
    {
     "name": "stdout",
     "output_type": "stream",
     "text": [
      "Number of problems 8600\n"
     ]
    }
   ],
   "source": [
    "#ids = ids[:5] # FIXME\n",
    "print('Number of problems', len(ids))"
   ]
  },
  {
   "cell_type": "markdown",
   "id": "70246e54",
   "metadata": {},
   "source": [
    "### Sample the problems"
   ]
  },
  {
   "cell_type": "code",
   "execution_count": 9,
   "id": "4b0c32ea",
   "metadata": {
    "execution": {
     "iopub.execute_input": "2023-07-19T17:15:33.696859Z",
     "iopub.status.busy": "2023-07-19T17:15:33.696519Z",
     "iopub.status.idle": "2023-07-19T17:15:33.702112Z",
     "shell.execute_reply": "2023-07-19T17:15:33.701053Z"
    }
   },
   "outputs": [],
   "source": [
    "random.seed(7)\n",
    "ids = random.choices(ids, k=NO_PROBLEMS)"
   ]
  },
  {
   "cell_type": "markdown",
   "id": "eb8142e7",
   "metadata": {},
   "source": [
    "## Helper"
   ]
  },
  {
   "cell_type": "code",
   "execution_count": 10,
   "id": "0fb26f35",
   "metadata": {
    "execution": {
     "iopub.execute_input": "2023-07-19T17:15:33.706056Z",
     "iopub.status.busy": "2023-07-19T17:15:33.705715Z",
     "iopub.status.idle": "2023-07-19T17:15:33.712310Z",
     "shell.execute_reply": "2023-07-19T17:15:33.711257Z"
    }
   },
   "outputs": [],
   "source": [
    "class TimeoutException(Exception): pass\n",
    "\n",
    "@contextmanager\n",
    "def time_limit(seconds):\n",
    "    def signal_handler(signum, frame):\n",
    "        raise TimeoutException(\"Timed out!\")\n",
    "    signal.signal(signal.SIGALRM, signal_handler)\n",
    "    signal.alarm(seconds)\n",
    "    try:\n",
    "        yield\n",
    "    finally:\n",
    "        signal.alarm(0)"
   ]
  },
  {
   "cell_type": "code",
   "execution_count": 11,
   "id": "d25eb676",
   "metadata": {
    "execution": {
     "iopub.execute_input": "2023-07-19T17:15:33.716357Z",
     "iopub.status.busy": "2023-07-19T17:15:33.716028Z",
     "iopub.status.idle": "2023-07-19T17:15:33.722633Z",
     "shell.execute_reply": "2023-07-19T17:15:33.721584Z"
    }
   },
   "outputs": [],
   "source": [
    "def compute_motifs(network, motifsize, nrandom_graphs) -> Dict[int, int]:\n",
    "    \n",
    "    res = pymfinder.pymfinder(network, motifsize=motifsize, nrandomizations=nrandom_graphs, links=False)\n",
    "    \n",
    "    res_count = {motif_id: {'count': motif.real, 'z-score': motif.real_z} for motif_id, motif in res.motifs.items()}\n",
    "    return res_count"
   ]
  },
  {
   "cell_type": "code",
   "execution_count": 12,
   "id": "71f849d2",
   "metadata": {
    "execution": {
     "iopub.execute_input": "2023-07-19T17:15:33.726417Z",
     "iopub.status.busy": "2023-07-19T17:15:33.726081Z",
     "iopub.status.idle": "2023-07-19T17:15:33.733125Z",
     "shell.execute_reply": "2023-07-19T17:15:33.732089Z"
    }
   },
   "outputs": [],
   "source": [
    "def analyse_graph(prob):\n",
    "    print(prob)\n",
    "    \n",
    "    data = _process_problem(prob, config.PROBLEM_DIR, remove_argument_node=False)\n",
    "    network = data.edge_index.T.numpy().tolist()\n",
    "\n",
    "    try:\n",
    "        with time_limit(TIME_LIMIT):\n",
    "            res = compute_motifs(network, MOTIFSIZE, NRADOMGRAPHS)\n",
    "    except (TimeoutException, SystemError) as e: # mfinder throws system error terminated on timeout\n",
    "        res = -1\n",
    "\n",
    "\n",
    "    return {prob: res}"
   ]
  },
  {
   "cell_type": "code",
   "execution_count": 13,
   "id": "565f1a35",
   "metadata": {
    "execution": {
     "iopub.execute_input": "2023-07-19T17:15:33.736895Z",
     "iopub.status.busy": "2023-07-19T17:15:33.736559Z",
     "iopub.status.idle": "2023-07-19T17:15:33.740829Z",
     "shell.execute_reply": "2023-07-19T17:15:33.739800Z"
    },
    "scrolled": true
   },
   "outputs": [],
   "source": [
    "# The network motifs\n",
    "#pymfinder.print_motifs(3, links=True)"
   ]
  },
  {
   "cell_type": "code",
   "execution_count": null,
   "id": "de341782",
   "metadata": {},
   "outputs": [],
   "source": []
  },
  {
   "cell_type": "code",
   "execution_count": null,
   "id": "c4f7c39f",
   "metadata": {},
   "outputs": [],
   "source": []
  },
  {
   "cell_type": "code",
   "execution_count": 14,
   "id": "ba88d575",
   "metadata": {
    "execution": {
     "iopub.execute_input": "2023-07-19T17:15:33.744846Z",
     "iopub.status.busy": "2023-07-19T17:15:33.744509Z",
     "iopub.status.idle": "2023-07-19T17:15:33.756382Z",
     "shell.execute_reply": "2023-07-19T17:15:33.755312Z"
    }
   },
   "outputs": [
    {
     "data": {
      "text/plain": [
       "'\\nres = []\\nfor i in ids:\\n    print(i)\\n    r = analyse_graph(i)\\n    res.append(r)\\n    \\nres\\n#'"
      ]
     },
     "execution_count": 14,
     "metadata": {},
     "output_type": "execute_result"
    }
   ],
   "source": [
    "'''\n",
    "res = []\n",
    "for i in ids:\n",
    "    print(i)\n",
    "    r = analyse_graph(i)\n",
    "    res.append(r)\n",
    "    \n",
    "res\n",
    "#'''"
   ]
  },
  {
   "cell_type": "code",
   "execution_count": null,
   "id": "0ba905c9",
   "metadata": {},
   "outputs": [],
   "source": []
  },
  {
   "cell_type": "code",
   "execution_count": null,
   "id": "f0a9fa57",
   "metadata": {},
   "outputs": [],
   "source": []
  },
  {
   "cell_type": "code",
   "execution_count": 15,
   "id": "c11211aa",
   "metadata": {
    "execution": {
     "iopub.execute_input": "2023-07-19T17:15:33.760482Z",
     "iopub.status.busy": "2023-07-19T17:15:33.760142Z",
     "iopub.status.idle": "2023-07-19T19:04:46.428662Z",
     "shell.execute_reply": "2023-07-19T19:04:46.426932Z"
    }
   },
   "outputs": [],
   "source": [
    "result = Parallel(n_jobs=os.cpu_count() - 2)(delayed(analyse_graph)(i) for i in ids)\n",
    "data = dict(ChainMap(*result)) # Convert lsit to dict of dict"
   ]
  },
  {
   "cell_type": "code",
   "execution_count": null,
   "id": "627d464d",
   "metadata": {},
   "outputs": [],
   "source": []
  },
  {
   "cell_type": "code",
   "execution_count": 16,
   "id": "c11dbee1",
   "metadata": {
    "execution": {
     "iopub.execute_input": "2023-07-19T19:04:46.433934Z",
     "iopub.status.busy": "2023-07-19T19:04:46.433558Z",
     "iopub.status.idle": "2023-07-19T19:04:46.439206Z",
     "shell.execute_reply": "2023-07-19T19:04:46.438166Z"
    }
   },
   "outputs": [],
   "source": [
    "# Run with multiprocessing instaad as I trust it more"
   ]
  },
  {
   "cell_type": "code",
   "execution_count": null,
   "id": "ca67d099",
   "metadata": {},
   "outputs": [],
   "source": []
  },
  {
   "cell_type": "code",
   "execution_count": null,
   "id": "b59856eb",
   "metadata": {},
   "outputs": [],
   "source": []
  },
  {
   "cell_type": "code",
   "execution_count": null,
   "id": "210328cd",
   "metadata": {},
   "outputs": [],
   "source": []
  },
  {
   "cell_type": "code",
   "execution_count": 17,
   "id": "552a3b00",
   "metadata": {
    "execution": {
     "iopub.execute_input": "2023-07-19T19:04:46.443429Z",
     "iopub.status.busy": "2023-07-19T19:04:46.443094Z",
     "iopub.status.idle": "2023-07-19T19:04:46.450044Z",
     "shell.execute_reply": "2023-07-19T19:04:46.449016Z"
    }
   },
   "outputs": [
    {
     "data": {
      "text/plain": [
       "'\\nstar_args = [(i,) for i in ids]\\nworkers = max(os.cpu_count() - 2, 3)\\npool = Pool(max(os.cpu_count() - 2, 3))\\nres = pool.starmap(analyse_graph, star_args)\\npool.close()\\npool.join()\\n'"
      ]
     },
     "execution_count": 17,
     "metadata": {},
     "output_type": "execute_result"
    }
   ],
   "source": [
    "'''\n",
    "star_args = [(i,) for i in ids]\n",
    "workers = max(os.cpu_count() - 2, 3)\n",
    "pool = Pool(max(os.cpu_count() - 2, 3))\n",
    "res = pool.starmap(analyse_graph, star_args)\n",
    "pool.close()\n",
    "pool.join()\n",
    "'''"
   ]
  },
  {
   "cell_type": "code",
   "execution_count": null,
   "id": "8931ec11",
   "metadata": {},
   "outputs": [],
   "source": []
  },
  {
   "cell_type": "code",
   "execution_count": null,
   "id": "6e71ec49",
   "metadata": {},
   "outputs": [],
   "source": []
  },
  {
   "cell_type": "code",
   "execution_count": null,
   "id": "5b9f665f",
   "metadata": {},
   "outputs": [],
   "source": []
  },
  {
   "cell_type": "code",
   "execution_count": 18,
   "id": "c4f53b42",
   "metadata": {
    "execution": {
     "iopub.execute_input": "2023-07-19T19:04:46.458850Z",
     "iopub.status.busy": "2023-07-19T19:04:46.458513Z",
     "iopub.status.idle": "2023-07-19T19:04:46.467867Z",
     "shell.execute_reply": "2023-07-19T19:04:46.466756Z"
    }
   },
   "outputs": [],
   "source": [
    "with open(f'graph_motif_{MOTIFSIZE}_nrandom_{NRADOMGRAPHS}_timelimit_{TIME_LIMIT}.pickle', 'wb') as handle:\n",
    "    pickle.dump(data, handle, protocol=pickle.HIGHEST_PROTOCOL)"
   ]
  },
  {
   "cell_type": "code",
   "execution_count": 19,
   "id": "65492f7d",
   "metadata": {
    "execution": {
     "iopub.execute_input": "2023-07-19T19:04:46.471856Z",
     "iopub.status.busy": "2023-07-19T19:04:46.471500Z",
     "iopub.status.idle": "2023-07-19T19:04:46.476024Z",
     "shell.execute_reply": "2023-07-19T19:04:46.474975Z"
    }
   },
   "outputs": [],
   "source": [
    "#data"
   ]
  },
  {
   "cell_type": "code",
   "execution_count": null,
   "id": "41b9eb2a",
   "metadata": {},
   "outputs": [],
   "source": []
  },
  {
   "cell_type": "code",
   "execution_count": null,
   "id": "02006b06",
   "metadata": {},
   "outputs": [],
   "source": []
  },
  {
   "cell_type": "code",
   "execution_count": null,
   "id": "7d9bf338",
   "metadata": {},
   "outputs": [],
   "source": []
  }
 ],
 "metadata": {
  "kernelspec": {
   "display_name": "Python 3 (ipykernel)",
   "language": "python",
   "name": "python3"
  },
  "language_info": {
   "codemirror_mode": {
    "name": "ipython",
    "version": 3
   },
   "file_extension": ".py",
   "mimetype": "text/x-python",
   "name": "python",
   "nbconvert_exporter": "python",
   "pygments_lexer": "ipython3",
   "version": "3.10.8"
  }
 },
 "nbformat": 4,
 "nbformat_minor": 5
}
