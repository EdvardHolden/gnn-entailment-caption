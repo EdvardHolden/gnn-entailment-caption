{
 "cells": [
  {
   "cell_type": "markdown",
   "id": "30dff594",
   "metadata": {},
   "source": [
    "# Compute Subgraph Motif"
   ]
  },
  {
   "cell_type": "markdown",
   "id": "fd3bfe02",
   "metadata": {},
   "source": [
    "## Imports"
   ]
  },
  {
   "cell_type": "code",
   "execution_count": 1,
   "id": "bad5e365",
   "metadata": {},
   "outputs": [],
   "source": [
    "from typing import Dict\n",
    "import signal\n",
    "from contextlib import contextmanager\n",
    "from pathlib import Path\n",
    "import os\n",
    "import sys\n",
    "from joblib import Parallel, delayed\n",
    "from collections import ChainMap\n",
    "import pickle"
   ]
  },
  {
   "cell_type": "code",
   "execution_count": 2,
   "id": "1acc320e",
   "metadata": {},
   "outputs": [],
   "source": [
    "import pymfinder\n",
    "import pymfinder.mfinder.mfinder as cmfinder"
   ]
  },
  {
   "cell_type": "code",
   "execution_count": 3,
   "id": "43d5ca02",
   "metadata": {},
   "outputs": [],
   "source": [
    "sys.path.append(str(Path(os.path.abspath(\"\")).parent))\n",
    "\n",
    "import config\n",
    "from dataset import load_ids\n",
    "from dataset import _process_problem\n",
    "from config import NODE_TYPE"
   ]
  },
  {
   "cell_type": "markdown",
   "id": "7d79375b",
   "metadata": {},
   "source": [
    "## Constants"
   ]
  },
  {
   "cell_type": "code",
   "execution_count": 4,
   "id": "090a13ac",
   "metadata": {},
   "outputs": [],
   "source": [
    "MOTIFSIZE=3\n",
    "NRADOMGRAPHS=64\n",
    "TIME_LIMIT = 100"
   ]
  },
  {
   "cell_type": "code",
   "execution_count": 5,
   "id": "cc55e0e6",
   "metadata": {},
   "outputs": [
    {
     "name": "stdout",
     "output_type": "stream",
     "text": [
      "Number of problems 5\n"
     ]
    }
   ],
   "source": [
    "#ID_FILE = '../id_files/deepmath.txt'\n",
    "ID_FILE = '../id_files/train.txt'\n",
    "\n",
    "ids = load_ids(ID_FILE)\n",
    "\n",
    "#ids = ids[:5] # FIXME\n",
    "print('Number of problems', len(ids))"
   ]
  },
  {
   "cell_type": "markdown",
   "id": "eb8142e7",
   "metadata": {},
   "source": [
    "## Helper"
   ]
  },
  {
   "cell_type": "code",
   "execution_count": 6,
   "id": "0fb26f35",
   "metadata": {},
   "outputs": [],
   "source": [
    "class TimeoutException(Exception): pass\n",
    "\n",
    "@contextmanager\n",
    "def time_limit(seconds):\n",
    "    def signal_handler(signum, frame):\n",
    "        raise TimeoutException(\"Timed out!\")\n",
    "    signal.signal(signal.SIGALRM, signal_handler)\n",
    "    signal.alarm(seconds)\n",
    "    try:\n",
    "        yield\n",
    "    finally:\n",
    "        signal.alarm(0)"
   ]
  },
  {
   "cell_type": "code",
   "execution_count": 7,
   "id": "d25eb676",
   "metadata": {},
   "outputs": [],
   "source": [
    "def compute_motifs(network, motifsize, nrandom_graphs) -> Dict[int, int]:\n",
    "    \n",
    "    res = pymfinder.pymfinder(network, motifsize=motifsize, nrandomizations=nrandom_graphs, links=False)\n",
    "    \n",
    "    res_count = {motif_id: {'count': motif.real, 'z-score': motif.real_z} for motif_id, motif in res.motifs.items()}\n",
    "    return res_count"
   ]
  },
  {
   "cell_type": "code",
   "execution_count": 8,
   "id": "71f849d2",
   "metadata": {},
   "outputs": [],
   "source": [
    "def analyse_graph(prob):\n",
    "    print(prob)\n",
    "    \n",
    "    data = _process_problem(prob, config.PROBLEM_DIR, remove_argument_node=False)\n",
    "    network = data.edge_index.T.numpy().tolist()\n",
    "\n",
    "    try:\n",
    "        with time_limit(TIME_LIMIT):\n",
    "            res = compute_motifs(network, MOTIFSIZE, NRADOMGRAPHS)\n",
    "    except (TimeoutException, SystemError) as e: # mfinder throws system error terminated on timeout\n",
    "        res = -1\n",
    "\n",
    "\n",
    "    return {prob: res}"
   ]
  },
  {
   "cell_type": "code",
   "execution_count": 9,
   "id": "565f1a35",
   "metadata": {
    "scrolled": true
   },
   "outputs": [],
   "source": [
    "# The network motifs\n",
    "#pymfinder.print_motifs(3, links=True)"
   ]
  },
  {
   "cell_type": "code",
   "execution_count": null,
   "id": "de341782",
   "metadata": {},
   "outputs": [],
   "source": []
  },
  {
   "cell_type": "code",
   "execution_count": 10,
   "id": "ba88d575",
   "metadata": {},
   "outputs": [
    {
     "name": "stdout",
     "output_type": "stream",
     "text": [
      "l16_msuhom_1\n",
      "l16_msuhom_1\n",
      "t17_pdiff_3\n",
      "t17_pdiff_3\n",
      "t46_intpro_1\n",
      "t46_intpro_1\n",
      "t12_circled1\n",
      "t12_circled1\n",
      "t20_zf_model\n",
      "t20_zf_model\n"
     ]
    },
    {
     "data": {
      "text/plain": [
       "[{'l16_msuhom_1': {6: {'count': 567, 'z-score': -49.18978331532573},\n",
       "   12: {'count': 1374, 'z-score': -28.14761509069853},\n",
       "   36: {'count': 1441, 'z-score': -49.18978331532565},\n",
       "   38: {'count': 76, 'z-score': 49.189783315325705},\n",
       "   98: {'count': 0, 'z-score': -0.7302967433402214}}},\n",
       " {'t17_pdiff_3': -1},\n",
       " {'t46_intpro_1': {6: {'count': 431, 'z-score': -41.27522797568107},\n",
       "   12: {'count': 973, 'z-score': -21.79757491787719},\n",
       "   36: {'count': 2705, 'z-score': -41.27522797568103},\n",
       "   38: {'count': 113, 'z-score': 41.275227975681055},\n",
       "   98: {'count': 0, 'z-score': -0.8164965809277261}}},\n",
       " {'t12_circled1': {6: {'count': 333, 'z-score': -45.17964143284009},\n",
       "   12: {'count': 792, 'z-score': -11.384199576606164},\n",
       "   36: {'count': 1092, 'z-score': -45.17964143284002},\n",
       "   38: {'count': 41, 'z-score': 45.17964143284008},\n",
       "   98: {'count': 0, 'z-score': -0.6708203932499369}}},\n",
       " {'t20_zf_model': {6: {'count': 1155, 'z-score': -95.7172306081518},\n",
       "   12: {'count': 2365, 'z-score': -50.372513165858926},\n",
       "   36: {'count': 6112, 'z-score': -95.71723060815197},\n",
       "   38: {'count': 258, 'z-score': 95.71723060815182},\n",
       "   98: {'count': 0, 'z-score': -0.6708203932499369}}}]"
      ]
     },
     "execution_count": 10,
     "metadata": {},
     "output_type": "execute_result"
    }
   ],
   "source": [
    "'''\n",
    "res = []\n",
    "for i in ids:\n",
    "    print(i)\n",
    "    r = analyse_graph(i)\n",
    "    res.append(r)\n",
    "    \n",
    "res\n",
    "#'''"
   ]
  },
  {
   "cell_type": "code",
   "execution_count": null,
   "id": "0ba905c9",
   "metadata": {},
   "outputs": [],
   "source": []
  },
  {
   "cell_type": "code",
   "execution_count": null,
   "id": "f0a9fa57",
   "metadata": {},
   "outputs": [],
   "source": []
  },
  {
   "cell_type": "code",
   "execution_count": 11,
   "id": "c11211aa",
   "metadata": {},
   "outputs": [],
   "source": [
    "result = Parallel(n_jobs=os.cpu_count() - 2)(delayed(analyse_graph)(i) for i in ids)\n",
    "data = dict(ChainMap(*result)) # Convert lsit to dict of dict"
   ]
  },
  {
   "cell_type": "code",
   "execution_count": null,
   "id": "627d464d",
   "metadata": {},
   "outputs": [],
   "source": []
  },
  {
   "cell_type": "code",
   "execution_count": 12,
   "id": "c4f53b42",
   "metadata": {},
   "outputs": [],
   "source": [
    "with open(f'graph_motif_{MOTIFSIZE}_nrandom_{NRADOMGRAPHS}_timelimit_{TIME_LIMIT}.pickle', 'wb') as handle:\n",
    "    pickle.dump(data, handle, protocol=pickle.HIGHEST_PROTOCOL)"
   ]
  },
  {
   "cell_type": "code",
   "execution_count": 13,
   "id": "65492f7d",
   "metadata": {},
   "outputs": [
    {
     "data": {
      "text/plain": [
       "{'t20_zf_model': {6: {'count': 1155, 'z-score': -92.30708131164141},\n",
       "  12: {'count': 2365, 'z-score': -65.8654411510935},\n",
       "  36: {'count': 6112, 'z-score': -92.30708131164124},\n",
       "  38: {'count': 258, 'z-score': 92.30708131164138},\n",
       "  98: {'count': 0, 'z-score': -0.7302967433402214}},\n",
       " 't12_circled1': {6: {'count': 333, 'z-score': -29.75824156727798},\n",
       "  12: {'count': 792, 'z-score': -21.35444918512302},\n",
       "  36: {'count': 1092, 'z-score': -29.75824156727794},\n",
       "  38: {'count': 41, 'z-score': 29.75824156727797},\n",
       "  98: {'count': 0, 'z-score': -0.44721359549995787}},\n",
       " 't46_intpro_1': {6: {'count': 431, 'z-score': -33.64925207115981},\n",
       "  12: {'count': 973, 'z-score': -36.388218409595034},\n",
       "  36: {'count': 2705, 'z-score': -33.64925207115988},\n",
       "  38: {'count': 113, 'z-score': 33.64925207115982},\n",
       "  98: {'count': 0, 'z-score': -0.4472135954999579}},\n",
       " 't17_pdiff_3': -1,\n",
       " 'l16_msuhom_1': {6: {'count': 567, 'z-score': -25.03879343080629},\n",
       "  12: {'count': 1374, 'z-score': -12.713096349510876},\n",
       "  36: {'count': 1441, 'z-score': -25.03879343080629},\n",
       "  38: {'count': 76, 'z-score': 25.03879343080629},\n",
       "  98: {'count': 0, 'z-score': -0.7302967433402215}}}"
      ]
     },
     "execution_count": 13,
     "metadata": {},
     "output_type": "execute_result"
    }
   ],
   "source": [
    "#data"
   ]
  },
  {
   "cell_type": "code",
   "execution_count": null,
   "id": "41b9eb2a",
   "metadata": {},
   "outputs": [],
   "source": []
  },
  {
   "cell_type": "code",
   "execution_count": null,
   "id": "02006b06",
   "metadata": {},
   "outputs": [],
   "source": []
  },
  {
   "cell_type": "code",
   "execution_count": null,
   "id": "7d9bf338",
   "metadata": {},
   "outputs": [],
   "source": []
  }
 ],
 "metadata": {
  "kernelspec": {
   "display_name": "Python 3 (ipykernel)",
   "language": "python",
   "name": "python3"
  },
  "language_info": {
   "codemirror_mode": {
    "name": "ipython",
    "version": 3
   },
   "file_extension": ".py",
   "mimetype": "text/x-python",
   "name": "python",
   "nbconvert_exporter": "python",
   "pygments_lexer": "ipython3",
   "version": "3.10.8"
  }
 },
 "nbformat": 4,
 "nbformat_minor": 5
}
