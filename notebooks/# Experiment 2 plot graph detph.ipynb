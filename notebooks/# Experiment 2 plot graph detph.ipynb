{
 "cells": [
  {
   "cell_type": "markdown",
   "id": "d9540a9e",
   "metadata": {},
   "source": [
    "# Experiment 2 plot graph detph"
   ]
  },
  {
   "cell_type": "code",
   "execution_count": null,
   "id": "3e7ccdca",
   "metadata": {},
   "outputs": [],
   "source": []
  },
  {
   "cell_type": "code",
   "execution_count": 1,
   "id": "e4d15967",
   "metadata": {},
   "outputs": [],
   "source": [
    "from pathlib import Path\n",
    "import pandas as pd\n",
    "import pickle\n",
    "import seaborn as sns\n",
    "from collections import defaultdict\n",
    "import matplotlib.pyplot as plt"
   ]
  },
  {
   "cell_type": "code",
   "execution_count": 2,
   "id": "93105218",
   "metadata": {},
   "outputs": [],
   "source": [
    "import sys, os\n",
    "from pathlib import Path\n",
    "\n",
    "sys.path.append(str(Path(os.path.abspath(\"\")).parent))\n",
    "import config"
   ]
  },
  {
   "cell_type": "code",
   "execution_count": 3,
   "id": "c73b4c80",
   "metadata": {},
   "outputs": [],
   "source": [
    "RES_METRIC = 'score/test'"
   ]
  },
  {
   "cell_type": "code",
   "execution_count": 4,
   "id": "0b29e80a",
   "metadata": {},
   "outputs": [
    {
     "data": {
      "text/plain": [
       "'/home/eholden/gnn-entailment-caption/experiments/thesis/graph_depth'"
      ]
     },
     "execution_count": 4,
     "metadata": {},
     "output_type": "execute_result"
    }
   ],
   "source": [
    "BASE_DIR = Path(config.dpath) / 'experiments/thesis/graph_depth/'\n",
    "BASE_DIR = str(BASE_DIR)\n",
    "BASE_DIR"
   ]
  },
  {
   "cell_type": "code",
   "execution_count": 5,
   "id": "fce348fc",
   "metadata": {},
   "outputs": [],
   "source": [
    "configs = [(\"premise\", \"Premise Selection\"),\n",
    "          ('similairty', 'Graph Similarity')]"
   ]
  },
  {
   "cell_type": "markdown",
   "id": "0cf3317b",
   "metadata": {},
   "source": [
    "## Helpers "
   ]
  },
  {
   "cell_type": "code",
   "execution_count": 6,
   "id": "480f2adb",
   "metadata": {},
   "outputs": [],
   "source": [
    "def plot(results, title):\n",
    "    ax = sns.lineplot(results)\n",
    "    ax.set_title(title)\n",
    "    ax.set_ylabel('Score')\n",
    "    ax.set_ylim(0, 1)\n",
    "    ax.set_xlabel('GCN Layers')\n",
    "    plt.show()  \n",
    "\n",
    "    \n",
    "def read_results(config_dir, exp_dirs, tag, results):\n",
    "            \n",
    "    for exp_dir in exp_dirs:\n",
    "        history = Path(config_dir) / exp_dir / 'history.pkl'\n",
    "        with open(history, 'rb') as f:\n",
    "            r = pickle.load(f)[RES_METRIC][-1]\n",
    "            results[tag].append(r)\n",
    "            \n",
    "    return results"
   ]
  },
  {
   "cell_type": "code",
   "execution_count": null,
   "id": "304b869f",
   "metadata": {},
   "outputs": [],
   "source": []
  },
  {
   "cell_type": "markdown",
   "id": "7cec97d4",
   "metadata": {},
   "source": [
    "# Make plots"
   ]
  },
  {
   "cell_type": "code",
   "execution_count": 7,
   "id": "305ecf65",
   "metadata": {},
   "outputs": [
    {
     "data": {
      "image/png": "[encoded data removed]",
      "text/plain": [
       "<Figure size 640x480 with 1 Axes>"
      ]
     },
     "metadata": {},
     "output_type": "display_data"
    },
    {
     "ename": "FileNotFoundError",
     "evalue": "[Errno 2] No such file or directory: '/home/eholden/gnn-entailment-caption/experiments/thesis/graph_depth/similairty'",
     "output_type": "error",
     "traceback": [
      "\u001b[0;31m---------------------------------------------------------------------------\u001b[0m",
      "\u001b[0;31mFileNotFoundError\u001b[0m                         Traceback (most recent call last)",
      "Cell \u001b[0;32mIn[7], line 7\u001b[0m\n\u001b[1;32m      5\u001b[0m \u001b[38;5;66;03m# Read all nodes\u001b[39;00m\n\u001b[1;32m      6\u001b[0m config_dir \u001b[38;5;241m=\u001b[39m os\u001b[38;5;241m.\u001b[39mpath\u001b[38;5;241m.\u001b[39mjoin(BASE_DIR, conf)\n\u001b[0;32m----> 7\u001b[0m exp_dirs \u001b[38;5;241m=\u001b[39m \u001b[38;5;28msorted\u001b[39m(\u001b[43mos\u001b[49m\u001b[38;5;241;43m.\u001b[39;49m\u001b[43mlistdir\u001b[49m\u001b[43m(\u001b[49m\u001b[43mconfig_dir\u001b[49m\u001b[43m)\u001b[49m)\n\u001b[1;32m      8\u001b[0m res \u001b[38;5;241m=\u001b[39m read_results(config_dir, exp_dirs, \u001b[38;5;124m'\u001b[39m\u001b[38;5;124mAll Nodes\u001b[39m\u001b[38;5;124m'\u001b[39m, res)\n\u001b[1;32m     11\u001b[0m \u001b[38;5;66;03m# Read without argument nodes\u001b[39;00m\n",
      "\u001b[0;31mFileNotFoundError\u001b[0m: [Errno 2] No such file or directory: '/home/eholden/gnn-entailment-caption/experiments/thesis/graph_depth/similairty'"
     ]
    }
   ],
   "source": [
    "for conf, title in configs:\n",
    "    \n",
    "    res = defaultdict(list)\n",
    "\n",
    "    # Read all nodes\n",
    "    config_dir = os.path.join(BASE_DIR, conf)\n",
    "    exp_dirs = sorted(os.listdir(config_dir))\n",
    "    res = read_results(config_dir, exp_dirs, 'All Nodes', res)\n",
    "\n",
    "    \n",
    "    # Read without argument nodes\n",
    "    config_dir = os.path.join(BASE_DIR, f\"{conf}_rm\")\n",
    "    exp_dirs = sorted(os.listdir(config_dir))\n",
    "    res = read_results(config_dir, exp_dirs, 'No Argument node', res)\n",
    "    \n",
    "    # Convert to df\n",
    "    res = pd.DataFrame(res)\n",
    "    res.index += 1 \n",
    "\n",
    "    # Plot the results\n",
    "    plot(res, title)"
   ]
  },
  {
   "cell_type": "code",
   "execution_count": null,
   "id": "8461eaee",
   "metadata": {},
   "outputs": [],
   "source": []
  },
  {
   "cell_type": "code",
   "execution_count": null,
   "id": "738e9b86",
   "metadata": {},
   "outputs": [],
   "source": []
  },
  {
   "cell_type": "code",
   "execution_count": null,
   "id": "28375b05",
   "metadata": {},
   "outputs": [],
   "source": []
  },
  {
   "cell_type": "code",
   "execution_count": null,
   "id": "2fa8a8bd",
   "metadata": {},
   "outputs": [],
   "source": []
  },
  {
   "cell_type": "code",
   "execution_count": null,
   "id": "9cf7d3b6",
   "metadata": {},
   "outputs": [],
   "source": []
  },
  {
   "cell_type": "code",
   "execution_count": null,
   "id": "fd47f964",
   "metadata": {},
   "outputs": [],
   "source": []
  },
  {
   "cell_type": "code",
   "execution_count": null,
   "id": "33909896",
   "metadata": {},
   "outputs": [],
   "source": []
  }
 ],
 "metadata": {
  "kernelspec": {
   "display_name": "Python 3 (ipykernel)",
   "language": "python",
   "name": "python3"
  },
  "language_info": {
   "codemirror_mode": {
    "name": "ipython",
    "version": 3
   },
   "file_extension": ".py",
   "mimetype": "text/x-python",
   "name": "python",
   "nbconvert_exporter": "python",
   "pygments_lexer": "ipython3",
   "version": "3.10.8"
  }
 },
 "nbformat": 4,
 "nbformat_minor": 5
}
