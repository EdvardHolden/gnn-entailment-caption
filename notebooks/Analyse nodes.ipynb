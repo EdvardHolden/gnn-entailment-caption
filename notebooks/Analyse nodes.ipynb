{
 "cells": [
  {
   "cell_type": "markdown",
   "id": "335688ea",
   "metadata": {},
   "source": [
    "# Analyse nodes"
   ]
  },
  {
   "cell_type": "code",
   "execution_count": 1,
   "id": "272ba51e",
   "metadata": {},
   "outputs": [
    {
     "name": "stdout",
     "output_type": "stream",
     "text": [
      "env: CUDA_VISIBLE_DEVICES=\"\"\n"
     ]
    }
   ],
   "source": [
    "%env CUDA_VISIBLE_DEVICES=\"\""
   ]
  },
  {
   "cell_type": "code",
   "execution_count": 12,
   "id": "939689a1",
   "metadata": {},
   "outputs": [],
   "source": [
    "import sys\n",
    "import os\n",
    "from pathlib import Path\n",
    "import numpy as np\n",
    "import seaborn as sns\n",
    "\n",
    "sys.path.append(str(Path(os.path.abspath('')).parent))\n",
    "from dataset import TorchDataset, get_data_loader, TorchDatasetNEW"
   ]
  },
  {
   "cell_type": "code",
   "execution_count": 13,
   "id": "f1912a29",
   "metadata": {},
   "outputs": [],
   "source": [
    "ID_FILE = '../id_files/dev_100.txt'"
   ]
  },
  {
   "cell_type": "code",
   "execution_count": 14,
   "id": "eacfb0fa",
   "metadata": {},
   "outputs": [
    {
     "data": {
      "text/plain": [
       "TorchDatasetNEW(100)"
      ]
     },
     "execution_count": 14,
     "metadata": {},
     "output_type": "execute_result"
    }
   ],
   "source": [
    "data = TorchDatasetNEW(ID_FILE)\n",
    "data"
   ]
  },
  {
   "cell_type": "markdown",
   "id": "1e8aa615",
   "metadata": {},
   "source": [
    "## Number of nodes per problem"
   ]
  },
  {
   "cell_type": "code",
   "execution_count": 15,
   "id": "6e49507f",
   "metadata": {},
   "outputs": [],
   "source": [
    "node_counts = [len(d.x) for d in data]"
   ]
  },
  {
   "cell_type": "code",
   "execution_count": 17,
   "id": "84647ac9",
   "metadata": {},
   "outputs": [
    {
     "name": "stdout",
     "output_type": "stream",
     "text": [
      "Max number of nodes: 908\n",
      "Min number of nodes: 10\n",
      "Avg number of nodes: 131.5\n"
     ]
    }
   ],
   "source": [
    "print(f\"Max number of nodes:\", max(node_counts))\n",
    "print(f\"Min number of nodes:\", min(node_counts))\n",
    "print(f\"Avg number of nodes:\", np.mean(node_counts))"
   ]
  },
  {
   "cell_type": "code",
   "execution_count": 19,
   "id": "38bb3e30",
   "metadata": {},
   "outputs": [
    {
     "data": {
      "text/plain": [
       "<AxesSubplot:ylabel='Count'>"
      ]
     },
     "execution_count": 19,
     "metadata": {},
     "output_type": "execute_result"
    },
    {
     "data": {
      "image/png": "[encoded data removed]",
      "text/plain": [
       "<Figure size 432x288 with 1 Axes>"
      ]
     },
     "metadata": {
      "needs_background": "light"
     },
     "output_type": "display_data"
    }
   ],
   "source": [
    "sns.histplot(node_counts)"
   ]
  },
  {
   "cell_type": "markdown",
   "id": "e2d9aa91",
   "metadata": {},
   "source": [
    "## Number of axioms per problem"
   ]
  },
  {
   "cell_type": "code",
   "execution_count": 27,
   "id": "890bee95",
   "metadata": {},
   "outputs": [],
   "source": [
    "axiom_counts = [len(d.y) for d in data]"
   ]
  },
  {
   "cell_type": "code",
   "execution_count": 29,
   "id": "158fe29e",
   "metadata": {},
   "outputs": [
    {
     "name": "stdout",
     "output_type": "stream",
     "text": [
      "Max number of axioms: 2\n",
      "Min number of axioms: 2\n",
      "Avg number of axioms: 2.0\n"
     ]
    }
   ],
   "source": [
    "print(f\"Max number of axioms:\", max(axiom_counts))\n",
    "print(f\"Min number of axioms:\", min(axiom_counts))\n",
    "print(f\"Avg number of axioms:\", np.mean(axiom_counts))"
   ]
  },
  {
   "cell_type": "code",
   "execution_count": 30,
   "id": "f0410fde",
   "metadata": {},
   "outputs": [
    {
     "data": {
      "text/plain": [
       "<AxesSubplot:ylabel='Count'>"
      ]
     },
     "execution_count": 30,
     "metadata": {},
     "output_type": "execute_result"
    },
    {
     "data": {
      "image/png": "[encoded data removed]",
      "text/plain": [
       "<Figure size 432x288 with 1 Axes>"
      ]
     },
     "metadata": {
      "needs_background": "light"
     },
     "output_type": "display_data"
    }
   ],
   "source": [
    "sns.histplot(axiom_counts)"
   ]
  },
  {
   "cell_type": "markdown",
   "id": "cc5837fe",
   "metadata": {},
   "source": [
    "# Ratio of axiom nodes over all nodes"
   ]
  },
  {
   "cell_type": "code",
   "execution_count": 36,
   "id": "43cd8714",
   "metadata": {},
   "outputs": [],
   "source": [
    "axiom_ratio = np.divide(axiom_counts, node_counts)"
   ]
  },
  {
   "cell_type": "code",
   "execution_count": 41,
   "id": "8ed65635",
   "metadata": {},
   "outputs": [
    {
     "name": "stdout",
     "output_type": "stream",
     "text": [
      "Max ratio: 0.20\n",
      "Min ratio: 0.00\n",
      "Avg ratio: 0.03\n"
     ]
    }
   ],
   "source": [
    "print(f\"Max ratio: {max(axiom_ratio):.2f}\")\n",
    "print(f\"Min ratio: {min(axiom_ratio):.2f}\")\n",
    "print(f\"Avg ratio: {np.mean(axiom_ratio):.2f}\")"
   ]
  },
  {
   "cell_type": "code",
   "execution_count": null,
   "id": "c1f00899",
   "metadata": {},
   "outputs": [],
   "source": []
  },
  {
   "cell_type": "code",
   "execution_count": null,
   "id": "fcffd1fb",
   "metadata": {},
   "outputs": [],
   "source": []
  },
  {
   "cell_type": "code",
   "execution_count": null,
   "id": "231219b2",
   "metadata": {},
   "outputs": [],
   "source": []
  },
  {
   "cell_type": "code",
   "execution_count": null,
   "id": "5d817875",
   "metadata": {},
   "outputs": [],
   "source": []
  }
 ],
 "metadata": {
  "kernelspec": {
   "display_name": "Python 3 (ipykernel)",
   "language": "python",
   "name": "python3"
  },
  "language_info": {
   "codemirror_mode": {
    "name": "ipython",
    "version": 3
   },
   "file_extension": ".py",
   "mimetype": "text/x-python",
   "name": "python",
   "nbconvert_exporter": "python",
   "pygments_lexer": "ipython3",
   "version": "3.7.5"
  }
 },
 "nbformat": 4,
 "nbformat_minor": 5
}
