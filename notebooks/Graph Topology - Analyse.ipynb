{
 "cells": [
  {
   "cell_type": "markdown",
   "id": "7c547156",
   "metadata": {},
   "source": [
    "# Graph Topology - Make Table"
   ]
  },
  {
   "cell_type": "code",
   "execution_count": 1,
   "id": "f1911ee9",
   "metadata": {},
   "outputs": [],
   "source": [
    "import pandas as pd\n",
    "import pickle\n",
    "import seaborn as sns"
   ]
  },
  {
   "cell_type": "code",
   "execution_count": null,
   "id": "8122a5bb",
   "metadata": {},
   "outputs": [],
   "source": []
  },
  {
   "cell_type": "code",
   "execution_count": 2,
   "id": "b9781a42",
   "metadata": {},
   "outputs": [],
   "source": [
    "with open('graph_top_stats.pickle', 'rb') as handle:\n",
    "    data = pickle.load(handle)"
   ]
  },
  {
   "cell_type": "code",
   "execution_count": 3,
   "id": "086f4781",
   "metadata": {},
   "outputs": [],
   "source": [
    "df = pd.DataFrame(data).T"
   ]
  },
  {
   "cell_type": "code",
   "execution_count": 4,
   "id": "d0997fc7",
   "metadata": {},
   "outputs": [
    {
     "data": {
      "text/html": [
       "<div>\n",
       "<style scoped>\n",
       "    .dataframe tbody tr th:only-of-type {\n",
       "        vertical-align: middle;\n",
       "    }\n",
       "\n",
       "    .dataframe tbody tr th {\n",
       "        vertical-align: top;\n",
       "    }\n",
       "\n",
       "    .dataframe thead th {\n",
       "        text-align: right;\n",
       "    }\n",
       "</style>\n",
       "<table border=\"1\" class=\"dataframe\">\n",
       "  <thead>\n",
       "    <tr style=\"text-align: right;\">\n",
       "      <th></th>\n",
       "      <th>Average geodesic</th>\n",
       "      <th>Cluster coefficient</th>\n",
       "      <th>Communities</th>\n",
       "      <th>Degree Correlation</th>\n",
       "      <th>Degree max</th>\n",
       "      <th>Degree mean</th>\n",
       "      <th>Degree min</th>\n",
       "      <th>Diameter</th>\n",
       "      <th>No Axioms</th>\n",
       "      <th>No Edges</th>\n",
       "      <th>No Nodes</th>\n",
       "      <th>Transitivity</th>\n",
       "    </tr>\n",
       "  </thead>\n",
       "  <tbody>\n",
       "    <tr>\n",
       "      <th>l100_interva1</th>\n",
       "      <td>7.512239</td>\n",
       "      <td>0.102644</td>\n",
       "      <td>22</td>\n",
       "      <td>-0.001023</td>\n",
       "      <td>35.0</td>\n",
       "      <td>3.224490</td>\n",
       "      <td>1.0</td>\n",
       "      <td>18</td>\n",
       "      <td>22</td>\n",
       "      <td>1343</td>\n",
       "      <td>833</td>\n",
       "      <td>0.088778</td>\n",
       "    </tr>\n",
       "    <tr>\n",
       "      <th>l100_geomtrap</th>\n",
       "      <td>6.047451</td>\n",
       "      <td>0.125238</td>\n",
       "      <td>13</td>\n",
       "      <td>-0.009350</td>\n",
       "      <td>28.0</td>\n",
       "      <td>3.450000</td>\n",
       "      <td>1.0</td>\n",
       "      <td>14</td>\n",
       "      <td>6</td>\n",
       "      <td>828</td>\n",
       "      <td>480</td>\n",
       "      <td>0.101947</td>\n",
       "    </tr>\n",
       "    <tr>\n",
       "      <th>l100_fomodel4</th>\n",
       "      <td>7.602418</td>\n",
       "      <td>0.141829</td>\n",
       "      <td>22</td>\n",
       "      <td>-0.064278</td>\n",
       "      <td>38.0</td>\n",
       "      <td>3.424561</td>\n",
       "      <td>1.0</td>\n",
       "      <td>20</td>\n",
       "      <td>24</td>\n",
       "      <td>2440</td>\n",
       "      <td>1425</td>\n",
       "      <td>0.099214</td>\n",
       "    </tr>\n",
       "    <tr>\n",
       "      <th>l100_fomodel0</th>\n",
       "      <td>7.438659</td>\n",
       "      <td>0.136726</td>\n",
       "      <td>27</td>\n",
       "      <td>-0.050893</td>\n",
       "      <td>48.0</td>\n",
       "      <td>3.378502</td>\n",
       "      <td>1.0</td>\n",
       "      <td>19</td>\n",
       "      <td>24</td>\n",
       "      <td>2593</td>\n",
       "      <td>1535</td>\n",
       "      <td>0.095549</td>\n",
       "    </tr>\n",
       "    <tr>\n",
       "      <th>l100_finseq_1</th>\n",
       "      <td>6.186199</td>\n",
       "      <td>0.121854</td>\n",
       "      <td>8</td>\n",
       "      <td>0.001667</td>\n",
       "      <td>12.0</td>\n",
       "      <td>2.987952</td>\n",
       "      <td>1.0</td>\n",
       "      <td>15</td>\n",
       "      <td>12</td>\n",
       "      <td>248</td>\n",
       "      <td>166</td>\n",
       "      <td>0.116279</td>\n",
       "    </tr>\n",
       "  </tbody>\n",
       "</table>\n",
       "</div>"
      ],
      "text/plain": [
       "               Average geodesic  Cluster coefficient  Communities  \\\n",
       "l100_interva1          7.512239             0.102644           22   \n",
       "l100_geomtrap          6.047451             0.125238           13   \n",
       "l100_fomodel4          7.602418             0.141829           22   \n",
       "l100_fomodel0          7.438659             0.136726           27   \n",
       "l100_finseq_1          6.186199             0.121854            8   \n",
       "\n",
       "               Degree Correlation  Degree max  Degree mean  Degree min  \\\n",
       "l100_interva1           -0.001023        35.0     3.224490         1.0   \n",
       "l100_geomtrap           -0.009350        28.0     3.450000         1.0   \n",
       "l100_fomodel4           -0.064278        38.0     3.424561         1.0   \n",
       "l100_fomodel0           -0.050893        48.0     3.378502         1.0   \n",
       "l100_finseq_1            0.001667        12.0     2.987952         1.0   \n",
       "\n",
       "               Diameter  No Axioms  No Edges  No Nodes  Transitivity  \n",
       "l100_interva1        18         22      1343       833      0.088778  \n",
       "l100_geomtrap        14          6       828       480      0.101947  \n",
       "l100_fomodel4        20         24      2440      1425      0.099214  \n",
       "l100_fomodel0        19         24      2593      1535      0.095549  \n",
       "l100_finseq_1        15         12       248       166      0.116279  "
      ]
     },
     "execution_count": 4,
     "metadata": {},
     "output_type": "execute_result"
    }
   ],
   "source": [
    "df = df[sorted(df.columns)]\n",
    "\n",
    "# Type conversion on the ints\n",
    "type_map = {'No Axioms': int, 'No Edges': int, 'No Nodes': int, 'Diameter': int, 'Communities': int}\n",
    "df = df.astype(type_map) \n",
    "\n",
    "df"
   ]
  },
  {
   "cell_type": "code",
   "execution_count": null,
   "id": "7c984130",
   "metadata": {},
   "outputs": [],
   "source": []
  },
  {
   "cell_type": "markdown",
   "id": "1a93f9c2",
   "metadata": {},
   "source": [
    "## Plot correlation between axioms and communities"
   ]
  },
  {
   "cell_type": "code",
   "execution_count": 5,
   "id": "31d23a9a",
   "metadata": {},
   "outputs": [
    {
     "data": {
      "text/plain": [
       "0.8532154435944017"
      ]
     },
     "execution_count": 5,
     "metadata": {},
     "output_type": "execute_result"
    }
   ],
   "source": [
    "# Axiom and community correlation\n",
    "df['No Axioms'].corr(df['Communities'])"
   ]
  },
  {
   "cell_type": "code",
   "execution_count": 6,
   "id": "1451df54",
   "metadata": {},
   "outputs": [
    {
     "data": {
      "text/plain": [
       "<seaborn.axisgrid.FacetGrid at 0x7f7574c6b550>"
      ]
     },
     "execution_count": 6,
     "metadata": {},
     "output_type": "execute_result"
    },
    {
     "data": {
      "image/png": "[encoded data removed]",
      "text/plain": [
       "<Figure size 500x500 with 1 Axes>"
      ]
     },
     "metadata": {},
     "output_type": "display_data"
    }
   ],
   "source": [
    "g = sns.lmplot(x=\"No Axioms\", y=\"Communities\", data=df)\n",
    "#max_label = int(max(max(df[\"No Axioms\"]), max(df['Communities'])))\n",
    "#ax.set_xticklabels(range(0, max_label + 1))\n",
    "#ax.set_yticklabels(range(0, max_label + 1))\n",
    "\n",
    "g.set(ylim=(0, None))\n",
    "g.set(xlim=(0, None))"
   ]
  },
  {
   "cell_type": "code",
   "execution_count": null,
   "id": "e164a1b1",
   "metadata": {},
   "outputs": [],
   "source": []
  },
  {
   "cell_type": "markdown",
   "id": "0e95d111",
   "metadata": {},
   "source": [
    "# Create stats table"
   ]
  },
  {
   "cell_type": "code",
   "execution_count": null,
   "id": "6723e5bc",
   "metadata": {},
   "outputs": [],
   "source": []
  },
  {
   "cell_type": "code",
   "execution_count": 7,
   "id": "acccc3cb",
   "metadata": {},
   "outputs": [],
   "source": [
    "#df_min = df.min().astype(type_map)\n",
    "#df_max = df.max().astype(type_map)\n",
    "#df_mean = df.mean()\n",
    "\n",
    "#df_tab = pd.concat([df.min(), df.max(), df.mean()], axis=1)\n",
    "df_tab = pd.concat([df.min(), df.max(), df.mean()], axis=1)\n",
    "\n",
    "df_tab.rename(columns={0: 'Min', 1: 'Max', 2: 'Mean'}, inplace=True)\n",
    "df_tab.index = df_tab.index.rename('Property')\n",
    "\n",
    "df_tab = df_tab.round(2)"
   ]
  },
  {
   "cell_type": "code",
   "execution_count": null,
   "id": "6a08dd8d",
   "metadata": {},
   "outputs": [],
   "source": []
  },
  {
   "cell_type": "code",
   "execution_count": 8,
   "id": "adcdd55d",
   "metadata": {},
   "outputs": [
    {
     "name": "stdout",
     "output_type": "stream",
     "text": [
      "\\begin{tabular}{lrrr}\n",
      "\\toprule\n",
      "{} &     Min &      Max &     Mean \\\\\n",
      "Property            &         &          &          \\\\\n",
      "\\midrule\n",
      "Average geodesic    &    6.05 &     7.60 &     6.96 \\\\\n",
      "Cluster coefficient &    0.10 &     0.14 &     0.13 \\\\\n",
      "Communities         &    8.00 &    27.00 &    18.40 \\\\\n",
      "Degree Correlation  &   -0.06 &     0.00 &    -0.02 \\\\\n",
      "Degree max          &   12.00 &    48.00 &    32.20 \\\\\n",
      "Degree mean         &    2.99 &     3.45 &     3.29 \\\\\n",
      "Degree min          &    1.00 &     1.00 &     1.00 \\\\\n",
      "Diameter            &   14.00 &    20.00 &    17.20 \\\\\n",
      "No Axioms           &    6.00 &    24.00 &    17.60 \\\\\n",
      "No Edges            &  248.00 &  2593.00 &  1490.40 \\\\\n",
      "No Nodes            &  166.00 &  1535.00 &   887.80 \\\\\n",
      "Transitivity        &    0.09 &     0.12 &     0.10 \\\\\n",
      "\\bottomrule\n",
      "\\end{tabular}\n",
      "\n"
     ]
    },
    {
     "name": "stderr",
     "output_type": "stream",
     "text": [
      "/tmp/ipykernel_579082/1203108888.py:1: FutureWarning: In future versions `DataFrame.to_latex` is expected to utilise the base implementation of `Styler.to_latex` for formatting and rendering. The arguments signature may therefore change. It is recommended instead to use `DataFrame.style.to_latex` which also contains additional functionality.\n",
      "  print(df_tab.to_latex())\n"
     ]
    }
   ],
   "source": [
    "print(df_tab.to_latex())"
   ]
  },
  {
   "cell_type": "code",
   "execution_count": null,
   "id": "6fb650f7",
   "metadata": {},
   "outputs": [],
   "source": []
  },
  {
   "cell_type": "code",
   "execution_count": null,
   "id": "153e0889",
   "metadata": {},
   "outputs": [],
   "source": []
  },
  {
   "cell_type": "code",
   "execution_count": null,
   "id": "bc88c643",
   "metadata": {},
   "outputs": [],
   "source": []
  },
  {
   "cell_type": "code",
   "execution_count": null,
   "id": "712a53dc",
   "metadata": {},
   "outputs": [],
   "source": []
  },
  {
   "cell_type": "code",
   "execution_count": null,
   "id": "8f9bb00e",
   "metadata": {},
   "outputs": [],
   "source": []
  },
  {
   "cell_type": "code",
   "execution_count": null,
   "id": "096f81fe",
   "metadata": {},
   "outputs": [],
   "source": []
  },
  {
   "cell_type": "code",
   "execution_count": null,
   "id": "48e7803f",
   "metadata": {},
   "outputs": [],
   "source": []
  },
  {
   "cell_type": "code",
   "execution_count": null,
   "id": "7659844a",
   "metadata": {},
   "outputs": [],
   "source": []
  },
  {
   "cell_type": "code",
   "execution_count": null,
   "id": "2ee34080",
   "metadata": {},
   "outputs": [],
   "source": []
  },
  {
   "cell_type": "code",
   "execution_count": null,
   "id": "5904be28",
   "metadata": {},
   "outputs": [],
   "source": []
  },
  {
   "cell_type": "code",
   "execution_count": null,
   "id": "f928e05a",
   "metadata": {},
   "outputs": [],
   "source": []
  },
  {
   "cell_type": "code",
   "execution_count": null,
   "id": "25bde6f9",
   "metadata": {},
   "outputs": [],
   "source": []
  },
  {
   "cell_type": "code",
   "execution_count": null,
   "id": "ea62bddf",
   "metadata": {},
   "outputs": [],
   "source": []
  },
  {
   "cell_type": "code",
   "execution_count": null,
   "id": "da27cfb7",
   "metadata": {},
   "outputs": [],
   "source": []
  }
 ],
 "metadata": {
  "kernelspec": {
   "display_name": "Python 3 (ipykernel)",
   "language": "python",
   "name": "python3"
  },
  "language_info": {
   "codemirror_mode": {
    "name": "ipython",
    "version": 3
   },
   "file_extension": ".py",
   "mimetype": "text/x-python",
   "name": "python",
   "nbconvert_exporter": "python",
   "pygments_lexer": "ipython3",
   "version": "3.10.8"
  }
 },
 "nbformat": 4,
 "nbformat_minor": 5
}
