{
 "cells": [
  {
   "cell_type": "markdown",
   "id": "32abc6cb",
   "metadata": {},
   "source": [
    "# Visualize Graph Embeddings"
   ]
  },
  {
   "cell_type": "code",
   "execution_count": 1,
   "id": "8af856a4",
   "metadata": {},
   "outputs": [
    {
     "name": "stdout",
     "output_type": "stream",
     "text": [
      "env: CUDA_VISIBLE_DEVICES=\"\"\n"
     ]
    }
   ],
   "source": [
    "%env CUDA_VISIBLE_DEVICES=\"\""
   ]
  },
  {
   "cell_type": "code",
   "execution_count": 2,
   "id": "ca356178",
   "metadata": {},
   "outputs": [],
   "source": [
    "# https://pyvis.readthedocs.io/en/latest/tutorial.html#add-nodes-to-the-network"
   ]
  },
  {
   "cell_type": "code",
   "execution_count": 3,
   "id": "76925bb7",
   "metadata": {},
   "outputs": [],
   "source": [
    "import os\n",
    "import sys\n",
    "from pathlib import Path"
   ]
  },
  {
   "cell_type": "code",
   "execution_count": 4,
   "id": "724f6bad",
   "metadata": {},
   "outputs": [
    {
     "data": {
      "text/plain": [
       "PosixPath('/home/eholden/gnn-entailment-caption')"
      ]
     },
     "execution_count": 4,
     "metadata": {},
     "output_type": "execute_result"
    }
   ],
   "source": [
    "Path(os.path.abspath('')).parent.absolute()"
   ]
  },
  {
   "cell_type": "code",
   "execution_count": 5,
   "id": "d145378c",
   "metadata": {},
   "outputs": [],
   "source": [
    "dpath = str(Path(os.path.abspath('')).parent)"
   ]
  },
  {
   "cell_type": "code",
   "execution_count": 6,
   "id": "05d7265d",
   "metadata": {},
   "outputs": [],
   "source": [
    "sys.path.append(dpath)"
   ]
  },
  {
   "cell_type": "code",
   "execution_count": 7,
   "id": "3201c0dd",
   "metadata": {},
   "outputs": [
    {
     "data": {
      "text/plain": [
       "['/home/eholden/gnn-entailment-caption/notebooks',\n",
       " '/home/eholden/.pyenv/versions/3.7.5/lib/python37.zip',\n",
       " '/home/eholden/.pyenv/versions/3.7.5/lib/python3.7',\n",
       " '/home/eholden/.pyenv/versions/3.7.5/lib/python3.7/lib-dynload',\n",
       " '',\n",
       " '/home/eholden/.pyenv/versions/3.7.5/lib/python3.7/site-packages',\n",
       " '/home/eholden/.pyenv/versions/3.7.5/lib/python3.7/site-packages/IPython/extensions',\n",
       " '/home/eholden/.ipython',\n",
       " '/home/eholden/gnn-entailment-caption']"
      ]
     },
     "execution_count": 7,
     "metadata": {},
     "output_type": "execute_result"
    }
   ],
   "source": [
    "sys.path"
   ]
  },
  {
   "cell_type": "code",
   "execution_count": 8,
   "id": "dcaa489c",
   "metadata": {},
   "outputs": [],
   "source": [
    "from graph_parser import graph\n",
    "import networkx as nx\n",
    "from pyvis.network import Network\n",
    "from dataset import read_problem_deepmath\n",
    "from config import NODE_TYPE"
   ]
  },
  {
   "cell_type": "code",
   "execution_count": null,
   "id": "8c0c927d",
   "metadata": {},
   "outputs": [],
   "source": []
  },
  {
   "cell_type": "code",
   "execution_count": 9,
   "id": "54ba9cba",
   "metadata": {},
   "outputs": [],
   "source": [
    "def construct_graph(nodes, sources, targets):\n",
    "    net = Network(notebook=True, directed=True)\n",
    "\n",
    "\n",
    "    for i, n in enumerate(nodes):\n",
    "        net.add_node(i, label=NODE_TYPE[n], group=int(n))\n",
    "  \n",
    "\n",
    "    for s, t in zip(sources, targets):\n",
    "        net.add_edge(int(s), int(t))\n",
    "    return net"
   ]
  },
  {
   "cell_type": "code",
   "execution_count": 10,
   "id": "8d5a25e1",
   "metadata": {},
   "outputs": [],
   "source": [
    "# TODO build a node type map?\n",
    "# TODO santy test\n",
    "# TODO make into function\n",
    "# TODO also call for the whole problem\n",
    "# TODO load problem from scratch"
   ]
  },
  {
   "cell_type": "code",
   "execution_count": 11,
   "id": "d5066739",
   "metadata": {},
   "outputs": [],
   "source": [
    "# ls -lSr nndata | head -1000\n",
    "\n",
    "#problem = 'l100_finseq_1'\n",
    "problem = 't6_numbers'\n",
    "#problem = 't6_polyform'\n",
    "#problem = 't31_scmisort' # largest problem\n",
    "\n",
    "conjecture, premises, _ = read_problem_deepmath(os.path.join(dpath, 'nndata'), problem)\n"
   ]
  },
  {
   "cell_type": "markdown",
   "id": "56c7ccd1",
   "metadata": {},
   "source": [
    "## Plot the graph of the conjecture"
   ]
  },
  {
   "cell_type": "code",
   "execution_count": 12,
   "id": "7807193e",
   "metadata": {},
   "outputs": [
    {
     "data": {
      "text/html": [
       "\n",
       "        <iframe\n",
       "            width=\"500px\"\n",
       "            height=\"500px\"\n",
       "            src=\"graph_conjecture.html\"\n",
       "            frameborder=\"0\"\n",
       "            allowfullscreen\n",
       "            \n",
       "        ></iframe>\n",
       "        "
      ],
      "text/plain": [
       "<IPython.lib.display.IFrame at 0x7fdcf989e7d0>"
      ]
     },
     "execution_count": 12,
     "metadata": {},
     "output_type": "execute_result"
    }
   ],
   "source": [
    "nodes, sources, targets, premise_indices, conjecture_indices = graph(conjecture, [])\n",
    "net_conj = construct_graph(nodes, sources, targets)\n",
    "net_conj.show('graph_conjecture.html')"
   ]
  },
  {
   "cell_type": "markdown",
   "id": "1b260b74",
   "metadata": {},
   "source": [
    "## Plot the graph of the problem"
   ]
  },
  {
   "cell_type": "code",
   "execution_count": 13,
   "id": "b9bfcde9",
   "metadata": {},
   "outputs": [
    {
     "data": {
      "text/html": [
       "\n",
       "        <iframe\n",
       "            width=\"500px\"\n",
       "            height=\"500px\"\n",
       "            src=\"graph_problem.html\"\n",
       "            frameborder=\"0\"\n",
       "            allowfullscreen\n",
       "            \n",
       "        ></iframe>\n",
       "        "
      ],
      "text/plain": [
       "<IPython.lib.display.IFrame at 0x7fdcf77b9810>"
      ]
     },
     "execution_count": 13,
     "metadata": {},
     "output_type": "execute_result"
    }
   ],
   "source": [
    "nodes, sources, targets, premise_indices, conjecture_indices = graph(conjecture, premises)\n",
    "net_prob = construct_graph(nodes, sources, targets)\n",
    "net_prob.show('graph_problem.html')"
   ]
  },
  {
   "cell_type": "code",
   "execution_count": 14,
   "id": "4f05c572",
   "metadata": {},
   "outputs": [],
   "source": [
    "net_prob.show_buttons()"
   ]
  },
  {
   "cell_type": "code",
   "execution_count": 15,
   "id": "5523c18f",
   "metadata": {},
   "outputs": [],
   "source": [
    "net_prob.show_buttons(filter_=['physics'])"
   ]
  },
  {
   "cell_type": "code",
   "execution_count": 16,
   "id": "84538a8c",
   "metadata": {},
   "outputs": [
    {
     "data": {
      "text/html": [
       "\n",
       "        <iframe\n",
       "            width=\"500px\"\n",
       "            height=\"500px\"\n",
       "            src=\"graph_conjecture.html\"\n",
       "            frameborder=\"0\"\n",
       "            allowfullscreen\n",
       "            \n",
       "        ></iframe>\n",
       "        "
      ],
      "text/plain": [
       "<IPython.lib.display.IFrame at 0x7fdcf77c2c90>"
      ]
     },
     "execution_count": 16,
     "metadata": {},
     "output_type": "execute_result"
    }
   ],
   "source": [
    "net_prob.show('graph_conjecture.html')"
   ]
  },
  {
   "cell_type": "code",
   "execution_count": 17,
   "id": "b277f3e5",
   "metadata": {},
   "outputs": [
    {
     "data": {
      "text/html": [
       "\n",
       "        <iframe\n",
       "            width=\"500px\"\n",
       "            height=\"500px\"\n",
       "            src=\"graph_conjecture.html\"\n",
       "            frameborder=\"0\"\n",
       "            allowfullscreen\n",
       "            \n",
       "        ></iframe>\n",
       "        "
      ],
      "text/plain": [
       "<IPython.lib.display.IFrame at 0x7fdcf7754810>"
      ]
     },
     "execution_count": 17,
     "metadata": {},
     "output_type": "execute_result"
    }
   ],
   "source": [
    "net_conj.show_buttons()\n",
    "net_conj.show('graph_conjecture.html')"
   ]
  },
  {
   "cell_type": "code",
   "execution_count": null,
   "id": "3ee43648",
   "metadata": {},
   "outputs": [],
   "source": []
  },
  {
   "cell_type": "markdown",
   "id": "75cc52d5",
   "metadata": {},
   "source": [
    "# Plot single axiom from TPTP"
   ]
  },
  {
   "cell_type": "code",
   "execution_count": null,
   "id": "bd9ca11a",
   "metadata": {},
   "outputs": [],
   "source": []
  },
  {
   "cell_type": "markdown",
   "id": "9d853c0f",
   "metadata": {},
   "source": [
    "fof(grandparent,axiom,\n",
    "    ( ! [X] :\n",
    "        ( grandparent(X)\n",
    "      <=> ( parent(X)\n",
    "          & ? [Y] :\n",
    "              ( child(X,Y)\n",
    "              & parent(Y) ) ) ) ))."
   ]
  },
  {
   "cell_type": "code",
   "execution_count": 18,
   "id": "ea5c5d68",
   "metadata": {},
   "outputs": [
    {
     "data": {
      "text/html": [
       "\n",
       "        <iframe\n",
       "            width=\"500px\"\n",
       "            height=\"500px\"\n",
       "            src=\"grandparent_axiom.html\"\n",
       "            frameborder=\"0\"\n",
       "            allowfullscreen\n",
       "            \n",
       "        ></iframe>\n",
       "        "
      ],
      "text/plain": [
       "<IPython.lib.display.IFrame at 0x7fdcf774a410>"
      ]
     },
     "execution_count": 18,
     "metadata": {},
     "output_type": "execute_result"
    }
   ],
   "source": [
    "axiom = b\"fof(grandparent,axiom, ( ! [X] : ( grandparent(X) <=> ( parent(X) & ? [Y] : ( child(X,Y) & parent(Y) ) ) ) )).\"\n",
    "nodes, sources, targets, premise_indices, conjecture_indices = graph([], [axiom])\n",
    "net_axiom = construct_graph(nodes, sources, targets)\n",
    "net_axiom.show('grandparent_axiom.html')"
   ]
  },
  {
   "cell_type": "code",
   "execution_count": null,
   "id": "59f28306",
   "metadata": {},
   "outputs": [],
   "source": []
  },
  {
   "cell_type": "code",
   "execution_count": null,
   "id": "1f1452c8",
   "metadata": {},
   "outputs": [],
   "source": []
  },
  {
   "cell_type": "code",
   "execution_count": null,
   "id": "a9de3480",
   "metadata": {},
   "outputs": [],
   "source": []
  },
  {
   "cell_type": "code",
   "execution_count": 19,
   "id": "e23a9617",
   "metadata": {},
   "outputs": [
    {
     "data": {
      "text/html": [
       "\n",
       "        <iframe\n",
       "            width=\"500px\"\n",
       "            height=\"500px\"\n",
       "            src=\"grandparent_axiom.html\"\n",
       "            frameborder=\"0\"\n",
       "            allowfullscreen\n",
       "            \n",
       "        ></iframe>\n",
       "        "
      ],
      "text/plain": [
       "<IPython.lib.display.IFrame at 0x7fdcf774a590>"
      ]
     },
     "execution_count": 19,
     "metadata": {},
     "output_type": "execute_result"
    }
   ],
   "source": [
    "axiom = b\"fof(grandparent,axiom, ( ? [Y] : ( child(X,Y) & parent(Y) ) ) ).\"\n",
    "nodes, sources, targets, premise_indices, conjecture_indices = graph([], [axiom])\n",
    "net_axiom = construct_graph(nodes, sources, targets)\n",
    "net_axiom.show('grandparent_axiom.html')"
   ]
  },
  {
   "cell_type": "code",
   "execution_count": null,
   "id": "c20c3a20",
   "metadata": {},
   "outputs": [],
   "source": []
  },
  {
   "cell_type": "code",
   "execution_count": null,
   "id": "086624ae",
   "metadata": {},
   "outputs": [],
   "source": []
  },
  {
   "cell_type": "code",
   "execution_count": 20,
   "id": "7ab4ae6d",
   "metadata": {},
   "outputs": [
    {
     "data": {
      "text/html": [
       "\n",
       "        <iframe\n",
       "            width=\"500px\"\n",
       "            height=\"500px\"\n",
       "            src=\"grandparent_axiom.html\"\n",
       "            frameborder=\"0\"\n",
       "            allowfullscreen\n",
       "            \n",
       "        ></iframe>\n",
       "        "
      ],
      "text/plain": [
       "<IPython.lib.display.IFrame at 0x7fdcf7754190>"
      ]
     },
     "execution_count": 20,
     "metadata": {},
     "output_type": "execute_result"
    }
   ],
   "source": [
    "axiom = b\"fof(grandparent,axiom, ( ! [X] : ( grandparent(X)) )).\"\n",
    "nodes, sources, targets, premise_indices, conjecture_indices = graph([], [axiom])\n",
    "net_axiom = construct_graph(nodes, sources, targets)\n",
    "net_axiom.show('grandparent_axiom.html')"
   ]
  },
  {
   "cell_type": "code",
   "execution_count": null,
   "id": "bd933b80",
   "metadata": {},
   "outputs": [],
   "source": []
  },
  {
   "cell_type": "code",
   "execution_count": 21,
   "id": "f371d532",
   "metadata": {},
   "outputs": [
    {
     "data": {
      "text/html": [
       "\n",
       "        <iframe\n",
       "            width=\"500px\"\n",
       "            height=\"500px\"\n",
       "            src=\"grandparent_axiom.html\"\n",
       "            frameborder=\"0\"\n",
       "            allowfullscreen\n",
       "            \n",
       "        ></iframe>\n",
       "        "
      ],
      "text/plain": [
       "<IPython.lib.display.IFrame at 0x7fdcf776d750>"
      ]
     },
     "execution_count": 21,
     "metadata": {},
     "output_type": "execute_result"
    }
   ],
   "source": [
    "axiom = b\"fof(grandparent,axiom, ( ! [X] : ( grandparent(X)) <=> y)).\"\n",
    "nodes, sources, targets, premise_indices, conjecture_indices = graph([], [axiom])\n",
    "net_axiom = construct_graph(nodes, sources, targets)\n",
    "net_axiom.show('grandparent_axiom.html')"
   ]
  },
  {
   "cell_type": "code",
   "execution_count": null,
   "id": "bda4e4d8",
   "metadata": {},
   "outputs": [],
   "source": []
  },
  {
   "cell_type": "code",
   "execution_count": 22,
   "id": "4d1388bc",
   "metadata": {},
   "outputs": [
    {
     "data": {
      "text/html": [
       "\n",
       "        <iframe\n",
       "            width=\"500px\"\n",
       "            height=\"500px\"\n",
       "            src=\"grandparent_axiom.html\"\n",
       "            frameborder=\"0\"\n",
       "            allowfullscreen\n",
       "            \n",
       "        ></iframe>\n",
       "        "
      ],
      "text/plain": [
       "<IPython.lib.display.IFrame at 0x7fdcf77b1f90>"
      ]
     },
     "execution_count": 22,
     "metadata": {},
     "output_type": "execute_result"
    }
   ],
   "source": [
    "axiom = b\"fof(parent,axiom, ( child(X, Y))).\"\n",
    "nodes, sources, targets, premise_indices, conjecture_indices = graph([], [axiom])\n",
    "net_axiom = construct_graph(nodes, sources, targets)\n",
    "net_axiom.show('grandparent_axiom.html')"
   ]
  },
  {
   "cell_type": "code",
   "execution_count": null,
   "id": "bdd1c4f5",
   "metadata": {},
   "outputs": [],
   "source": []
  },
  {
   "cell_type": "code",
   "execution_count": null,
   "id": "2a513006",
   "metadata": {},
   "outputs": [],
   "source": []
  },
  {
   "cell_type": "code",
   "execution_count": null,
   "id": "7c1a1d5a",
   "metadata": {},
   "outputs": [],
   "source": []
  },
  {
   "cell_type": "code",
   "execution_count": null,
   "id": "2fead6ae",
   "metadata": {},
   "outputs": [],
   "source": []
  },
  {
   "cell_type": "code",
   "execution_count": null,
   "id": "3e70a27e",
   "metadata": {},
   "outputs": [],
   "source": []
  },
  {
   "cell_type": "code",
   "execution_count": null,
   "id": "74fecd18",
   "metadata": {},
   "outputs": [],
   "source": []
  },
  {
   "cell_type": "code",
   "execution_count": null,
   "id": "24dbf823",
   "metadata": {},
   "outputs": [],
   "source": []
  },
  {
   "cell_type": "code",
   "execution_count": null,
   "id": "cbca56a5",
   "metadata": {},
   "outputs": [],
   "source": []
  },
  {
   "cell_type": "code",
   "execution_count": null,
   "id": "6e72ca8e",
   "metadata": {},
   "outputs": [],
   "source": []
  },
  {
   "cell_type": "code",
   "execution_count": null,
   "id": "e1c11b73",
   "metadata": {},
   "outputs": [],
   "source": []
  },
  {
   "cell_type": "code",
   "execution_count": null,
   "id": "8f9c69de",
   "metadata": {},
   "outputs": [],
   "source": []
  },
  {
   "cell_type": "code",
   "execution_count": null,
   "id": "9a267a28",
   "metadata": {},
   "outputs": [],
   "source": []
  },
  {
   "cell_type": "code",
   "execution_count": null,
   "id": "696d49dc",
   "metadata": {},
   "outputs": [],
   "source": []
  },
  {
   "cell_type": "code",
   "execution_count": null,
   "id": "e4e68f0a",
   "metadata": {},
   "outputs": [],
   "source": []
  },
  {
   "cell_type": "code",
   "execution_count": null,
   "id": "595e0a78",
   "metadata": {},
   "outputs": [],
   "source": []
  }
 ],
 "metadata": {
  "kernelspec": {
   "display_name": "Python 3 (ipykernel)",
   "language": "python",
   "name": "python3"
  },
  "language_info": {
   "codemirror_mode": {
    "name": "ipython",
    "version": 3
   },
   "file_extension": ".py",
   "mimetype": "text/x-python",
   "name": "python",
   "nbconvert_exporter": "python",
   "pygments_lexer": "ipython3",
   "version": "3.7.5"
  }
 },
 "nbformat": 4,
 "nbformat_minor": 5
}
