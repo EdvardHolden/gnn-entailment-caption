{
 "cells": [
  {
   "cell_type": "markdown",
   "id": "32abc6cb",
   "metadata": {},
   "source": [
    "# Visualize Graph Embeddings"
   ]
  },
  {
   "cell_type": "code",
   "execution_count": 1,
   "id": "ca356178",
   "metadata": {},
   "outputs": [],
   "source": [
    "# https://pyvis.readthedocs.io/en/latest/tutorial.html#add-nodes-to-the-network"
   ]
  },
  {
   "cell_type": "code",
   "execution_count": 2,
   "id": "dcaa489c",
   "metadata": {},
   "outputs": [],
   "source": [
    "from parser import graph\n",
    "import networkx as nx\n",
    "from pyvis.network import Network\n",
    "from utils import read_problem_deepmath"
   ]
  },
  {
   "cell_type": "code",
   "execution_count": 3,
   "id": "26cafcd0",
   "metadata": {},
   "outputs": [],
   "source": [
    "# Let's assume that this is correct for the nodetype\n",
    "node_type = {\n",
    "    0: \"True\",\n",
    "    1: \"False\",\n",
    "    2: \"Variable\",\n",
    "    3: \"Functor\",\n",
    "    4: \"Argument\",\n",
    "    5: \"Application\",\n",
    "    6: \"Equality\",\n",
    "    7: \"Negation\",\n",
    "    8: \"And\",\n",
    "    9: \"Or\",\n",
    "    10: \"Equivalent\",\n",
    "    11: \"Forall\",\n",
    "    12: \"Exists\",\n",
    "    13: \"Axiom\",\n",
    "    14: \"Conjecture\",\n",
    "}\n",
    "\n",
    "TODO this is now exprted to config"
   ]
  },
  {
   "cell_type": "code",
   "execution_count": null,
   "id": "8c0c927d",
   "metadata": {},
   "outputs": [],
   "source": []
  },
  {
   "cell_type": "code",
   "execution_count": 4,
   "id": "54ba9cba",
   "metadata": {},
   "outputs": [],
   "source": [
    "def construct_graph(nodes, sources, targets):\n",
    "    net = Network(notebook=True, directed=True)\n",
    "\n",
    "\n",
    "    for i, n in enumerate(nodes):\n",
    "        net.add_node(i, label=node_type[n], group=int(n))\n",
    "  \n",
    "\n",
    "    for s, t in zip(sources, targets):\n",
    "        net.add_edge(int(s), int(t))\n",
    "    return net"
   ]
  },
  {
   "cell_type": "code",
   "execution_count": 5,
   "id": "8d5a25e1",
   "metadata": {},
   "outputs": [],
   "source": [
    "# TODO build a node type map?\n",
    "# TODO santy test\n",
    "# TODO make into function\n",
    "# TODO also call for the whole problem\n",
    "# TODO load problem from scratch"
   ]
  },
  {
   "cell_type": "code",
   "execution_count": 6,
   "id": "d5066739",
   "metadata": {},
   "outputs": [],
   "source": [
    "# ls -lSr nndata | head -1000\n",
    "\n",
    "#problem = 'l100_finseq_1'\n",
    "problem = 't6_numbers'\n",
    "#problem = 't6_polyform'\n",
    "#problem = 't31_scmisort' # largest problem\n",
    "\n",
    "conjecture, premises, _ = read_problem_deepmath(problem, '.')\n"
   ]
  },
  {
   "cell_type": "markdown",
   "id": "56c7ccd1",
   "metadata": {},
   "source": [
    "## Plot the graph of the conjecture"
   ]
  },
  {
   "cell_type": "code",
   "execution_count": 7,
   "id": "7807193e",
   "metadata": {},
   "outputs": [
    {
     "data": {
      "text/html": [
       "\n",
       "        <iframe\n",
       "            width=\"500px\"\n",
       "            height=\"500px\"\n",
       "            src=\"graph_conjecture.html\"\n",
       "            frameborder=\"0\"\n",
       "            allowfullscreen\n",
       "            \n",
       "        ></iframe>\n",
       "        "
      ],
      "text/plain": [
       "<IPython.lib.display.IFrame at 0x7fa16810f890>"
      ]
     },
     "execution_count": 7,
     "metadata": {},
     "output_type": "execute_result"
    }
   ],
   "source": [
    "nodes, sources, targets, premise_indices, conjecture_indices = graph(conjecture, [])\n",
    "net_conj = construct_graph(nodes, sources, targets)\n",
    "net_conj.show('graph_conjecture.html')"
   ]
  },
  {
   "cell_type": "markdown",
   "id": "1b260b74",
   "metadata": {},
   "source": [
    "## Plot the graph of the problem"
   ]
  },
  {
   "cell_type": "code",
   "execution_count": 8,
   "id": "b9bfcde9",
   "metadata": {},
   "outputs": [
    {
     "data": {
      "text/html": [
       "\n",
       "        <iframe\n",
       "            width=\"500px\"\n",
       "            height=\"500px\"\n",
       "            src=\"graph_problem.html\"\n",
       "            frameborder=\"0\"\n",
       "            allowfullscreen\n",
       "            \n",
       "        ></iframe>\n",
       "        "
      ],
      "text/plain": [
       "<IPython.lib.display.IFrame at 0x7fa168119c90>"
      ]
     },
     "execution_count": 8,
     "metadata": {},
     "output_type": "execute_result"
    }
   ],
   "source": [
    "nodes, sources, targets, premise_indices, conjecture_indices = graph(conjecture, premises)\n",
    "net_prob = construct_graph(nodes, sources, targets)\n",
    "net_prob.show('graph_problem.html')"
   ]
  },
  {
   "cell_type": "code",
   "execution_count": 9,
   "id": "4f05c572",
   "metadata": {},
   "outputs": [
    {
     "ename": "NameError",
     "evalue": "name 'net' is not defined",
     "output_type": "error",
     "traceback": [
      "\u001b[0;31m---------------------------------------------------------------------------\u001b[0m",
      "\u001b[0;31mNameError\u001b[0m                                 Traceback (most recent call last)",
      "\u001b[0;32m/tmp/ipykernel_32071/274284020.py\u001b[0m in \u001b[0;36m<module>\u001b[0;34m\u001b[0m\n\u001b[0;32m----> 1\u001b[0;31m \u001b[0mnet\u001b[0m\u001b[0;34m.\u001b[0m\u001b[0mshow_buttons\u001b[0m\u001b[0;34m(\u001b[0m\u001b[0;34m)\u001b[0m\u001b[0;34m\u001b[0m\u001b[0;34m\u001b[0m\u001b[0m\n\u001b[0m",
      "\u001b[0;31mNameError\u001b[0m: name 'net' is not defined"
     ]
    }
   ],
   "source": [
    "net.show_buttons()"
   ]
  },
  {
   "cell_type": "code",
   "execution_count": null,
   "id": "5523c18f",
   "metadata": {},
   "outputs": [],
   "source": [
    "net.show_buttons(filter_=['physics'])"
   ]
  },
  {
   "cell_type": "code",
   "execution_count": null,
   "id": "84538a8c",
   "metadata": {},
   "outputs": [],
   "source": [
    "net.show('graph_conjecture.html')"
   ]
  },
  {
   "cell_type": "code",
   "execution_count": null,
   "id": "b277f3e5",
   "metadata": {},
   "outputs": [],
   "source": [
    "net_conj.show_buttons()\n",
    "net_conj.show('graph_conjecture.html')"
   ]
  },
  {
   "cell_type": "code",
   "execution_count": null,
   "id": "3ee43648",
   "metadata": {},
   "outputs": [],
   "source": []
  }
 ],
 "metadata": {
  "kernelspec": {
   "display_name": "Python 3 (ipykernel)",
   "language": "python",
   "name": "python3"
  },
  "language_info": {
   "codemirror_mode": {
    "name": "ipython",
    "version": 3
   },
   "file_extension": ".py",
   "mimetype": "text/x-python",
   "name": "python",
   "nbconvert_exporter": "python",
   "pygments_lexer": "ipython3",
   "version": "3.7.5"
  }
 },
 "nbformat": 4,
 "nbformat_minor": 5
}
