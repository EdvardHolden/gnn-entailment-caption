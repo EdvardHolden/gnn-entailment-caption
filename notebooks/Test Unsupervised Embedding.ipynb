{
 "cells": [
  {
   "cell_type": "markdown",
   "id": "d3d07e3c",
   "metadata": {},
   "source": [
    "# Test Unsupervised Embedding"
   ]
  },
  {
   "cell_type": "code",
   "execution_count": 1,
   "id": "34db5d12",
   "metadata": {},
   "outputs": [
    {
     "name": "stderr",
     "output_type": "stream",
     "text": [
      "2022-02-16 23:02:34.838705: I tensorflow/stream_executor/cuda/cuda_gpu_executor.cc:937] successful NUMA node read from SysFS had negative value (-1), but there must be at least one NUMA node, so returning NUMA node zero\n",
      "2022-02-16 23:02:34.851328: I tensorflow/stream_executor/cuda/cuda_gpu_executor.cc:937] successful NUMA node read from SysFS had negative value (-1), but there must be at least one NUMA node, so returning NUMA node zero\n",
      "2022-02-16 23:02:34.851625: I tensorflow/stream_executor/cuda/cuda_gpu_executor.cc:937] successful NUMA node read from SysFS had negative value (-1), but there must be at least one NUMA node, so returning NUMA node zero\n"
     ]
    },
    {
     "name": "stdout",
     "output_type": "stream",
     "text": [
      "WARNING:tensorflow:No training configuration found in save file, so the model was *not* compiled. Compile it manually.\n"
     ]
    },
    {
     "name": "stderr",
     "output_type": "stream",
     "text": [
      "2022-02-16 23:02:35.319907: I tensorflow/core/platform/cpu_feature_guard.cc:142] This TensorFlow binary is optimized with oneAPI Deep Neural Network Library (oneDNN) to use the following CPU instructions in performance-critical operations:  AVX2 AVX512F FMA\n",
      "To enable them in other operations, rebuild TensorFlow with the appropriate compiler flags.\n",
      "2022-02-16 23:02:35.320328: I tensorflow/stream_executor/cuda/cuda_gpu_executor.cc:937] successful NUMA node read from SysFS had negative value (-1), but there must be at least one NUMA node, so returning NUMA node zero\n",
      "2022-02-16 23:02:35.320627: I tensorflow/stream_executor/cuda/cuda_gpu_executor.cc:937] successful NUMA node read from SysFS had negative value (-1), but there must be at least one NUMA node, so returning NUMA node zero\n",
      "2022-02-16 23:02:35.320872: I tensorflow/stream_executor/cuda/cuda_gpu_executor.cc:937] successful NUMA node read from SysFS had negative value (-1), but there must be at least one NUMA node, so returning NUMA node zero\n",
      "2022-02-16 23:02:35.640600: I tensorflow/stream_executor/cuda/cuda_gpu_executor.cc:937] successful NUMA node read from SysFS had negative value (-1), but there must be at least one NUMA node, so returning NUMA node zero\n",
      "2022-02-16 23:02:35.640878: I tensorflow/stream_executor/cuda/cuda_gpu_executor.cc:937] successful NUMA node read from SysFS had negative value (-1), but there must be at least one NUMA node, so returning NUMA node zero\n",
      "2022-02-16 23:02:35.641115: I tensorflow/stream_executor/cuda/cuda_gpu_executor.cc:937] successful NUMA node read from SysFS had negative value (-1), but there must be at least one NUMA node, so returning NUMA node zero\n",
      "2022-02-16 23:02:35.641346: I tensorflow/core/common_runtime/gpu/gpu_device.cc:1510] Created device /job:localhost/replica:0/task:0/device:GPU:0 with 2908 MB memory:  -> device: 0, name: NVIDIA GeForce GTX 1660, pci bus id: 0000:01:00.0, compute capability: 7.5\n"
     ]
    }
   ],
   "source": [
    "# import embed_problems_unsupervised\n",
    "from embed_problems_unsupervised import (\n",
    "    get_graph_dataset,\n",
    "    create_embedding_model,\n",
    "    compute_dataset,\n",
    "    train_pair_model,\n",
    ")\n",
    "from tensorflow import keras"
   ]
  },
  {
   "cell_type": "code",
   "execution_count": 2,
   "id": "0319c371",
   "metadata": {},
   "outputs": [],
   "source": [
    "import stellargraph as sg"
   ]
  },
  {
   "cell_type": "markdown",
   "id": "be8312f5",
   "metadata": {},
   "source": [
    "# TODO\n",
    "\n",
    "* Implement save/load\n",
    "* clean up"
   ]
  },
  {
   "cell_type": "code",
   "execution_count": null,
   "id": "aa829100",
   "metadata": {},
   "outputs": [],
   "source": []
  },
  {
   "cell_type": "code",
   "execution_count": 3,
   "id": "e166a324",
   "metadata": {},
   "outputs": [
    {
     "ename": "NameError",
     "evalue": "name '__file__' is not defined",
     "output_type": "error",
     "traceback": [
      "\u001b[0;31m---------------------------------------------------------------------------\u001b[0m",
      "\u001b[0;31mNameError\u001b[0m                                 Traceback (most recent call last)",
      "\u001b[0;32m/tmp/ipykernel_943666/2858949985.py\u001b[0m in \u001b[0;36m<module>\u001b[0;34m\u001b[0m\n\u001b[0;32m----> 1\u001b[0;31m \u001b[0m__file__\u001b[0m\u001b[0;34m\u001b[0m\u001b[0;34m\u001b[0m\u001b[0m\n\u001b[0m",
      "\u001b[0;31mNameError\u001b[0m: name '__file__' is not defined"
     ]
    }
   ],
   "source": [
    "__file__"
   ]
  },
  {
   "cell_type": "code",
   "execution_count": 3,
   "id": "46fbc0b6",
   "metadata": {},
   "outputs": [],
   "source": [
    "problem_dir = \"/home/eholden/gnn-entailment-caption/\"\n",
    "id_file = \"dev_100.txt\""
   ]
  },
  {
   "cell_type": "code",
   "execution_count": null,
   "id": "fa132393",
   "metadata": {},
   "outputs": [],
   "source": []
  },
  {
   "cell_type": "code",
   "execution_count": 4,
   "id": "f3af062e",
   "metadata": {},
   "outputs": [
    {
     "name": "stdout",
     "output_type": "stream",
     "text": [
      "# Processing problems\n"
     ]
    },
    {
     "name": "stderr",
     "output_type": "stream",
     "text": [
      "100%|██████████████████████████████████████████████████████████████████████████████████████████████████████████████████████████████████████████████████████████████████████████████████████████████████████████████████████████████████████████| 100/100 [00:00<00:00, 565.43it/s]"
     ]
    },
    {
     "name": "stdout",
     "output_type": "stream",
     "text": [
      "Number of graphs: 100\n",
      "       nodes   edges\n",
      "count  100.0   100.0\n",
      "mean   131.5   208.3\n",
      "std    130.8   224.3\n",
      "min     10.0     9.0\n",
      "25%     53.8    79.2\n",
      "50%     90.5   142.0\n",
      "75%    168.0   269.8\n",
      "max    908.0  1554.0\n"
     ]
    },
    {
     "name": "stderr",
     "output_type": "stream",
     "text": [
      "\n"
     ]
    }
   ],
   "source": [
    "graphs, problems = get_graph_dataset(id_file, problem_dir)\n",
    "\n",
    "# Create the models and dta generator\n",
    "embedding_model, pair_model, generator = create_embedding_model(graphs)"
   ]
  },
  {
   "cell_type": "code",
   "execution_count": 5,
   "id": "f41157d7",
   "metadata": {},
   "outputs": [
    {
     "name": "stdout",
     "output_type": "stream",
     "text": [
      "# Processing problems\n"
     ]
    },
    {
     "name": "stderr",
     "output_type": "stream",
     "text": [
      "100%|██████████████████████████████████████████████████████████████████████████████████████████████████████████████████████████████████████████████████████████████████████████████████████████████████████████████████████████████████████████| 100/100 [00:00<00:00, 585.72it/s]"
     ]
    },
    {
     "name": "stdout",
     "output_type": "stream",
     "text": [
      "Number of graphs: 100\n",
      "       nodes   edges\n",
      "count  100.0   100.0\n",
      "mean   131.5   208.3\n",
      "std    130.8   224.3\n",
      "min     10.0     9.0\n",
      "25%     53.8    79.2\n",
      "50%     90.5   142.0\n",
      "75%    168.0   269.8\n",
      "max    908.0  1554.0\n",
      "Making dataset\n"
     ]
    },
    {
     "name": "stderr",
     "output_type": "stream",
     "text": [
      "\n"
     ]
    },
    {
     "data": {
      "application/vnd.jupyter.widget-view+json": {
       "model_id": "80e710d153a543b8b365a57dd7b90ce1",
       "version_major": 2,
       "version_minor": 0
      },
      "text/plain": [
       "0it [00:00, ?it/s]"
      ]
     },
     "metadata": {},
     "output_type": "display_data"
    }
   ],
   "source": [
    "graphs1, problems = get_graph_dataset(id_file, problem_dir)\n",
    "graph_idx, targets = compute_dataset(graphs, save=False, no_training_samples=20)"
   ]
  },
  {
   "cell_type": "code",
   "execution_count": 6,
   "id": "9cead096",
   "metadata": {},
   "outputs": [
    {
     "name": "stderr",
     "output_type": "stream",
     "text": [
      "2022-02-16 23:02:36.959841: I tensorflow/compiler/mlir/mlir_graph_optimization_pass.cc:185] None of the MLIR Optimization Passes are enabled (registered 2)\n"
     ]
    },
    {
     "data": {
      "text/plain": [
       "array([[4.86750202e-03, 1.91267207e-02, 0.00000000e+00, 1.77014679e-01,\n",
       "        0.00000000e+00, 1.66549161e-01, 3.24561112e-02, 1.81030646e-01,\n",
       "        0.00000000e+00, 0.00000000e+00, 1.33574530e-01, 2.19867270e-05,\n",
       "        3.65808830e-02, 5.93774803e-02, 0.00000000e+00, 0.00000000e+00,\n",
       "        0.00000000e+00, 0.00000000e+00, 2.42677124e-05, 0.00000000e+00,\n",
       "        2.06231534e-01, 6.41010329e-02, 1.15766697e-01, 9.62852538e-02,\n",
       "        7.89706558e-02, 8.36439058e-02, 0.00000000e+00, 2.30079904e-01,\n",
       "        0.00000000e+00, 0.00000000e+00, 1.21716484e-01, 1.08146437e-01,\n",
       "        0.00000000e+00, 7.92835355e-02, 0.00000000e+00, 0.00000000e+00,\n",
       "        1.48236215e-01, 0.00000000e+00, 1.79131404e-01, 0.00000000e+00,\n",
       "        1.36548430e-01, 0.00000000e+00, 1.74716607e-01, 9.43614319e-02,\n",
       "        7.71325305e-02, 4.39728908e-02, 8.57845321e-03, 0.00000000e+00,\n",
       "        3.24657935e-06, 1.96480006e-01, 0.00000000e+00, 0.00000000e+00,\n",
       "        1.45755932e-01, 2.18935739e-02, 2.08072782e-01, 0.00000000e+00,\n",
       "        7.45704249e-02, 0.00000000e+00, 1.68439783e-02, 1.10102102e-01,\n",
       "        2.29671136e-01, 0.00000000e+00, 4.15210379e-04, 0.00000000e+00,\n",
       "        0.00000000e+00, 2.82713026e-01, 4.22674567e-02, 1.66191440e-02,\n",
       "        2.97526307e-02, 6.36408925e-02, 2.30912238e-01, 0.00000000e+00,\n",
       "        0.00000000e+00, 0.00000000e+00, 2.89037731e-02, 0.00000000e+00,\n",
       "        1.73989981e-01, 0.00000000e+00, 1.21777989e-02, 0.00000000e+00,\n",
       "        2.36314554e-02, 0.00000000e+00, 5.10844961e-02, 2.62484755e-02,\n",
       "        0.00000000e+00, 1.40135869e-01, 4.47612181e-02, 0.00000000e+00,\n",
       "        0.00000000e+00, 2.65036215e-04, 6.54724836e-02, 1.25734851e-01,\n",
       "        2.69393815e-04, 1.18798926e-01, 1.92796215e-01, 1.30592538e-02]],\n",
       "      dtype=float32)"
      ]
     },
     "execution_count": 6,
     "metadata": {},
     "output_type": "execute_result"
    }
   ],
   "source": [
    "embedding_model.predict(generator.flow([graphs[0]]))"
   ]
  },
  {
   "cell_type": "code",
   "execution_count": 7,
   "id": "4db45845",
   "metadata": {},
   "outputs": [
    {
     "name": "stdout",
     "output_type": "stream",
     "text": [
      "Training the model\n",
      "Epoch 1/200\n",
      "2/2 [==============================] - 0s 29ms/step - loss: 271.3208\n",
      "Epoch 2/200\n",
      "2/2 [==============================] - 0s 32ms/step - loss: 270.4844\n",
      "Epoch 3/200\n",
      "2/2 [==============================] - 0s 33ms/step - loss: 269.4143\n",
      "Epoch 4/200\n",
      "2/2 [==============================] - 0s 28ms/step - loss: 268.0624\n",
      "Epoch 5/200\n",
      "2/2 [==============================] - 0s 34ms/step - loss: 266.3183\n",
      "Epoch 6/200\n",
      "2/2 [==============================] - 0s 28ms/step - loss: 264.2657\n",
      "Epoch 7/200\n",
      "2/2 [==============================] - 0s 29ms/step - loss: 261.8944\n",
      "Epoch 8/200\n",
      "2/2 [==============================] - 0s 21ms/step - loss: 258.9971\n",
      "Epoch 9/200\n",
      "2/2 [==============================] - 0s 31ms/step - loss: 255.6497\n",
      "Epoch 10/200\n",
      "2/2 [==============================] - 0s 27ms/step - loss: 251.7566\n",
      "Epoch 11/200\n",
      "2/2 [==============================] - 0s 21ms/step - loss: 247.4821\n",
      "Epoch 12/200\n",
      "2/2 [==============================] - 0s 17ms/step - loss: 242.6770\n",
      "Epoch 13/200\n",
      "2/2 [==============================] - 0s 19ms/step - loss: 237.3550\n",
      "Epoch 14/200\n",
      "2/2 [==============================] - 0s 23ms/step - loss: 231.4706\n",
      "Epoch 15/200\n",
      "2/2 [==============================] - 0s 16ms/step - loss: 225.0348\n",
      "Epoch 16/200\n",
      "2/2 [==============================] - 0s 19ms/step - loss: 218.0855\n",
      "Epoch 17/200\n",
      "2/2 [==============================] - 0s 18ms/step - loss: 210.6344\n",
      "Epoch 18/200\n",
      "2/2 [==============================] - 0s 21ms/step - loss: 202.9242\n",
      "Epoch 19/200\n",
      "2/2 [==============================] - 0s 19ms/step - loss: 194.5217\n",
      "Epoch 20/200\n",
      "2/2 [==============================] - 0s 20ms/step - loss: 185.6762\n",
      "Epoch 21/200\n",
      "2/2 [==============================] - 0s 17ms/step - loss: 176.7627\n",
      "Epoch 22/200\n",
      "2/2 [==============================] - 0s 22ms/step - loss: 167.6533\n",
      "Epoch 23/200\n",
      "2/2 [==============================] - 0s 19ms/step - loss: 158.5224\n",
      "Epoch 24/200\n",
      "2/2 [==============================] - 0s 30ms/step - loss: 149.1573\n",
      "Epoch 25/200\n",
      "2/2 [==============================] - 0s 23ms/step - loss: 140.1664\n",
      "Epoch 26/200\n",
      "2/2 [==============================] - 0s 22ms/step - loss: 131.4743\n",
      "Epoch 27/200\n",
      "2/2 [==============================] - 0s 22ms/step - loss: 124.0316\n",
      "Epoch 28/200\n",
      "2/2 [==============================] - 0s 21ms/step - loss: 116.4445\n",
      "Epoch 29/200\n",
      "2/2 [==============================] - 0s 23ms/step - loss: 109.5365\n",
      "Epoch 30/200\n",
      "2/2 [==============================] - 0s 23ms/step - loss: 103.3551\n",
      "Epoch 31/200\n",
      "2/2 [==============================] - 0s 31ms/step - loss: 97.9222\n",
      "Epoch 32/200\n",
      "2/2 [==============================] - 0s 20ms/step - loss: 91.9976\n",
      "Epoch 33/200\n",
      "2/2 [==============================] - 0s 21ms/step - loss: 87.9912\n",
      "Epoch 34/200\n",
      "2/2 [==============================] - 0s 20ms/step - loss: 84.5134\n",
      "Epoch 35/200\n",
      "2/2 [==============================] - 0s 22ms/step - loss: 81.4955\n",
      "Epoch 36/200\n",
      "2/2 [==============================] - 0s 19ms/step - loss: 78.8775\n",
      "Epoch 37/200\n",
      "2/2 [==============================] - 0s 18ms/step - loss: 77.7221\n",
      "Epoch 38/200\n",
      "2/2 [==============================] - 0s 20ms/step - loss: 75.7075\n",
      "Epoch 39/200\n",
      "2/2 [==============================] - 0s 15ms/step - loss: 74.0140\n",
      "Epoch 40/200\n",
      "2/2 [==============================] - 0s 18ms/step - loss: 72.1336\n",
      "Epoch 41/200\n",
      "2/2 [==============================] - 0s 15ms/step - loss: 71.3248\n",
      "Epoch 42/200\n",
      "2/2 [==============================] - 0s 17ms/step - loss: 70.1253\n",
      "Epoch 43/200\n",
      "2/2 [==============================] - 0s 18ms/step - loss: 69.0129\n",
      "Epoch 44/200\n",
      "2/2 [==============================] - 0s 19ms/step - loss: 67.9675\n",
      "Epoch 45/200\n",
      "2/2 [==============================] - 0s 20ms/step - loss: 66.9785\n",
      "Epoch 46/200\n",
      "2/2 [==============================] - 0s 19ms/step - loss: 66.1868\n",
      "Epoch 47/200\n",
      "2/2 [==============================] - 0s 21ms/step - loss: 65.2735\n",
      "Epoch 48/200\n",
      "2/2 [==============================] - 0s 19ms/step - loss: 64.4155\n",
      "Epoch 49/200\n",
      "2/2 [==============================] - 0s 18ms/step - loss: 63.7852\n",
      "Epoch 50/200\n",
      "2/2 [==============================] - 0s 20ms/step - loss: 62.6531\n",
      "Epoch 51/200\n",
      "2/2 [==============================] - 0s 16ms/step - loss: 62.1551\n",
      "Epoch 52/200\n",
      "2/2 [==============================] - 0s 20ms/step - loss: 61.3451\n",
      "Epoch 53/200\n",
      "2/2 [==============================] - 0s 16ms/step - loss: 60.5639\n",
      "Epoch 54/200\n",
      "2/2 [==============================] - 0s 17ms/step - loss: 59.7899\n",
      "Epoch 55/200\n",
      "2/2 [==============================] - 0s 21ms/step - loss: 58.9982\n",
      "Epoch 56/200\n",
      "2/2 [==============================] - 0s 19ms/step - loss: 58.2045\n",
      "Epoch 57/200\n",
      "2/2 [==============================] - 0s 18ms/step - loss: 57.4375\n",
      "Epoch 58/200\n",
      "2/2 [==============================] - 0s 20ms/step - loss: 57.2288\n",
      "Epoch 59/200\n",
      "2/2 [==============================] - 0s 16ms/step - loss: 56.5550\n",
      "Epoch 60/200\n",
      "2/2 [==============================] - 0s 15ms/step - loss: 55.9074\n",
      "Epoch 61/200\n",
      "2/2 [==============================] - 0s 20ms/step - loss: 55.1784\n",
      "Epoch 62/200\n",
      "2/2 [==============================] - 0s 20ms/step - loss: 54.7971\n",
      "Epoch 63/200\n",
      "2/2 [==============================] - 0s 21ms/step - loss: 54.0353\n",
      "Epoch 64/200\n",
      "2/2 [==============================] - 0s 17ms/step - loss: 53.0939\n",
      "Epoch 65/200\n",
      "2/2 [==============================] - 0s 19ms/step - loss: 52.7869\n",
      "Epoch 66/200\n",
      "2/2 [==============================] - 0s 21ms/step - loss: 52.1550\n",
      "Epoch 67/200\n",
      "2/2 [==============================] - 0s 16ms/step - loss: 51.4676\n",
      "Epoch 68/200\n",
      "2/2 [==============================] - 0s 17ms/step - loss: 51.1066\n",
      "Epoch 69/200\n",
      "2/2 [==============================] - 0s 23ms/step - loss: 50.1408\n",
      "Epoch 70/200\n",
      "2/2 [==============================] - 0s 19ms/step - loss: 49.6035\n",
      "Epoch 71/200\n",
      "2/2 [==============================] - 0s 20ms/step - loss: 49.0786\n",
      "Epoch 72/200\n",
      "2/2 [==============================] - 0s 21ms/step - loss: 48.5521\n",
      "Epoch 73/200\n",
      "2/2 [==============================] - 0s 18ms/step - loss: 48.0221\n",
      "Epoch 74/200\n",
      "2/2 [==============================] - 0s 19ms/step - loss: 47.6099\n",
      "Epoch 75/200\n",
      "2/2 [==============================] - 0s 19ms/step - loss: 47.0618\n",
      "Epoch 76/200\n",
      "2/2 [==============================] - 0s 22ms/step - loss: 46.4812\n",
      "Epoch 77/200\n",
      "2/2 [==============================] - 0s 15ms/step - loss: 46.2644\n",
      "Epoch 78/200\n",
      "2/2 [==============================] - 0s 18ms/step - loss: 45.3640\n",
      "Epoch 79/200\n",
      "2/2 [==============================] - 0s 22ms/step - loss: 45.2291\n",
      "Epoch 80/200\n",
      "2/2 [==============================] - 0s 28ms/step - loss: 44.5705\n",
      "Epoch 81/200\n",
      "2/2 [==============================] - 0s 24ms/step - loss: 44.1579\n",
      "Epoch 82/200\n",
      "2/2 [==============================] - 0s 19ms/step - loss: 43.7058\n",
      "Epoch 83/200\n",
      "2/2 [==============================] - 0s 16ms/step - loss: 43.1950\n",
      "Epoch 84/200\n",
      "2/2 [==============================] - 0s 20ms/step - loss: 42.7139\n",
      "Epoch 85/200\n",
      "2/2 [==============================] - 0s 22ms/step - loss: 42.2291\n",
      "Epoch 86/200\n",
      "2/2 [==============================] - 0s 19ms/step - loss: 42.0781\n",
      "Epoch 87/200\n",
      "2/2 [==============================] - 0s 22ms/step - loss: 41.3015\n",
      "Epoch 88/200\n",
      "2/2 [==============================] - 0s 20ms/step - loss: 40.8828\n",
      "Epoch 89/200\n",
      "2/2 [==============================] - 0s 15ms/step - loss: 40.4720\n",
      "Epoch 90/200\n",
      "2/2 [==============================] - 0s 18ms/step - loss: 40.0679\n",
      "Epoch 91/200\n",
      "2/2 [==============================] - 0s 23ms/step - loss: 39.6719\n",
      "Epoch 92/200\n",
      "2/2 [==============================] - 0s 20ms/step - loss: 39.2887\n",
      "Epoch 93/200\n",
      "2/2 [==============================] - 0s 14ms/step - loss: 39.3268\n",
      "Epoch 94/200\n",
      "2/2 [==============================] - 0s 20ms/step - loss: 38.9413\n",
      "Epoch 95/200\n",
      "2/2 [==============================] - 0s 15ms/step - loss: 38.4866\n",
      "Epoch 96/200\n",
      "2/2 [==============================] - 0s 15ms/step - loss: 37.9638\n",
      "Epoch 97/200\n",
      "2/2 [==============================] - 0s 21ms/step - loss: 37.9434\n",
      "Epoch 98/200\n",
      "2/2 [==============================] - 0s 20ms/step - loss: 37.5176\n",
      "Epoch 99/200\n",
      "2/2 [==============================] - 0s 17ms/step - loss: 37.2266\n",
      "Epoch 100/200\n",
      "2/2 [==============================] - 0s 18ms/step - loss: 36.8528\n",
      "Epoch 101/200\n",
      "2/2 [==============================] - 0s 16ms/step - loss: 36.3560\n",
      "Epoch 102/200\n",
      "2/2 [==============================] - 0s 20ms/step - loss: 35.8486\n",
      "Epoch 103/200\n",
      "2/2 [==============================] - 0s 15ms/step - loss: 36.1917\n",
      "Epoch 104/200\n",
      "2/2 [==============================] - 0s 16ms/step - loss: 35.9894\n",
      "Epoch 105/200\n",
      "2/2 [==============================] - 0s 17ms/step - loss: 35.6929\n",
      "Epoch 106/200\n",
      "2/2 [==============================] - 0s 18ms/step - loss: 35.2075\n",
      "Epoch 107/200\n",
      "2/2 [==============================] - 0s 28ms/step - loss: 34.6473\n",
      "Epoch 108/200\n",
      "2/2 [==============================] - 0s 20ms/step - loss: 34.1967\n",
      "Epoch 109/200\n",
      "2/2 [==============================] - 0s 19ms/step - loss: 33.9769\n",
      "Epoch 110/200\n",
      "2/2 [==============================] - 0s 16ms/step - loss: 34.2509\n",
      "Epoch 111/200\n",
      "2/2 [==============================] - 0s 18ms/step - loss: 33.9386\n",
      "Epoch 112/200\n",
      "2/2 [==============================] - 0s 19ms/step - loss: 33.6990\n",
      "Epoch 113/200\n",
      "2/2 [==============================] - 0s 17ms/step - loss: 33.6160\n",
      "Epoch 114/200\n",
      "2/2 [==============================] - 0s 20ms/step - loss: 33.3019\n",
      "Epoch 115/200\n",
      "2/2 [==============================] - 0s 16ms/step - loss: 32.8065\n",
      "Epoch 116/200\n",
      "2/2 [==============================] - 0s 19ms/step - loss: 32.6111\n",
      "Epoch 117/200\n",
      "2/2 [==============================] - 0s 21ms/step - loss: 32.4225\n",
      "Epoch 118/200\n",
      "2/2 [==============================] - 0s 18ms/step - loss: 32.2411\n",
      "Epoch 119/200\n",
      "2/2 [==============================] - 0s 17ms/step - loss: 32.3643\n",
      "Epoch 120/200\n",
      "2/2 [==============================] - 0s 17ms/step - loss: 32.1689\n",
      "Epoch 121/200\n",
      "2/2 [==============================] - 0s 17ms/step - loss: 31.9849\n",
      "Epoch 122/200\n",
      "2/2 [==============================] - 0s 19ms/step - loss: 31.7392\n",
      "Epoch 123/200\n",
      "2/2 [==============================] - 0s 17ms/step - loss: 31.5042\n",
      "Epoch 124/200\n",
      "2/2 [==============================] - 0s 16ms/step - loss: 31.3237\n",
      "Epoch 125/200\n",
      "2/2 [==============================] - 0s 26ms/step - loss: 31.1438\n",
      "Epoch 126/200\n",
      "2/2 [==============================] - 0s 17ms/step - loss: 31.1158\n",
      "Epoch 127/200\n",
      "2/2 [==============================] - 0s 23ms/step - loss: 30.9400\n",
      "Epoch 128/200\n",
      "2/2 [==============================] - 0s 16ms/step - loss: 30.8661\n",
      "Epoch 129/200\n",
      "2/2 [==============================] - 0s 20ms/step - loss: 30.5588\n",
      "Epoch 130/200\n",
      "2/2 [==============================] - 0s 16ms/step - loss: 30.3853\n",
      "Epoch 131/200\n",
      "2/2 [==============================] - 0s 20ms/step - loss: 30.2080\n",
      "Epoch 132/200\n",
      "2/2 [==============================] - 0s 19ms/step - loss: 30.4292\n",
      "Epoch 133/200\n",
      "2/2 [==============================] - 0s 15ms/step - loss: 30.2891\n",
      "Epoch 134/200\n",
      "2/2 [==============================] - 0s 18ms/step - loss: 30.0763\n",
      "Epoch 135/200\n",
      "2/2 [==============================] - 0s 22ms/step - loss: 29.8968\n",
      "Epoch 136/200\n",
      "2/2 [==============================] - 0s 19ms/step - loss: 29.8579\n",
      "Epoch 137/200\n",
      "2/2 [==============================] - 0s 21ms/step - loss: 29.6871\n",
      "Epoch 138/200\n",
      "2/2 [==============================] - 0s 21ms/step - loss: 29.5520\n",
      "Epoch 139/200\n",
      "2/2 [==============================] - 0s 21ms/step - loss: 29.5671\n",
      "Epoch 140/200\n",
      "2/2 [==============================] - 0s 22ms/step - loss: 29.2096\n",
      "Epoch 141/200\n",
      "2/2 [==============================] - 0s 19ms/step - loss: 29.0780\n",
      "Epoch 142/200\n",
      "2/2 [==============================] - 0s 21ms/step - loss: 29.2812\n",
      "Epoch 143/200\n",
      "2/2 [==============================] - 0s 17ms/step - loss: 28.9548\n",
      "Epoch 144/200\n",
      "2/2 [==============================] - 0s 23ms/step - loss: 29.0350\n",
      "Epoch 145/200\n",
      "2/2 [==============================] - 0s 18ms/step - loss: 28.8858\n",
      "Epoch 146/200\n",
      "2/2 [==============================] - 0s 20ms/step - loss: 28.7455\n",
      "Epoch 147/200\n",
      "2/2 [==============================] - 0s 17ms/step - loss: 28.6254\n",
      "Epoch 148/200\n",
      "2/2 [==============================] - 0s 20ms/step - loss: 28.5033\n",
      "Epoch 149/200\n",
      "2/2 [==============================] - 0s 17ms/step - loss: 28.6284\n",
      "Epoch 150/200\n",
      "2/2 [==============================] - 0s 19ms/step - loss: 28.5119\n",
      "Epoch 151/200\n",
      "2/2 [==============================] - 0s 18ms/step - loss: 28.4060\n",
      "Epoch 152/200\n",
      "2/2 [==============================] - 0s 18ms/step - loss: 28.3833\n",
      "Epoch 153/200\n",
      "2/2 [==============================] - 0s 21ms/step - loss: 28.1036\n",
      "Epoch 154/200\n",
      "2/2 [==============================] - 0s 19ms/step - loss: 28.0006\n",
      "Epoch 155/200\n",
      "2/2 [==============================] - 0s 16ms/step - loss: 28.1281\n",
      "Epoch 156/200\n",
      "2/2 [==============================] - 0s 20ms/step - loss: 28.0232\n",
      "Epoch 157/200\n",
      "2/2 [==============================] - 0s 17ms/step - loss: 27.9135\n",
      "Epoch 158/200\n",
      "2/2 [==============================] - 0s 19ms/step - loss: 27.7663\n",
      "Epoch 159/200\n",
      "2/2 [==============================] - 0s 16ms/step - loss: 27.5939\n",
      "Epoch 160/200\n",
      "2/2 [==============================] - 0s 20ms/step - loss: 27.4444\n",
      "Epoch 161/200\n",
      "2/2 [==============================] - 0s 14ms/step - loss: 27.3644\n",
      "Epoch 162/200\n",
      "2/2 [==============================] - 0s 15ms/step - loss: 27.8510\n",
      "Epoch 163/200\n",
      "2/2 [==============================] - 0s 16ms/step - loss: 27.8120\n",
      "Epoch 164/200\n",
      "2/2 [==============================] - 0s 18ms/step - loss: 27.7327\n",
      "Epoch 165/200\n",
      "2/2 [==============================] - 0s 17ms/step - loss: 27.3560\n",
      "Epoch 166/200\n",
      "2/2 [==============================] - 0s 25ms/step - loss: 27.5200\n",
      "Epoch 167/200\n",
      "2/2 [==============================] - 0s 21ms/step - loss: 27.3595\n",
      "Epoch 168/200\n",
      "2/2 [==============================] - 0s 18ms/step - loss: 27.1876\n",
      "Epoch 169/200\n",
      "2/2 [==============================] - 0s 16ms/step - loss: 27.1424\n",
      "Epoch 170/200\n",
      "2/2 [==============================] - 0s 19ms/step - loss: 27.0353\n",
      "Epoch 171/200\n",
      "2/2 [==============================] - 0s 22ms/step - loss: 26.8969\n",
      "Epoch 172/200\n",
      "2/2 [==============================] - 0s 22ms/step - loss: 27.1541\n",
      "Epoch 173/200\n",
      "2/2 [==============================] - 0s 21ms/step - loss: 26.7674\n",
      "Epoch 174/200\n",
      "2/2 [==============================] - 0s 16ms/step - loss: 26.7292\n",
      "Epoch 175/200\n",
      "2/2 [==============================] - 0s 15ms/step - loss: 26.6813\n",
      "Epoch 176/200\n",
      "2/2 [==============================] - 0s 20ms/step - loss: 26.8639\n",
      "Epoch 177/200\n",
      "2/2 [==============================] - 0s 21ms/step - loss: 26.7823\n",
      "Epoch 178/200\n",
      "2/2 [==============================] - 0s 20ms/step - loss: 26.7951\n",
      "Epoch 179/200\n",
      "2/2 [==============================] - 0s 19ms/step - loss: 26.6424\n",
      "Epoch 180/200\n",
      "2/2 [==============================] - 0s 19ms/step - loss: 26.4830\n",
      "Epoch 181/200\n",
      "2/2 [==============================] - 0s 18ms/step - loss: 26.4778\n",
      "Epoch 182/200\n",
      "2/2 [==============================] - 0s 20ms/step - loss: 26.4520\n",
      "Epoch 183/200\n",
      "2/2 [==============================] - 0s 16ms/step - loss: 26.3799\n",
      "Epoch 184/200\n",
      "2/2 [==============================] - 0s 24ms/step - loss: 26.3092\n",
      "Epoch 185/200\n",
      "2/2 [==============================] - 0s 24ms/step - loss: 26.2253\n",
      "Epoch 186/200\n",
      "2/2 [==============================] - 0s 19ms/step - loss: 26.1235\n",
      "Epoch 187/200\n",
      "2/2 [==============================] - 0s 16ms/step - loss: 26.3138\n",
      "Epoch 188/200\n",
      "2/2 [==============================] - 0s 19ms/step - loss: 26.0288\n",
      "Epoch 189/200\n",
      "2/2 [==============================] - 0s 17ms/step - loss: 26.1363\n",
      "Epoch 190/200\n",
      "2/2 [==============================] - 0s 17ms/step - loss: 26.0825\n",
      "Epoch 191/200\n",
      "2/2 [==============================] - 0s 20ms/step - loss: 26.0096\n",
      "Epoch 192/200\n",
      "2/2 [==============================] - 0s 19ms/step - loss: 25.9469\n",
      "Epoch 193/200\n",
      "2/2 [==============================] - 0s 18ms/step - loss: 25.8760\n",
      "Epoch 194/200\n",
      "2/2 [==============================] - 0s 17ms/step - loss: 25.7795\n",
      "Epoch 195/200\n",
      "2/2 [==============================] - 0s 20ms/step - loss: 25.9676\n",
      "Epoch 196/200\n",
      "2/2 [==============================] - 0s 19ms/step - loss: 25.6614\n",
      "Epoch 197/200\n",
      "2/2 [==============================] - 0s 29ms/step - loss: 25.7948\n",
      "Epoch 198/200\n",
      "2/2 [==============================] - 0s 18ms/step - loss: 25.7223\n",
      "Epoch 199/200\n",
      "2/2 [==============================] - 0s 19ms/step - loss: 25.5983\n",
      "Epoch 200/200\n",
      "2/2 [==============================] - 0s 22ms/step - loss: 25.5053\n"
     ]
    },
    {
     "data": {
      "image/png": "[encoded data removed]",
      "text/plain": [
       "<Figure size 504x288 with 1 Axes>"
      ]
     },
     "metadata": {
      "needs_background": "light"
     },
     "output_type": "display_data"
    }
   ],
   "source": [
    "# Train the pair model\n",
    "embedding_model, pair_model, generator = create_embedding_model(graphs)\n",
    "train_pair_model(pair_model, generator, graph_idx, targets)"
   ]
  },
  {
   "cell_type": "code",
   "execution_count": null,
   "id": "b7fa7ada",
   "metadata": {},
   "outputs": [],
   "source": []
  },
  {
   "cell_type": "code",
   "execution_count": null,
   "id": "9e30f054",
   "metadata": {},
   "outputs": [],
   "source": []
  },
  {
   "cell_type": "code",
   "execution_count": null,
   "id": "48815dac",
   "metadata": {},
   "outputs": [],
   "source": []
  },
  {
   "cell_type": "code",
   "execution_count": null,
   "id": "06d2bdb2",
   "metadata": {},
   "outputs": [],
   "source": []
  },
  {
   "cell_type": "code",
   "execution_count": 9,
   "id": "cfd16a52",
   "metadata": {},
   "outputs": [
    {
     "data": {
      "text/plain": [
       "'\\n\\n\\n\\n# Compute dataset\\nif os.path.exists(IDX_FILE) and os.path.exists(GRAPH_TARGET_FILE):\\n    print(\"# Loading existing dataset\")\\n    graph_idx, targets = load_dataset()\\nelse:\\n    graph_idx, targets = compute_dataset(graphs)\\n\\n# Train the pair model\\ntrain_pair_model(pair_model, generator, graph_idx, targets)\\n\\n# Save the embedding model\\nembedding_model.save(\"embedding_model_save\")\\n# \"\"\"\\n# embedding_model = keras.models.load_model(\"embedding_model_save\")\\n# generator = sg.mapper.PaddedGraphGenerator(graphs)\\n\\n\\n'"
      ]
     },
     "execution_count": 9,
     "metadata": {},
     "output_type": "execute_result"
    }
   ],
   "source": [
    "'''\n",
    "\n",
    "\n",
    "\n",
    "# Compute dataset\n",
    "if os.path.exists(IDX_FILE) and os.path.exists(GRAPH_TARGET_FILE):\n",
    "    print(\"# Loading existing dataset\")\n",
    "    graph_idx, targets = load_dataset()\n",
    "else:\n",
    "    graph_idx, targets = compute_dataset(graphs)\n",
    "\n",
    "# Train the pair model\n",
    "train_pair_model(pair_model, generator, graph_idx, targets)\n",
    "\n",
    "# Save the embedding model\n",
    "embedding_model.save(\"embedding_model_save\")\n",
    "# \"\"\"\n",
    "# embedding_model = keras.models.load_model(\"embedding_model_save\")\n",
    "# generator = sg.mapper.PaddedGraphGenerator(graphs)\n",
    "\n",
    "\n",
    "'''"
   ]
  },
  {
   "cell_type": "code",
   "execution_count": 10,
   "id": "1f178c32",
   "metadata": {},
   "outputs": [
    {
     "name": "stdout",
     "output_type": "stream",
     "text": [
      "<keras.engine.functional.Functional object at 0x7f964e0b7050>\n"
     ]
    },
    {
     "data": {
      "text/plain": [
       "'\\n# Embed the problems\\nprint(\"# Embedding problem\")\\nembed_graphs(\"embedding_unsupervised_problem\", embedding_model, generator, problems, graphs)\\nprint(\"# Embedding conjecture\")\\nembed_graphs(\\n    \"embedding_unsupervised_conjecture\",\\n    embedding_model,\\n    generator,\\n    problems,\\n    [prune_graph(g, g.conjecture_indices) for g in graphs],\\n)\\nprint(\"# Embedding premises\")\\nembed_graphs(\\n    \"embedding_unsupervised_premises\",\\n    embedding_model,\\n    generator,\\n    problems,\\n    [prune_graph(g, g.premise_indices) for g in graphs],\\n)\\n'"
      ]
     },
     "execution_count": 10,
     "metadata": {},
     "output_type": "execute_result"
    }
   ],
   "source": [
    "print(embedding_model)\n",
    "\n",
    "\"\"\"\n",
    "# Embed the problems\n",
    "print(\"# Embedding problem\")\n",
    "embed_graphs(\"embedding_unsupervised_problem\", embedding_model, generator, problems, graphs)\n",
    "print(\"# Embedding conjecture\")\n",
    "embed_graphs(\n",
    "    \"embedding_unsupervised_conjecture\",\n",
    "    embedding_model,\n",
    "    generator,\n",
    "    problems,\n",
    "    [prune_graph(g, g.conjecture_indices) for g in graphs],\n",
    ")\n",
    "print(\"# Embedding premises\")\n",
    "embed_graphs(\n",
    "    \"embedding_unsupervised_premises\",\n",
    "    embedding_model,\n",
    "    generator,\n",
    "    problems,\n",
    "    [prune_graph(g, g.premise_indices) for g in graphs],\n",
    ")\n",
    "\"\"\""
   ]
  },
  {
   "cell_type": "code",
   "execution_count": null,
   "id": "1b2d54c9",
   "metadata": {},
   "outputs": [],
   "source": []
  },
  {
   "cell_type": "code",
   "execution_count": null,
   "id": "5b6edfb4",
   "metadata": {},
   "outputs": [],
   "source": []
  },
  {
   "cell_type": "code",
   "execution_count": 42,
   "id": "bbc90f65",
   "metadata": {},
   "outputs": [],
   "source": [
    "#'''\n",
    "generator = sg.mapper.PaddedGraphGenerator(graphs1)\n",
    "gc_model = sg.layer.GCNSupervisedGraphClassification(\n",
    "    [64, 32], [\"relu\", \"relu\"], generator, pool_all_layers=True\n",
    ")\n",
    "inp1, out1 = gc_model.in_out_tensors()\n",
    "embedding_model1 = keras.Model(inp1, out1)\n",
    "pred = embedding_model1.predict((generator.flow(graphs1[:1])))\n",
    "#'''"
   ]
  },
  {
   "cell_type": "code",
   "execution_count": 43,
   "id": "6726d675",
   "metadata": {},
   "outputs": [
    {
     "data": {
      "text/plain": [
       "<KerasTensor: shape=(None, 96) dtype=float32 (created by layer 'global_average_pooling1d_14')>"
      ]
     },
     "execution_count": 43,
     "metadata": {},
     "output_type": "execute_result"
    }
   ],
   "source": [
    "out1"
   ]
  },
  {
   "cell_type": "code",
   "execution_count": null,
   "id": "63a62e77",
   "metadata": {},
   "outputs": [],
   "source": []
  },
  {
   "cell_type": "code",
   "execution_count": null,
   "id": "ae31fb03",
   "metadata": {},
   "outputs": [],
   "source": []
  },
  {
   "cell_type": "code",
   "execution_count": 44,
   "id": "51d7022a",
   "metadata": {},
   "outputs": [
    {
     "data": {
      "text/plain": [
       "96"
      ]
     },
     "execution_count": 44,
     "metadata": {},
     "output_type": "execute_result"
    }
   ],
   "source": [
    "len(pred[0])"
   ]
  },
  {
   "cell_type": "code",
   "execution_count": 45,
   "id": "2b505c99",
   "metadata": {},
   "outputs": [
    {
     "data": {
      "text/plain": [
       "array([[0.00000000e+00, 1.78804845e-01, 0.00000000e+00, 1.25670061e-01,\n",
       "        1.71039239e-01, 2.19955966e-02, 0.00000000e+00, 0.00000000e+00,\n",
       "        1.03142858e-01, 9.25387293e-02, 0.00000000e+00, 1.73025787e-01,\n",
       "        0.00000000e+00, 1.02840632e-01, 0.00000000e+00, 2.03986526e-01,\n",
       "        0.00000000e+00, 0.00000000e+00, 1.72049448e-01, 3.02212493e-06,\n",
       "        8.83528292e-02, 0.00000000e+00, 0.00000000e+00, 1.62929043e-01,\n",
       "        4.69887629e-02, 5.01490285e-05, 1.52741361e-03, 0.00000000e+00,\n",
       "        2.02061906e-01, 0.00000000e+00, 1.33034557e-01, 7.32393702e-04,\n",
       "        2.10053355e-01, 8.26000646e-02, 1.87280506e-01, 0.00000000e+00,\n",
       "        0.00000000e+00, 1.04519166e-01, 0.00000000e+00, 1.75831765e-01,\n",
       "        0.00000000e+00, 0.00000000e+00, 0.00000000e+00, 1.57681018e-01,\n",
       "        0.00000000e+00, 0.00000000e+00, 0.00000000e+00, 1.49054423e-01,\n",
       "        1.96142823e-01, 0.00000000e+00, 0.00000000e+00, 0.00000000e+00,\n",
       "        8.20325539e-02, 0.00000000e+00, 1.00325055e-01, 0.00000000e+00,\n",
       "        2.15133235e-01, 1.88527822e-01, 0.00000000e+00, 0.00000000e+00,\n",
       "        8.41559395e-02, 0.00000000e+00, 0.00000000e+00, 1.18189894e-01,\n",
       "        0.00000000e+00, 2.18060598e-01, 6.18820973e-02, 0.00000000e+00,\n",
       "        4.48979549e-02, 0.00000000e+00, 0.00000000e+00, 1.53399433e-05,\n",
       "        1.69543460e-01, 2.00304955e-01, 3.35884169e-02, 2.77654886e-01,\n",
       "        7.69699663e-02, 3.35569918e-01, 0.00000000e+00, 9.64170247e-02,\n",
       "        2.79713213e-01, 0.00000000e+00, 0.00000000e+00, 7.33064786e-02,\n",
       "        0.00000000e+00, 1.46212848e-02, 1.52757494e-02, 0.00000000e+00,\n",
       "        0.00000000e+00, 1.75255239e-01, 0.00000000e+00, 1.36674091e-01,\n",
       "        7.61997711e-04, 3.19279760e-01, 5.23242343e-04, 0.00000000e+00]],\n",
       "      dtype=float32)"
      ]
     },
     "execution_count": 45,
     "metadata": {},
     "output_type": "execute_result"
    }
   ],
   "source": [
    "pred"
   ]
  },
  {
   "cell_type": "code",
   "execution_count": 41,
   "id": "56dfbd1e",
   "metadata": {},
   "outputs": [
    {
     "name": "stdout",
     "output_type": "stream",
     "text": [
      "StellarGraph: Undirected multigraph\n",
      " Nodes: 334, Edges: 597\n",
      "\n",
      " Node types:\n",
      "  default: [334]\n",
      "    Features: float32 vector, length 64\n",
      "    Edge types: default-default->default\n",
      "\n",
      " Edge types:\n",
      "    default-default->default: [597]\n",
      "        Weights: all 1 (default)\n",
      "        Features: none\n"
     ]
    }
   ],
   "source": [
    "print(graphs1[0].info())"
   ]
  },
  {
   "cell_type": "code",
   "execution_count": null,
   "id": "ff8b6f4b",
   "metadata": {},
   "outputs": [],
   "source": []
  },
  {
   "cell_type": "code",
   "execution_count": 12,
   "id": "4804a779",
   "metadata": {},
   "outputs": [
    {
     "name": "stdout",
     "output_type": "stream",
     "text": [
      "StellarGraph: Undirected multigraph\n",
      " Nodes: 334, Edges: 597\n",
      "\n",
      " Node types:\n",
      "  default: [334]\n",
      "    Features: float32 vector, length 64\n",
      "    Edge types: default-default->default\n",
      "\n",
      " Edge types:\n",
      "    default-default->default: [597]\n",
      "        Weights: all 1 (default)\n",
      "        Features: none\n"
     ]
    }
   ],
   "source": [
    "print(graphs[0].info())"
   ]
  },
  {
   "cell_type": "code",
   "execution_count": null,
   "id": "b16c8c4f",
   "metadata": {},
   "outputs": [],
   "source": []
  },
  {
   "cell_type": "code",
   "execution_count": null,
   "id": "f4e904e3",
   "metadata": {},
   "outputs": [],
   "source": []
  }
 ],
 "metadata": {
  "kernelspec": {
   "display_name": "Python 3 (ipykernel)",
   "language": "python",
   "name": "python3"
  },
  "language_info": {
   "codemirror_mode": {
    "name": "ipython",
    "version": 3
   },
   "file_extension": ".py",
   "mimetype": "text/x-python",
   "name": "python",
   "nbconvert_exporter": "python",
   "pygments_lexer": "ipython3",
   "version": "3.7.5"
  }
 },
 "nbformat": 4,
 "nbformat_minor": 5
}
