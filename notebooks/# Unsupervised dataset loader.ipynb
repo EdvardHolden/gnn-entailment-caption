{
 "cells": [
  {
   "cell_type": "code",
   "execution_count": null,
   "id": "674aae82",
   "metadata": {},
   "outputs": [],
   "source": []
  },
  {
   "cell_type": "code",
   "execution_count": 1,
   "id": "7f1f686d",
   "metadata": {},
   "outputs": [],
   "source": [
    "from typing import List\n",
    "import pickle\n",
    "import torch\n",
    "from torch_geometric.data import Data"
   ]
  },
  {
   "cell_type": "code",
   "execution_count": 2,
   "id": "08325b1f",
   "metadata": {},
   "outputs": [],
   "source": [
    "\n",
    "\n",
    "class PairData(Data):\n",
    "\n",
    "    def __init__(self, edge_index_s=None, x_s=None, edge_index_t=None, x_t=None, y=None):\n",
    "        super().__init__()\n",
    "        self.edge_index_s = edge_index_s\n",
    "        self.x_s = x_s\n",
    "        self.edge_index_t = edge_index_t\n",
    "        self.x_t = x_t\n",
    "        self.y = y\n",
    "        \n",
    "    def __inc__(self, key, value, *args, **kwargs):\n",
    "        if key == 'edge_index_s':\n",
    "            return self.x_s.size(0)\n",
    "        if key == 'edge_index_t':\n",
    "            return self.x_t.size(0)\n",
    "        else:\n",
    "            return super().__inc__(key, value, *args, **kwargs)"
   ]
  },
  {
   "cell_type": "code",
   "execution_count": 3,
   "id": "963c3a01",
   "metadata": {},
   "outputs": [
    {
     "name": "stdout",
     "output_type": "stream",
     "text": [
      "PairDataBatch(edge_index_s=[2, 8], x_s=[10, 16], edge_index_t=[2, 6], x_t=[8, 16], y=[2])\n",
      "tensor([[0, 0, 0, 0, 5, 5, 5, 5],\n",
      "        [1, 2, 3, 4, 6, 7, 8, 9]])\n",
      "tensor([[0, 0, 0, 4, 4, 4],\n",
      "        [1, 2, 3, 5, 6, 7]])\n"
     ]
    }
   ],
   "source": [
    "from torch_geometric.loader import DataLoader\n",
    "\n",
    "edge_index_s = torch.tensor([\n",
    "     [0, 0, 0, 0],\n",
    "     [1, 2, 3, 4],\n",
    " ])\n",
    "    \n",
    "x_s = torch.randn(5, 16)  # 5 nodes.\n",
    "edge_index_t = torch.tensor([\n",
    "     [0, 0, 0],\n",
    "     [1, 2, 3],\n",
    "])\n",
    "x_t = torch.randn(4, 16)  # 4 nodes.\n",
    "\n",
    "data = PairData(edge_index_s, x_s, edge_index_t, x_t, y=1)\n",
    "data_list = [data, data]\n",
    "loader = DataLoader(data_list, batch_size=2)\n",
    "batch = next(iter(loader))\n",
    "\n",
    "print(batch)\n",
    "    \n",
    "print(batch.edge_index_s)\n",
    "\n",
    "print(batch.edge_index_t)\n"
   ]
  },
  {
   "cell_type": "code",
   "execution_count": 4,
   "id": "7750ac43",
   "metadata": {},
   "outputs": [
    {
     "data": {
      "text/plain": [
       "tensor([1, 1])"
      ]
     },
     "execution_count": 4,
     "metadata": {},
     "output_type": "execute_result"
    }
   ],
   "source": [
    "batch.y"
   ]
  },
  {
   "cell_type": "code",
   "execution_count": 5,
   "id": "c0fe6f0d",
   "metadata": {},
   "outputs": [
    {
     "name": "stdout",
     "output_type": "stream",
     "text": [
      "PairDataBatch(edge_index_s=[2, 8], x_s=[10, 16], x_s_batch=[10], x_s_ptr=[3], edge_index_t=[2, 6], x_t=[8, 16], x_t_batch=[8], x_t_ptr=[3], y=[2])\n"
     ]
    }
   ],
   "source": [
    "loader = DataLoader(data_list, batch_size=2, follow_batch=['x_s', 'x_t'])\n",
    "batch = next(iter(loader))\n",
    "\n",
    "print(batch)"
   ]
  },
  {
   "cell_type": "code",
   "execution_count": 6,
   "id": "3bb7a38b",
   "metadata": {},
   "outputs": [
    {
     "name": "stdout",
     "output_type": "stream",
     "text": [
      "tensor([0, 0, 0, 0, 0, 1, 1, 1, 1, 1])\n"
     ]
    }
   ],
   "source": [
    "print(batch.x_s_batch)"
   ]
  },
  {
   "cell_type": "code",
   "execution_count": null,
   "id": "a4f7841a",
   "metadata": {},
   "outputs": [],
   "source": []
  },
  {
   "cell_type": "markdown",
   "id": "92e49d12",
   "metadata": {},
   "source": [
    "# Load datset"
   ]
  },
  {
   "cell_type": "code",
   "execution_count": 7,
   "id": "6570db77",
   "metadata": {},
   "outputs": [],
   "source": [
    "import sys, os\n",
    "from pathlib import Path\n",
    "\n",
    "sys.path.append(str(Path(os.path.abspath(\"\")).parent))\n"
   ]
  },
  {
   "cell_type": "code",
   "execution_count": 8,
   "id": "c50695ab",
   "metadata": {},
   "outputs": [],
   "source": [
    "from dataset import TorchMemoryDataset, BenchmarkType"
   ]
  },
  {
   "cell_type": "code",
   "execution_count": 9,
   "id": "a02f41ed",
   "metadata": {},
   "outputs": [
    {
     "name": "stdout",
     "output_type": "stream",
     "text": [
      "axiom_caption_test.txt\texample.txt\t      jjt_fof.txt\ttest.txt\r\n",
      "axiom_test.txt\t\tjjt_fof_half.txt      jjt_sine_1_0.txt\ttrain.txt\r\n",
      "deepmath.txt\t\tjjt_fof_other.txt     mizar40.txt\tvalidation.txt\r\n",
      "dev_100.txt\t\tjjt_fof_sine_1_0.txt  single.txt\r\n"
     ]
    }
   ],
   "source": [
    "!ls ../id_files"
   ]
  },
  {
   "cell_type": "code",
   "execution_count": null,
   "id": "40c4d05a",
   "metadata": {},
   "outputs": [],
   "source": []
  },
  {
   "cell_type": "code",
   "execution_count": null,
   "id": "8f2508a1",
   "metadata": {},
   "outputs": [],
   "source": []
  },
  {
   "cell_type": "code",
   "execution_count": null,
   "id": "67cabbff",
   "metadata": {},
   "outputs": [],
   "source": []
  },
  {
   "cell_type": "code",
   "execution_count": null,
   "id": "28f96145",
   "metadata": {},
   "outputs": [],
   "source": []
  },
  {
   "cell_type": "code",
   "execution_count": 10,
   "id": "09a26540",
   "metadata": {},
   "outputs": [],
   "source": [
    "dataset_path = '../unsupervised_data/train/'\n",
    "id_file = '../id_files/train.txt'"
   ]
  },
  {
   "cell_type": "code",
   "execution_count": 44,
   "id": "46c601db",
   "metadata": {},
   "outputs": [],
   "source": [
    "\n",
    "def get_pair_dataset(dataset, dataset_path) -> List[PairData]:\n",
    "    \n",
    "    # Get files\n",
    "    with open(os.path.join(dataset_path, 'target.pkl'), 'rb') as f:\n",
    "        targets = pickle.load(f)\n",
    "\n",
    "    with open(os.path.join(dataset_path, 'idx.pkl'), 'rb') as f:\n",
    "        ids = pickle.load(f)\n",
    "        \n",
    "    assert len(ids) == len(targets)\n",
    "    \n",
    "    \n",
    "    \n",
    "    # Load problem pairs\n",
    "    pair_list = []\n",
    "    for target, pair in zip(targets, ids):\n",
    "        # Get left and right graph in the pair\n",
    "        data_s = dataset.get(pair[0])\n",
    "        data_t = dataset.get(pair[1])\n",
    "\n",
    "        # Construct pair data point\n",
    "        data = PairData(edge_index_s=data_s.edge_index, x_s=data_s.x, \n",
    "                        edge_index_t=data_t.edge_index, x_t=data_t.x, \n",
    "                        y=target)\n",
    "\n",
    "        # Add to list\n",
    "        pair_list += [data]\n",
    "    \n",
    "    return pair_list"
   ]
  },
  {
   "cell_type": "code",
   "execution_count": 45,
   "id": "95f512d0",
   "metadata": {},
   "outputs": [
    {
     "data": {
      "text/plain": [
       "TorchPairDataset(100)"
      ]
     },
     "execution_count": 45,
     "metadata": {},
     "output_type": "execute_result"
    }
   ],
   "source": [
    "    \n",
    "dataset = TorchMemoryDataset(id_file) # TODO this should be loaded as normal\n",
    "\n",
    "pair_list = get_pair_dataset(dataset, dataset_path)\n",
    "data"
   ]
  },
  {
   "cell_type": "code",
   "execution_count": 46,
   "id": "9429743c",
   "metadata": {},
   "outputs": [],
   "source": [
    "loader = DataLoader(pair_list, batch_size=2, follow_batch=['x_s', 'x_t'])"
   ]
  },
  {
   "cell_type": "code",
   "execution_count": 47,
   "id": "921fe417",
   "metadata": {},
   "outputs": [
    {
     "name": "stdout",
     "output_type": "stream",
     "text": [
      "PairDataBatch(edge_index_s=[2, 1767], x_s=[1055], x_s_batch=[1055], x_s_ptr=[3], edge_index_t=[2, 1237], x_t=[793], x_t_batch=[793], x_t_ptr=[3], y=[2])\n"
     ]
    }
   ],
   "source": [
    "batch = next(iter(loader))\n",
    "\n",
    "print(batch)"
   ]
  },
  {
   "cell_type": "code",
   "execution_count": 49,
   "id": "36bf7a4f",
   "metadata": {},
   "outputs": [
    {
     "data": {
      "text/plain": [
       "tensor([[   0,    3,    4,  ..., 1053,  997, 1054],\n",
       "        [   1,    1,    2,  ..., 1051, 1053,  997]])"
      ]
     },
     "execution_count": 49,
     "metadata": {},
     "output_type": "execute_result"
    }
   ],
   "source": [
    "batch.edge_index_s"
   ]
  },
  {
   "cell_type": "code",
   "execution_count": null,
   "id": "809f9ab0",
   "metadata": {},
   "outputs": [],
   "source": []
  },
  {
   "cell_type": "code",
   "execution_count": null,
   "id": "71fdf576",
   "metadata": {},
   "outputs": [],
   "source": []
  },
  {
   "cell_type": "code",
   "execution_count": null,
   "id": "f049ae70",
   "metadata": {},
   "outputs": [],
   "source": []
  },
  {
   "cell_type": "code",
   "execution_count": 15,
   "id": "c91f59be",
   "metadata": {},
   "outputs": [],
   "source": [
    "from enum import Enum"
   ]
  },
  {
   "cell_type": "code",
   "execution_count": 16,
   "id": "60f46187",
   "metadata": {},
   "outputs": [],
   "source": [
    "class LearningTask(Enum):\n",
    "\n",
    "    PREMISE = \"premise\"\n",
    "    SIMILARITY = \"similarity\"\n",
    "\n",
    "    def __str__(self):\n",
    "        return self.value\n"
   ]
  },
  {
   "cell_type": "code",
   "execution_count": 17,
   "id": "62693478",
   "metadata": {},
   "outputs": [],
   "source": [
    "d = DataLoader(pair_list, batch_size=2, follow_batch=None)"
   ]
  },
  {
   "cell_type": "code",
   "execution_count": null,
   "id": "5d5c02ea",
   "metadata": {},
   "outputs": [],
   "source": []
  },
  {
   "cell_type": "code",
   "execution_count": null,
   "id": "a5a12879",
   "metadata": {},
   "outputs": [],
   "source": []
  },
  {
   "cell_type": "code",
   "execution_count": 18,
   "id": "dca33699",
   "metadata": {},
   "outputs": [
    {
     "data": {
      "text/plain": [
       "PairDataBatch(edge_index_s=[2, 1767], x_s=[2], edge_index_t=[2, 1237], x_t=[793], y=[2])"
      ]
     },
     "execution_count": 18,
     "metadata": {},
     "output_type": "execute_result"
    }
   ],
   "source": [
    "a = next(iter(d))\n",
    "a"
   ]
  },
  {
   "cell_type": "code",
   "execution_count": 19,
   "id": "e0525123",
   "metadata": {},
   "outputs": [
    {
     "data": {
      "text/plain": [
       "[Data(x=[552], edge_index=[2, 903], premise_index=[4], conjecture_index=[1], name='l87_oppcat_1', y=[4]),\n",
       " Data(x=[503], edge_index=[2, 864], premise_index=[16], conjecture_index=[1], name='t24_substlat', y=[16])]"
      ]
     },
     "execution_count": 19,
     "metadata": {},
     "output_type": "execute_result"
    }
   ],
   "source": [
    "a.x_s"
   ]
  },
  {
   "cell_type": "code",
   "execution_count": null,
   "id": "1e1f369c",
   "metadata": {},
   "outputs": [],
   "source": []
  },
  {
   "cell_type": "code",
   "execution_count": null,
   "id": "a97416f4",
   "metadata": {},
   "outputs": [],
   "source": []
  },
  {
   "cell_type": "code",
   "execution_count": null,
   "id": "36eadda8",
   "metadata": {},
   "outputs": [],
   "source": []
  },
  {
   "cell_type": "code",
   "execution_count": null,
   "id": "0ce17bda",
   "metadata": {},
   "outputs": [],
   "source": []
  },
  {
   "cell_type": "code",
   "execution_count": null,
   "id": "245dfca3",
   "metadata": {},
   "outputs": [],
   "source": []
  },
  {
   "cell_type": "code",
   "execution_count": 20,
   "id": "397c2d3d",
   "metadata": {},
   "outputs": [],
   "source": [
    "from torch_geometric.data import Dataset, InMemoryDataset"
   ]
  },
  {
   "cell_type": "code",
   "execution_count": 21,
   "id": "effc8e5e",
   "metadata": {},
   "outputs": [],
   "source": [
    "class MyOwnDataset(InMemoryDataset):\n",
    "    def __init__(self, transform=None, pre_transform=None):\n",
    "        super().__init__(None, transform, pre_transform)"
   ]
  },
  {
   "cell_type": "code",
   "execution_count": null,
   "id": "681ef992",
   "metadata": {},
   "outputs": [],
   "source": []
  },
  {
   "cell_type": "code",
   "execution_count": 22,
   "id": "5c9fc49b",
   "metadata": {},
   "outputs": [],
   "source": [
    "test = MyOwnDataset()"
   ]
  },
  {
   "cell_type": "code",
   "execution_count": 23,
   "id": "6b37ae9a",
   "metadata": {},
   "outputs": [
    {
     "data": {
      "text/plain": [
       "MyOwnDataset()"
      ]
     },
     "execution_count": 23,
     "metadata": {},
     "output_type": "execute_result"
    }
   ],
   "source": [
    "test"
   ]
  },
  {
   "cell_type": "code",
   "execution_count": null,
   "id": "82ef4596",
   "metadata": {},
   "outputs": [],
   "source": []
  },
  {
   "cell_type": "code",
   "execution_count": null,
   "id": "cb35de44",
   "metadata": {},
   "outputs": [],
   "source": []
  },
  {
   "cell_type": "code",
   "execution_count": null,
   "id": "d6fa075a",
   "metadata": {},
   "outputs": [],
   "source": []
  },
  {
   "cell_type": "code",
   "execution_count": null,
   "id": "81a62f95",
   "metadata": {},
   "outputs": [],
   "source": []
  },
  {
   "cell_type": "code",
   "execution_count": 24,
   "id": "78676d05",
   "metadata": {},
   "outputs": [],
   "source": [
    "class TorchPairDataset(InMemoryDataset):\n",
    "    \n",
    "    def __init__(self, data_pairs: List[PairData], id_file: str, benchmark_type: BenchmarkType = BenchmarkType.DEEPMATH):\n",
    "        \n",
    "\n",
    "        # Set the pair ids\n",
    "        self.pair_ids = list(map(str, range(0, len(data_pairs))))\n",
    "        \n",
    "        self.id_partition = Path(id_file).stem\n",
    "        self.benchmark_type = benchmark_type\n",
    "        \n",
    "        # TODO hack - might consume too much memory\n",
    "        self.data_pairs = data_pairs\n",
    "        \n",
    "        # Initialise the super\n",
    "        self.root = Path(\".\")\n",
    "        #super().__init__(self.root.name, transform, pre_transform)\n",
    "        super().__init__(self.root.name)\n",
    "        \n",
    "        # Start process of getting the data\n",
    "        self.data, self.slices = torch.load(self.processed_paths[0])\n",
    "        \n",
    "\n",
    "        \n",
    "    @property\n",
    "    def raw_file_names(self) -> List[str]:\n",
    "        return self.pair_ids\n",
    "\n",
    "    @property\n",
    "    def processed_file_names(self) -> List[str]:\n",
    "        # return [Path(prob).stem + \".pt\" for prob in self.problems]\n",
    "        return [f\"pair_{self.benchmark_type}_{self.id_partition}.pt\"]\n",
    "\n",
    "    \n",
    "    def len(self) -> int:\n",
    "        return len(self.raw_file_names)\n",
    "\n",
    "\n",
    "\n",
    "    def process(self):\n",
    "        # Read data into huge `Data` list.\n",
    "        data, slices = self.collate(self.data_pairs)\n",
    "        out = Path(self.processed_dir) / self.processed_file_names[0]\n",
    "        torch.save((data, slices), out)\n",
    "        del self.data_pairs\n"
   ]
  },
  {
   "cell_type": "code",
   "execution_count": null,
   "id": "4bf1685f",
   "metadata": {},
   "outputs": [],
   "source": []
  },
  {
   "cell_type": "code",
   "execution_count": null,
   "id": "159c9631",
   "metadata": {},
   "outputs": [],
   "source": []
  },
  {
   "cell_type": "code",
   "execution_count": null,
   "id": "db0ecb3d",
   "metadata": {},
   "outputs": [],
   "source": []
  },
  {
   "cell_type": "code",
   "execution_count": null,
   "id": "3f211be1",
   "metadata": {},
   "outputs": [],
   "source": []
  },
  {
   "cell_type": "code",
   "execution_count": 25,
   "id": "fb23edc6",
   "metadata": {},
   "outputs": [],
   "source": [
    "data = TorchPairDataset(pair_list, id_file)"
   ]
  },
  {
   "cell_type": "code",
   "execution_count": null,
   "id": "8e2ff9fa",
   "metadata": {},
   "outputs": [],
   "source": []
  },
  {
   "cell_type": "code",
   "execution_count": 39,
   "id": "5ccfbaf3",
   "metadata": {},
   "outputs": [
    {
     "data": {
      "text/plain": [
       "Data(x=[552], edge_index=[2, 903], premise_index=[4], conjecture_index=[1], name='l87_oppcat_1', y=[4])"
      ]
     },
     "execution_count": 39,
     "metadata": {},
     "output_type": "execute_result"
    }
   ],
   "source": [
    "next(iter(data)).x_s"
   ]
  },
  {
   "cell_type": "code",
   "execution_count": null,
   "id": "3372e799",
   "metadata": {},
   "outputs": [],
   "source": []
  },
  {
   "cell_type": "code",
   "execution_count": null,
   "id": "cd141362",
   "metadata": {},
   "outputs": [],
   "source": []
  },
  {
   "cell_type": "code",
   "execution_count": null,
   "id": "b5c1d497",
   "metadata": {},
   "outputs": [],
   "source": []
  },
  {
   "cell_type": "code",
   "execution_count": 26,
   "id": "e9fb2938",
   "metadata": {},
   "outputs": [
    {
     "data": {
      "text/plain": [
       "[PairData(edge_index_s=[2, 903], x_s=Data(x=[552], edge_index=[2, 903], premise_index=[4], conjecture_index=[1], name='l87_oppcat_1', y=[4]), edge_index_t=[2, 801], x_t=[510], y=39.480156),\n",
       " PairData(edge_index_s=[2, 864], x_s=Data(x=[503], edge_index=[2, 864], premise_index=[16], conjecture_index=[1], name='t24_substlat', y=[16]), edge_index_t=[2, 436], x_t=[283], y=28.310375),\n",
       " PairData(edge_index_s=[2, 2758], x_s=Data(x=[1650], edge_index=[2, 2758], premise_index=[22], conjecture_index=[1], name='t22_nfcont_1', y=[22]), edge_index_t=[2, 214], x_t=[141], y=37.670086),\n",
       " PairData(edge_index_s=[2, 1027], x_s=Data(x=[616], edge_index=[2, 1027], premise_index=[10], conjecture_index=[1], name='t72_filter_2', y=[10]), edge_index_t=[2, 1981], x_t=[1192], y=62.929962),\n",
       " PairData(edge_index_s=[2, 245], x_s=Data(x=[170], edge_index=[2, 245], premise_index=[6], conjecture_index=[1], name='t45_nat_1', y=[6]), edge_index_t=[2, 1362], x_t=[839], y=37.85287),\n",
       " PairData(edge_index_s=[2, 1393], x_s=Data(x=[861], edge_index=[2, 1393], premise_index=[12], conjecture_index=[1], name='t10_rlaffin2', y=[12]), edge_index_t=[2, 1369], x_t=[814], y=45.33252),\n",
       " PairData(edge_index_s=[2, 622], x_s=Data(x=[372], edge_index=[2, 622], premise_index=[12], conjecture_index=[1], name='t29_normform', y=[12]), edge_index_t=[2, 147], x_t=[88], y=30.074873),\n",
       " PairData(edge_index_s=[2, 1214], x_s=Data(x=[738], edge_index=[2, 1214], premise_index=[8], conjecture_index=[1], name='t68_rmod_2', y=[8]), edge_index_t=[2, 584], x_t=[342], y=55.341045),\n",
       " PairData(edge_index_s=[2, 1308], x_s=Data(x=[784], edge_index=[2, 1308], premise_index=[22], conjecture_index=[1], name='t58_rfunct_1', y=[22]), edge_index_t=[2, 1640], x_t=[892], y=60.796307),\n",
       " PairData(edge_index_s=[2, 657], x_s=Data(x=[425], edge_index=[2, 657], premise_index=[8], conjecture_index=[1], name='t60_circcomb', y=[8]), edge_index_t=[2, 472], x_t=[317], y=21.189857),\n",
       " PairData(edge_index_s=[2, 1380], x_s=Data(x=[838], edge_index=[2, 1380], premise_index=[14], conjecture_index=[1], name='t152_glib_001', y=[14]), edge_index_t=[2, 668], x_t=[445], y=42.34929),\n",
       " PairData(edge_index_s=[2, 1067], x_s=Data(x=[639], edge_index=[2, 1067], premise_index=[12], conjecture_index=[1], name='t6_domain_1', y=[12]), edge_index_t=[2, 825], x_t=[514], y=34.0401),\n",
       " PairData(edge_index_s=[2, 899], x_s=Data(x=[527], edge_index=[2, 899], premise_index=[6], conjecture_index=[1], name='t13_projred1', y=[6]), edge_index_t=[2, 369], x_t=[226], y=37.49888),\n",
       " PairData(edge_index_s=[2, 2112], x_s=Data(x=[1311], edge_index=[2, 2112], premise_index=[36], conjecture_index=[1], name='t9_descip_1', y=[36]), edge_index_t=[2, 577], x_t=[361], y=62.805252),\n",
       " PairData(edge_index_s=[2, 552], x_s=Data(x=[343], edge_index=[2, 552], premise_index=[2], conjecture_index=[1], name='t26_scmfsa8c', y=[2]), edge_index_t=[2, 511], x_t=[308], y=32.259346),\n",
       " PairData(edge_index_s=[2, 1509], x_s=Data(x=[922], edge_index=[2, 1509], premise_index=[24], conjecture_index=[1], name='t57_funcop_1', y=[24]), edge_index_t=[2, 3077], x_t=[1661], y=66.77308),\n",
       " PairData(edge_index_s=[2, 1289], x_s=Data(x=[822], edge_index=[2, 1289], premise_index=[16], conjecture_index=[1], name='t11_scmring3', y=[16]), edge_index_t=[2, 439], x_t=[292], y=45.582615),\n",
       " PairData(edge_index_s=[2, 742], x_s=Data(x=[499], edge_index=[2, 742], premise_index=[18], conjecture_index=[1], name='t16_ringcat1', y=[18]), edge_index_t=[2, 232], x_t=[137], y=39.852863),\n",
       " PairData(edge_index_s=[2, 644], x_s=Data(x=[392], edge_index=[2, 644], premise_index=[4], conjecture_index=[1], name='t9_kolmog01', y=[4]), edge_index_t=[2, 1605], x_t=[919], y=52.509853),\n",
       " PairData(edge_index_s=[2, 1638], x_s=Data(x=[1010], edge_index=[2, 1638], premise_index=[20], conjecture_index=[1], name='t11_catalan2', y=[20]), edge_index_t=[2, 698], x_t=[456], y=61.662304),\n",
       " PairData(edge_index_s=[2, 106], x_s=Data(x=[72], edge_index=[2, 106], premise_index=[2], conjecture_index=[1], name='t18_eqrel_1', y=[2]), edge_index_t=[2, 531], x_t=[334], y=24.189772),\n",
       " PairData(edge_index_s=[2, 2437], x_s=Data(x=[1435], edge_index=[2, 2437], premise_index=[18], conjecture_index=[1], name='t28_vectsp_6', y=[18]), edge_index_t=[2, 708], x_t=[446], y=70.6547),\n",
       " PairData(edge_index_s=[2, 3160], x_s=Data(x=[1898], edge_index=[2, 3160], premise_index=[28], conjecture_index=[1], name='l33_hahnban', y=[28]), edge_index_t=[2, 339], x_t=[214], y=48.352894),\n",
       " PairData(edge_index_s=[2, 247], x_s=Data(x=[167], edge_index=[2, 247], premise_index=[8], conjecture_index=[1], name='t28_coh_sp', y=[8]), edge_index_t=[2, 264], x_t=[176], y=4.8037086),\n",
       " PairData(edge_index_s=[2, 101], x_s=Data(x=[76], edge_index=[2, 101], premise_index=[2], conjecture_index=[1], name='t44_frechet2', y=[2]), edge_index_t=[2, 1508], x_t=[811], y=24.098991),\n",
       " PairData(edge_index_s=[2, 2178], x_s=Data(x=[1325], edge_index=[2, 2178], premise_index=[20], conjecture_index=[1], name='t8_scmfsa7b', y=[20]), edge_index_t=[2, 3916], x_t=[2026], y=99.52836),\n",
       " PairData(edge_index_s=[2, 1197], x_s=Data(x=[784], edge_index=[2, 1197], premise_index=[18], conjecture_index=[1], name='t40_bcialg_5', y=[18]), edge_index_t=[2, 1347], x_t=[855], y=35.436275),\n",
       " PairData(edge_index_s=[2, 412], x_s=Data(x=[291], edge_index=[2, 412], premise_index=[10], conjecture_index=[1], name='t51_tdlat_3', y=[10]), edge_index_t=[2, 1257], x_t=[756], y=40.90401),\n",
       " PairData(edge_index_s=[2, 797], x_s=Data(x=[524], edge_index=[2, 797], premise_index=[16], conjecture_index=[1], name='t25_pre_topc', y=[16]), edge_index_t=[2, 269], x_t=[181], y=35.901455),\n",
       " PairData(edge_index_s=[2, 198], x_s=Data(x=[130], edge_index=[2, 198], premise_index=[8], conjecture_index=[1], name='t52_card_1', y=[8]), edge_index_t=[2, 756], x_t=[518], y=34.075634),\n",
       " PairData(edge_index_s=[2, 167], x_s=Data(x=[113], edge_index=[2, 167], premise_index=[6], conjecture_index=[1], name='t21_sincos10', y=[6]), edge_index_t=[2, 4099], x_t=[2466], y=36.71287),\n",
       " PairData(edge_index_s=[2, 114], x_s=Data(x=[77], edge_index=[2, 114], premise_index=[4], conjecture_index=[1], name='t29_enumset1', y=[4]), edge_index_t=[2, 558], x_t=[324], y=23.579765),\n",
       " PairData(edge_index_s=[2, 617], x_s=Data(x=[377], edge_index=[2, 617], premise_index=[2], conjecture_index=[1], name='l29_waybel_5', y=[2]), edge_index_t=[2, 483], x_t=[316], y=16.355497),\n",
       " PairData(edge_index_s=[2, 2401], x_s=Data(x=[1452], edge_index=[2, 2401], premise_index=[20], conjecture_index=[1], name='t47_scmpds_6', y=[20]), edge_index_t=[2, 316], x_t=[212], y=45.014507),\n",
       " PairData(edge_index_s=[2, 1646], x_s=Data(x=[948], edge_index=[2, 1646], premise_index=[16], conjecture_index=[1], name='t28_pdiff_5', y=[16]), edge_index_t=[2, 216], x_t=[139], y=37.38986),\n",
       " PairData(edge_index_s=[2, 639], x_s=Data(x=[386], edge_index=[2, 639], premise_index=[8], conjecture_index=[1], name='t77_group_3', y=[8]), edge_index_t=[2, 277], x_t=[185], y=28.452951),\n",
       " PairData(edge_index_s=[2, 716], x_s=Data(x=[442], edge_index=[2, 716], premise_index=[6], conjecture_index=[1], name='t10_fomodel4', y=[6]), edge_index_t=[2, 2309], x_t=[1345], y=60.56035),\n",
       " PairData(edge_index_s=[2, 1207], x_s=Data(x=[735], edge_index=[2, 1207], premise_index=[20], conjecture_index=[1], name='t18_armstrng', y=[20]), edge_index_t=[2, 1727], x_t=[1102], y=59.496246),\n",
       " PairData(edge_index_s=[2, 1556], x_s=Data(x=[897], edge_index=[2, 1556], premise_index=[10], conjecture_index=[1], name='t50_afproj', y=[10]), edge_index_t=[2, 1477], x_t=[944], y=60.176834),\n",
       " PairData(edge_index_s=[2, 640], x_s=Data(x=[438], edge_index=[2, 640], premise_index=[28], conjecture_index=[1], name='t48_prepower', y=[28]), edge_index_t=[2, 236], x_t=[158], y=33.378723),\n",
       " PairData(edge_index_s=[2, 1127], x_s=Data(x=[655], edge_index=[2, 1127], premise_index=[14], conjecture_index=[1], name='t56_setlim_1', y=[14]), edge_index_t=[2, 1002], x_t=[577], y=34.49454),\n",
       " PairData(edge_index_s=[2, 561], x_s=Data(x=[351], edge_index=[2, 561], premise_index=[4], conjecture_index=[1], name='t40_rewrite3', y=[4]), edge_index_t=[2, 421], x_t=[277], y=16.759563),\n",
       " PairData(edge_index_s=[2, 859], x_s=Data(x=[509], edge_index=[2, 859], premise_index=[14], conjecture_index=[1], name='t59_pboole', y=[14]), edge_index_t=[2, 652], x_t=[428], y=22.04512),\n",
       " PairData(edge_index_s=[2, 526], x_s=Data(x=[333], edge_index=[2, 526], premise_index=[8], conjecture_index=[1], name='t6_waybel11', y=[8]), edge_index_t=[2, 456], x_t=[275], y=21.730827),\n",
       " PairData(edge_index_s=[2, 1611], x_s=Data(x=[964], edge_index=[2, 1611], premise_index=[8], conjecture_index=[1], name='t17_hilbasis', y=[8]), edge_index_t=[2, 2704], x_t=[1554], y=74.13067),\n",
       " PairData(edge_index_s=[2, 891], x_s=Data(x=[547], edge_index=[2, 891], premise_index=[20], conjecture_index=[1], name='t43_tops_1', y=[20]), edge_index_t=[2, 1024], x_t=[628], y=31.800434),\n",
       " PairData(edge_index_s=[2, 1187], x_s=Data(x=[751], edge_index=[2, 1187], premise_index=[20], conjecture_index=[1], name='t80_group_5', y=[20]), edge_index_t=[2, 686], x_t=[444], y=40.56916),\n",
       " PairData(edge_index_s=[2, 1676], x_s=Data(x=[1046], edge_index=[2, 1676], premise_index=[18], conjecture_index=[1], name='t33_pdiff_6', y=[18]), edge_index_t=[2, 1131], x_t=[654], y=69.94571),\n",
       " PairData(edge_index_s=[2, 489], x_s=Data(x=[322], edge_index=[2, 489], premise_index=[12], conjecture_index=[1], name='t67_orders_1', y=[12]), edge_index_t=[2, 1333], x_t=[844], y=49.553616),\n",
       " PairData(edge_index_s=[2, 1012], x_s=Data(x=[587], edge_index=[2, 1012], premise_index=[16], conjecture_index=[1], name='l69_hilbert1', y=[16]), edge_index_t=[2, 737], x_t=[457], y=27.360807),\n",
       " PairData(edge_index_s=[2, 1629], x_s=Data(x=[1059], edge_index=[2, 1629], premise_index=[26], conjecture_index=[1], name='t12_afinsq_2', y=[26]), edge_index_t=[2, 1124], x_t=[705], y=69.0165),\n",
       " PairData(edge_index_s=[2, 796], x_s=Data(x=[488], edge_index=[2, 796], premise_index=[14], conjecture_index=[1], name='t6_scm_inst', y=[14]), edge_index_t=[2, 1054], x_t=[672], y=46.559822),\n",
       " PairData(edge_index_s=[2, 465], x_s=Data(x=[298], edge_index=[2, 465], premise_index=[6], conjecture_index=[1], name='t13_waybel_8', y=[6]), edge_index_t=[2, 223], x_t=[142], y=27.570063),\n",
       " PairData(edge_index_s=[2, 140], x_s=Data(x=[101], edge_index=[2, 140], premise_index=[8], conjecture_index=[1], name='t41_relat_1', y=[8]), edge_index_t=[2, 888], x_t=[551], y=29.336561),\n",
       " PairData(edge_index_s=[2, 2102], x_s=Data(x=[1211], edge_index=[2, 2102], premise_index=[14], conjecture_index=[1], name='t1_transgeo', y=[14]), edge_index_t=[2, 778], x_t=[487], y=59.066303),\n",
       " PairData(edge_index_s=[2, 1018], x_s=Data(x=[566], edge_index=[2, 1018], premise_index=[4], conjecture_index=[1], name='t16_projred1', y=[4]), edge_index_t=[2, 1112], x_t=[706], y=57.065506),\n",
       " PairData(edge_index_s=[2, 2202], x_s=Data(x=[1322], edge_index=[2, 2202], premise_index=[24], conjecture_index=[1], name='t30_helly', y=[24]), edge_index_t=[2, 785], x_t=[476], y=65.60115),\n",
       " PairData(edge_index_s=[2, 1275], x_s=Data(x=[709], edge_index=[2, 1275], premise_index=[12], conjecture_index=[1], name='t87_pboole', y=[12]), edge_index_t=[2, 1657], x_t=[938], y=67.120476),\n",
       " PairData(edge_index_s=[2, 654], x_s=Data(x=[440], edge_index=[2, 654], premise_index=[16], conjecture_index=[1], name='t71_pnproc_1', y=[16]), edge_index_t=[2, 287], x_t=[192], y=37.10276),\n",
       " PairData(edge_index_s=[2, 3845], x_s=Data(x=[2382], edge_index=[2, 3845], premise_index=[32], conjecture_index=[1], name='t22_normsp_2', y=[32]), edge_index_t=[2, 1441], x_t=[893], y=94.647385),\n",
       " PairData(edge_index_s=[2, 304], x_s=Data(x=[194], edge_index=[2, 304], premise_index=[4], conjecture_index=[1], name='l97_o_ring_1', y=[4]), edge_index_t=[2, 412], x_t=[270], y=20.280237),\n",
       " PairData(edge_index_s=[2, 1014], x_s=Data(x=[632], edge_index=[2, 1014], premise_index=[8], conjecture_index=[1], name='t36_circtrm1', y=[8]), edge_index_t=[2, 1885], x_t=[1087], y=51.69922),\n",
       " PairData(edge_index_s=[2, 748], x_s=Data(x=[439], edge_index=[2, 748], premise_index=[14], conjecture_index=[1], name='t30_hilbert1', y=[14]), edge_index_t=[2, 533], x_t=[328], y=27.515287),\n",
       " PairData(edge_index_s=[2, 3648], x_s=Data(x=[2194], edge_index=[2, 3648], premise_index=[36], conjecture_index=[1], name='t26_funcsdom', y=[36]), edge_index_t=[2, 893], x_t=[574], y=75.84989),\n",
       " PairData(edge_index_s=[2, 2677], x_s=Data(x=[1594], edge_index=[2, 2677], premise_index=[22], conjecture_index=[1], name='t28_quofield', y=[22]), edge_index_t=[2, 1549], x_t=[913], y=108.28573),\n",
       " PairData(edge_index_s=[2, 3374], x_s=Data(x=[1797], edge_index=[2, 3374], premise_index=[36], conjecture_index=[1], name='t37_comseq_1', y=[36]), edge_index_t=[2, 2593], x_t=[1418], y=92.33764),\n",
       " PairData(edge_index_s=[2, 505], x_s=Data(x=[341], edge_index=[2, 505], premise_index=[18], conjecture_index=[1], name='t2_ordinal2', y=[18]), edge_index_t=[2, 74], x_t=[56], y=20.74642),\n",
       " PairData(edge_index_s=[2, 2189], x_s=Data(x=[1322], edge_index=[2, 2189], premise_index=[24], conjecture_index=[1], name='t1_lattice7', y=[24]), edge_index_t=[2, 703], x_t=[438], y=62.03481),\n",
       " PairData(edge_index_s=[2, 335], x_s=Data(x=[224], edge_index=[2, 335], premise_index=[4], conjecture_index=[1], name='t33_yellow19', y=[4]), edge_index_t=[2, 331], x_t=[230], y=7.562473),\n",
       " PairData(edge_index_s=[2, 151], x_s=Data(x=[109], edge_index=[2, 151], premise_index=[6], conjecture_index=[1], name='t131_zfmisc_1', y=[6]), edge_index_t=[2, 6136], x_t=[3197], y=31.054949),\n",
       " PairData(edge_index_s=[2, 1501], x_s=Data(x=[918], edge_index=[2, 1501], premise_index=[16], conjecture_index=[1], name='t71_tex_4', y=[16]), edge_index_t=[2, 928], x_t=[597], y=44.701973),\n",
       " PairData(edge_index_s=[2, 420], x_s=Data(x=[272], edge_index=[2, 420], premise_index=[8], conjecture_index=[1], name='l9_rfinseq', y=[8]), edge_index_t=[2, 804], x_t=[461], y=26.561922),\n",
       " PairData(edge_index_s=[2, 923], x_s=Data(x=[613], edge_index=[2, 923], premise_index=[34], conjecture_index=[1], name='t22_toprealb', y=[34]), edge_index_t=[2, 1183], x_t=[713], y=35.05436),\n",
       " PairData(edge_index_s=[2, 304], x_s=Data(x=[194], edge_index=[2, 304], premise_index=[4], conjecture_index=[1], name='t23_o_ring_1', y=[4]), edge_index_t=[2, 1135], x_t=[683], y=39.756794),\n",
       " PairData(edge_index_s=[2, 585], x_s=Data(x=[354], edge_index=[2, 585], premise_index=[10], conjecture_index=[1], name='t9_hilbert1', y=[10]), edge_index_t=[2, 186], x_t=[112], y=31.600872),\n",
       " PairData(edge_index_s=[2, 216], x_s=Data(x=[141], edge_index=[2, 216], premise_index=[4], conjecture_index=[1], name='t11_fintopo6', y=[4]), edge_index_t=[2, 1018], x_t=[619], y=34.58367),\n",
       " PairData(edge_index_s=[2, 1586], x_s=Data(x=[819], edge_index=[2, 1586], premise_index=[4], conjecture_index=[1], name='t38_semi_af1', y=[4]), edge_index_t=[2, 276], x_t=[183], y=37.365147),\n",
       " PairData(edge_index_s=[2, 85], x_s=Data(x=[60], edge_index=[2, 85], premise_index=[2], conjecture_index=[1], name='l70_xcmplx_1', y=[2]), edge_index_t=[2, 1584], x_t=[984], y=24.399391),\n",
       " PairData(edge_index_s=[2, 476], x_s=Data(x=[297], edge_index=[2, 476], premise_index=[4], conjecture_index=[1], name='t17_rewrite3', y=[4]), edge_index_t=[2, 1359], x_t=[853], y=48.41438),\n",
       " PairData(edge_index_s=[2, 259], x_s=Data(x=[157], edge_index=[2, 259], premise_index=[4], conjecture_index=[1], name='t69_arytm_3', y=[4]), edge_index_t=[2, 409], x_t=[261], y=28.898687),\n",
       " PairData(edge_index_s=[2, 1386], x_s=Data(x=[817], edge_index=[2, 1386], premise_index=[10], conjecture_index=[1], name='t13_matrix16', y=[10]), edge_index_t=[2, 3060], x_t=[1846], y=88.36386),\n",
       " PairData(edge_index_s=[2, 365], x_s=Data(x=[228], edge_index=[2, 365], premise_index=[6], conjecture_index=[1], name='l2_xreal_1', y=[6]), edge_index_t=[2, 330], x_t=[208], y=11.876292),\n",
       " PairData(edge_index_s=[2, 1900], x_s=Data(x=[1168], edge_index=[2, 1900], premise_index=[20], conjecture_index=[1], name='t58_rusub_1', y=[20]), edge_index_t=[2, 758], x_t=[471], y=61.32875),\n",
       " PairData(edge_index_s=[2, 1272], x_s=Data(x=[774], edge_index=[2, 1272], premise_index=[10], conjecture_index=[1], name='t18_finseq_8', y=[10]), edge_index_t=[2, 2277], x_t=[1405], y=67.62013),\n",
       " PairData(edge_index_s=[2, 427], x_s=Data(x=[261], edge_index=[2, 427], premise_index=[4], conjecture_index=[1], name='t44_aff_1', y=[4]), edge_index_t=[2, 453], x_t=[268], y=9.358107),\n",
       " PairData(edge_index_s=[2, 1227], x_s=Data(x=[726], edge_index=[2, 1227], premise_index=[4], conjecture_index=[1], name='t3_groeb_1', y=[4]), edge_index_t=[2, 2143], x_t=[1300], y=70.68312),\n",
       " PairData(edge_index_s=[2, 440], x_s=Data(x=[279], edge_index=[2, 440], premise_index=[8], conjecture_index=[1], name='t116_xcmplx_1', y=[8]), edge_index_t=[2, 1797], x_t=[1090], y=54.790806),\n",
       " PairData(edge_index_s=[2, 2562], x_s=Data(x=[1528], edge_index=[2, 2562], premise_index=[24], conjecture_index=[1], name='t95_glib_000', y=[24]), edge_index_t=[2, 1667], x_t=[1030], y=74.65075),\n",
       " PairData(edge_index_s=[2, 1180], x_s=Data(x=[721], edge_index=[2, 1180], premise_index=[26], conjecture_index=[1], name='t68_euclid_8', y=[26]), edge_index_t=[2, 847], x_t=[472], y=63.967716),\n",
       " PairData(edge_index_s=[2, 1238], x_s=Data(x=[770], edge_index=[2, 1238], premise_index=[16], conjecture_index=[1], name='t46_topgrp_1', y=[16]), edge_index_t=[2, 2022], x_t=[1250], y=58.98068),\n",
       " PairData(edge_index_s=[2, 579], x_s=Data(x=[399], edge_index=[2, 579], premise_index=[16], conjecture_index=[1], name='l21_scm_inst', y=[16]), edge_index_t=[2, 244], x_t=[168], y=32.170547),\n",
       " PairData(edge_index_s=[2, 1861], x_s=Data(x=[1039], edge_index=[2, 1861], premise_index=[12], conjecture_index=[1], name='t7_euclmetr', y=[12]), edge_index_t=[2, 433], x_t=[286], y=46.87519),\n",
       " PairData(edge_index_s=[2, 136], x_s=Data(x=[93], edge_index=[2, 136], premise_index=[4], conjecture_index=[1], name='t31_xtuple_0', y=[4]), edge_index_t=[2, 1386], x_t=[871], y=29.500162),\n",
       " PairData(edge_index_s=[2, 563], x_s=Data(x=[370], edge_index=[2, 563], premise_index=[8], conjecture_index=[1], name='t19_unialg_2', y=[8]), edge_index_t=[2, 995], x_t=[595], y=34.902218),\n",
       " PairData(edge_index_s=[2, 4099], x_s=Data(x=[2466], edge_index=[2, 4099], premise_index=[36], conjecture_index=[1], name='t35_clopban3', y=[36]), edge_index_t=[2, 1683], x_t=[1053], y=95.502754),\n",
       " PairData(edge_index_s=[2, 217], x_s=Data(x=[146], edge_index=[2, 217], premise_index=[6], conjecture_index=[1], name='t14_funct_5', y=[6]), edge_index_t=[2, 840], x_t=[479], y=32.6736),\n",
       " PairData(edge_index_s=[2, 1958], x_s=Data(x=[1257], edge_index=[2, 1958], premise_index=[40], conjecture_index=[1], name='t59_compos_1', y=[40]), edge_index_t=[2, 802], x_t=[503], y=69.00891),\n",
       " PairData(edge_index_s=[2, 701], x_s=Data(x=[432], edge_index=[2, 701], premise_index=[8], conjecture_index=[1], name='l22_topdim_1', y=[8]), edge_index_t=[2, 558], x_t=[312], y=33.597183),\n",
       " PairData(edge_index_s=[2, 1229], x_s=Data(x=[751], edge_index=[2, 1229], premise_index=[16], conjecture_index=[1], name='t51_topreal9', y=[16]), edge_index_t=[2, 1100], x_t=[653], y=34.9462),\n",
       " PairData(edge_index_s=[2, 756], x_s=Data(x=[434], edge_index=[2, 756], premise_index=[10], conjecture_index=[1], name='t65_intpro_1', y=[10]), edge_index_t=[2, 977], x_t=[623], y=60.064293)]"
      ]
     },
     "execution_count": 26,
     "metadata": {},
     "output_type": "execute_result"
    }
   ],
   "source": [
    "pair_list"
   ]
  },
  {
   "cell_type": "code",
   "execution_count": 27,
   "id": "e9ef3c34",
   "metadata": {},
   "outputs": [],
   "source": [
    "d = next(iter(data))"
   ]
  },
  {
   "cell_type": "code",
   "execution_count": 28,
   "id": "eaf91d9a",
   "metadata": {},
   "outputs": [
    {
     "data": {
      "text/plain": [
       "tensor([[  0,   3,   4,  ..., 550, 463, 551],\n",
       "        [  1,   1,   2,  ..., 517, 550, 463]])"
      ]
     },
     "execution_count": 28,
     "metadata": {},
     "output_type": "execute_result"
    }
   ],
   "source": [
    "d.edge_index_s"
   ]
  },
  {
   "cell_type": "code",
   "execution_count": null,
   "id": "a8c2ca5e",
   "metadata": {},
   "outputs": [],
   "source": []
  },
  {
   "cell_type": "code",
   "execution_count": null,
   "id": "bde01198",
   "metadata": {},
   "outputs": [],
   "source": []
  },
  {
   "cell_type": "code",
   "execution_count": null,
   "id": "3a8d2fb3",
   "metadata": {},
   "outputs": [],
   "source": []
  },
  {
   "cell_type": "code",
   "execution_count": null,
   "id": "a357aca8",
   "metadata": {},
   "outputs": [],
   "source": []
  },
  {
   "cell_type": "code",
   "execution_count": 29,
   "id": "a77f1497",
   "metadata": {},
   "outputs": [
    {
     "data": {
      "text/plain": [
       "Data(x=[552], edge_index=[2, 903], premise_index=[4], conjecture_index=[1], name='l87_oppcat_1', y=[4])"
      ]
     },
     "execution_count": 29,
     "metadata": {},
     "output_type": "execute_result"
    }
   ],
   "source": [
    "d.x_s"
   ]
  },
  {
   "cell_type": "code",
   "execution_count": null,
   "id": "7d6f1fd3",
   "metadata": {},
   "outputs": [],
   "source": []
  },
  {
   "cell_type": "code",
   "execution_count": null,
   "id": "41e48757",
   "metadata": {},
   "outputs": [],
   "source": []
  },
  {
   "cell_type": "code",
   "execution_count": 30,
   "id": "855f1bb6",
   "metadata": {},
   "outputs": [
    {
     "data": {
      "text/plain": [
       "5"
      ]
     },
     "execution_count": 30,
     "metadata": {},
     "output_type": "execute_result"
    }
   ],
   "source": [
    "len(d)"
   ]
  },
  {
   "cell_type": "code",
   "execution_count": 31,
   "id": "b9ecfd6f",
   "metadata": {},
   "outputs": [
    {
     "data": {
      "text/plain": [
       "PairData(edge_index_s=[2, 903], x_s=Data(x=[552], edge_index=[2, 903], premise_index=[4], conjecture_index=[1], name='l87_oppcat_1', y=[4]), edge_index_t=[2, 801], x_t=[510], y=39.480156)"
      ]
     },
     "execution_count": 31,
     "metadata": {},
     "output_type": "execute_result"
    }
   ],
   "source": [
    "d"
   ]
  },
  {
   "cell_type": "code",
   "execution_count": null,
   "id": "ef40a24b",
   "metadata": {},
   "outputs": [],
   "source": []
  },
  {
   "cell_type": "code",
   "execution_count": null,
   "id": "c2dd3285",
   "metadata": {},
   "outputs": [],
   "source": []
  },
  {
   "cell_type": "code",
   "execution_count": null,
   "id": "05d86cdd",
   "metadata": {},
   "outputs": [],
   "source": []
  },
  {
   "cell_type": "code",
   "execution_count": null,
   "id": "37aa278f",
   "metadata": {},
   "outputs": [],
   "source": []
  },
  {
   "cell_type": "code",
   "execution_count": 32,
   "id": "17ac7672",
   "metadata": {},
   "outputs": [],
   "source": [
    "#DataLoader(pair_list, id_file)"
   ]
  },
  {
   "cell_type": "code",
   "execution_count": null,
   "id": "ee95293e",
   "metadata": {},
   "outputs": [],
   "source": []
  },
  {
   "cell_type": "code",
   "execution_count": 33,
   "id": "2c8e93e0",
   "metadata": {},
   "outputs": [],
   "source": [
    "def get_default_args(func):\n",
    "    signature = inspect.signature(func)\n",
    "    return {\n",
    "        k: v.default\n",
    "        for k, v in signature.parameters.items()\n",
    "        if v.default is not inspect.Parameter.empty\n",
    "    }"
   ]
  },
  {
   "cell_type": "code",
   "execution_count": 34,
   "id": "3cf938c9",
   "metadata": {},
   "outputs": [
    {
     "ename": "TypeError",
     "evalue": "DataLoader.__init__() missing 1 required positional argument: 'dataset'",
     "output_type": "error",
     "traceback": [
      "\u001b[0;31m---------------------------------------------------------------------------\u001b[0m",
      "\u001b[0;31mTypeError\u001b[0m                                 Traceback (most recent call last)",
      "Cell \u001b[0;32mIn[34], line 1\u001b[0m\n\u001b[0;32m----> 1\u001b[0m get_default_args(\u001b[43mDataLoader\u001b[49m\u001b[43m(\u001b[49m\u001b[43m)\u001b[49m)\n",
      "\u001b[0;31mTypeError\u001b[0m: DataLoader.__init__() missing 1 required positional argument: 'dataset'"
     ]
    }
   ],
   "source": [
    "get_default_args(DataLoader())"
   ]
  },
  {
   "cell_type": "code",
   "execution_count": null,
   "id": "571c8f48",
   "metadata": {},
   "outputs": [],
   "source": []
  },
  {
   "cell_type": "code",
   "execution_count": null,
   "id": "fa496429",
   "metadata": {},
   "outputs": [],
   "source": [
    "d = DataLoader(pair_list, batch_size=2)"
   ]
  },
  {
   "cell_type": "code",
   "execution_count": null,
   "id": "07514485",
   "metadata": {},
   "outputs": [],
   "source": [
    "d.__dict__"
   ]
  },
  {
   "cell_type": "code",
   "execution_count": null,
   "id": "b3fc7efb",
   "metadata": {},
   "outputs": [],
   "source": []
  },
  {
   "cell_type": "code",
   "execution_count": null,
   "id": "9536bf26",
   "metadata": {},
   "outputs": [],
   "source": []
  },
  {
   "cell_type": "code",
   "execution_count": null,
   "id": "582b6f35",
   "metadata": {},
   "outputs": [],
   "source": []
  },
  {
   "cell_type": "code",
   "execution_count": null,
   "id": "862d83af",
   "metadata": {},
   "outputs": [],
   "source": []
  },
  {
   "cell_type": "code",
   "execution_count": null,
   "id": "f4da380a",
   "metadata": {},
   "outputs": [],
   "source": [
    "dataset_path = '../unsupervised_data/validation/'\n",
    "# Get files\n",
    "with open(os.path.join(dataset_path, 'target.pkl'), 'rb') as f:\n",
    "    targets = pickle.load(f)"
   ]
  },
  {
   "cell_type": "code",
   "execution_count": null,
   "id": "8b8665a6",
   "metadata": {},
   "outputs": [],
   "source": [
    "targets"
   ]
  },
  {
   "cell_type": "code",
   "execution_count": null,
   "id": "9ceab069",
   "metadata": {},
   "outputs": [],
   "source": []
  },
  {
   "cell_type": "code",
   "execution_count": null,
   "id": "72c41445",
   "metadata": {},
   "outputs": [],
   "source": []
  },
  {
   "cell_type": "code",
   "execution_count": null,
   "id": "9990efe4",
   "metadata": {},
   "outputs": [],
   "source": []
  },
  {
   "cell_type": "code",
   "execution_count": null,
   "id": "41d1fce5",
   "metadata": {},
   "outputs": [],
   "source": [
    "len(pair_list)"
   ]
  },
  {
   "cell_type": "code",
   "execution_count": null,
   "id": "7f8c7467",
   "metadata": {},
   "outputs": [],
   "source": [
    "len()"
   ]
  },
  {
   "cell_type": "code",
   "execution_count": null,
   "id": "3ef01548",
   "metadata": {},
   "outputs": [],
   "source": []
  },
  {
   "cell_type": "code",
   "execution_count": null,
   "id": "1dc0cd56",
   "metadata": {},
   "outputs": [],
   "source": []
  },
  {
   "cell_type": "code",
   "execution_count": null,
   "id": "1ce00ac9",
   "metadata": {},
   "outputs": [],
   "source": []
  },
  {
   "cell_type": "code",
   "execution_count": null,
   "id": "dedab0ee",
   "metadata": {},
   "outputs": [],
   "source": []
  },
  {
   "cell_type": "code",
   "execution_count": null,
   "id": "d7602bf9",
   "metadata": {},
   "outputs": [],
   "source": []
  },
  {
   "cell_type": "code",
   "execution_count": null,
   "id": "c1863eee",
   "metadata": {},
   "outputs": [],
   "source": []
  }
 ],
 "metadata": {
  "kernelspec": {
   "display_name": "Python 3 (ipykernel)",
   "language": "python",
   "name": "python3"
  },
  "language_info": {
   "codemirror_mode": {
    "name": "ipython",
    "version": 3
   },
   "file_extension": ".py",
   "mimetype": "text/x-python",
   "name": "python",
   "nbconvert_exporter": "python",
   "pygments_lexer": "ipython3",
   "version": "3.10.8"
  }
 },
 "nbformat": 4,
 "nbformat_minor": 5
}
